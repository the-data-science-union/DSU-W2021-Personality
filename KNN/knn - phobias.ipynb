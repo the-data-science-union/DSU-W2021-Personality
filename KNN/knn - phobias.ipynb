{
 "cells": [
  {
   "cell_type": "code",
   "execution_count": 1,
   "metadata": {},
   "outputs": [],
   "source": [
    "import numpy as np\n",
    "import pandas as pd"
   ]
  },
  {
   "cell_type": "code",
   "execution_count": 2,
   "metadata": {},
   "outputs": [],
   "source": [
    "personality_questions = pd.read_csv('cleaned_youngpeople_data.csv')"
   ]
  },
  {
   "cell_type": "code",
   "execution_count": 3,
   "metadata": {},
   "outputs": [
    {
     "data": {
      "text/plain": [
       "['Music',\n",
       " 'Slow songs or fast songs',\n",
       " 'Dance',\n",
       " 'Folk',\n",
       " 'Country',\n",
       " 'Classical music',\n",
       " 'Musical',\n",
       " 'Pop',\n",
       " 'Rock',\n",
       " 'Metal or Hardrock',\n",
       " 'Punk',\n",
       " 'Hiphop, Rap',\n",
       " 'Reggae, Ska',\n",
       " 'Swing, Jazz',\n",
       " 'Rock n roll',\n",
       " 'Alternative',\n",
       " 'Latino',\n",
       " 'Techno, Trance',\n",
       " 'Opera',\n",
       " 'Movies',\n",
       " 'Horror',\n",
       " 'Thriller',\n",
       " 'Comedy',\n",
       " 'Romantic',\n",
       " 'Sci-fi',\n",
       " 'War',\n",
       " 'Fantasy/Fairy tales',\n",
       " 'Animated',\n",
       " 'Documentary',\n",
       " 'Western',\n",
       " 'Action',\n",
       " 'History',\n",
       " 'Psychology',\n",
       " 'Politics',\n",
       " 'Mathematics',\n",
       " 'Physics',\n",
       " 'Internet',\n",
       " 'PC',\n",
       " 'Economy Management',\n",
       " 'Biology',\n",
       " 'Chemistry',\n",
       " 'Reading',\n",
       " 'Geography',\n",
       " 'Foreign languages',\n",
       " 'Medicine',\n",
       " 'Law',\n",
       " 'Cars',\n",
       " 'Art exhibitions',\n",
       " 'Religion',\n",
       " 'Countryside, outdoors',\n",
       " 'Dancing',\n",
       " 'Musical instruments',\n",
       " 'Writing',\n",
       " 'Passive sport',\n",
       " 'Active sport',\n",
       " 'Gardening',\n",
       " 'Celebrities',\n",
       " 'Shopping',\n",
       " 'Science and technology',\n",
       " 'Theatre',\n",
       " 'Fun with friends',\n",
       " 'Adrenaline sports',\n",
       " 'Pets',\n",
       " 'Flying',\n",
       " 'Storm',\n",
       " 'Darkness',\n",
       " 'Heights',\n",
       " 'Spiders',\n",
       " 'Snakes',\n",
       " 'Rats',\n",
       " 'Ageing',\n",
       " 'Dangerous dogs',\n",
       " 'Fear of public speaking',\n",
       " 'Smoking',\n",
       " 'Alcohol',\n",
       " 'Healthy eating',\n",
       " 'Daily events',\n",
       " 'Prioritising workload',\n",
       " 'Writing notes',\n",
       " 'Workaholism',\n",
       " 'Thinking ahead',\n",
       " 'Final judgement',\n",
       " 'Reliability',\n",
       " 'Keeping promises',\n",
       " 'Loss of interest',\n",
       " 'Friends versus money',\n",
       " 'Funniness',\n",
       " 'Fake',\n",
       " 'Criminal damage',\n",
       " 'Decision making',\n",
       " 'Elections',\n",
       " 'Self-criticism',\n",
       " 'Judgment calls',\n",
       " 'Hypochondria',\n",
       " 'Empathy',\n",
       " 'Eating to survive',\n",
       " 'Giving',\n",
       " 'Compassion to animals',\n",
       " 'Borrowed stuff',\n",
       " 'Loneliness',\n",
       " 'Cheating in school',\n",
       " 'Health',\n",
       " 'Changing the past',\n",
       " 'God',\n",
       " 'Dreams',\n",
       " 'Charity',\n",
       " 'Number of friends',\n",
       " 'Punctuality',\n",
       " 'Lying',\n",
       " 'Waiting',\n",
       " 'New environment',\n",
       " 'Mood swings',\n",
       " 'Appearence and gestures',\n",
       " 'Socializing',\n",
       " 'Achievements',\n",
       " 'Responding to a serious letter',\n",
       " 'Children',\n",
       " 'Assertiveness',\n",
       " 'Getting angry',\n",
       " 'Knowing the right people',\n",
       " 'Public speaking',\n",
       " 'Unpopularity',\n",
       " 'Life struggles',\n",
       " 'Happiness in life',\n",
       " 'Energy levels',\n",
       " 'Small - big dogs',\n",
       " 'Personality',\n",
       " 'Finding lost valuables',\n",
       " 'Getting up',\n",
       " 'Interests or hobbies',\n",
       " \"Parents' advice\",\n",
       " 'Questionnaires or polls',\n",
       " 'Internet usage',\n",
       " 'Finances',\n",
       " 'Shopping centres',\n",
       " 'Branded clothing',\n",
       " 'Entertainment spending',\n",
       " 'Spending on looks',\n",
       " 'Spending on gadgets',\n",
       " 'Spending on healthy eating',\n",
       " 'Age',\n",
       " 'Height',\n",
       " 'Weight',\n",
       " 'Number of siblings',\n",
       " 'Gender',\n",
       " 'Left - right handed',\n",
       " 'Education',\n",
       " 'Only child',\n",
       " 'Village - town',\n",
       " 'House - block of flats']"
      ]
     },
     "execution_count": 3,
     "metadata": {},
     "output_type": "execute_result"
    }
   ],
   "source": [
    "list(personality_questions.columns)"
   ]
  },
  {
   "cell_type": "code",
   "execution_count": 4,
   "metadata": {},
   "outputs": [],
   "source": [
    "movies = personality_questions[[\n",
    "    'Movies',\n",
    "    'Horror',\n",
    "    'Thriller',\n",
    "    'Comedy',\n",
    "    'Romantic',\n",
    "    'Sci-fi',\n",
    "    'War',\n",
    "    'Fantasy/Fairy tales',\n",
    "    'Animated',\n",
    "    'Documentary',\n",
    "    'Western',\n",
    "    'Action'\n",
    "]]\n",
    "fear_of_darkness = personality_questions['Darkness']"
   ]
  },
  {
   "cell_type": "code",
   "execution_count": 5,
   "metadata": {},
   "outputs": [
    {
     "data": {
      "text/plain": [
       "no     734\n",
       "yes    243\n",
       "Name: Only child, dtype: int64"
      ]
     },
     "execution_count": 5,
     "metadata": {},
     "output_type": "execute_result"
    }
   ],
   "source": [
    "pd.value_counts(personality_questions['Only child'])"
   ]
  },
  {
   "cell_type": "code",
   "execution_count": 6,
   "metadata": {},
   "outputs": [
    {
     "name": "stdout",
     "output_type": "stream",
     "text": [
      "X.shape: (977, 12)\n",
      "X_train.shape: (781, 12)\n",
      "X_test.shape:  (196, 12)\n",
      "\n",
      "y.shape:       (977,)\n",
      "y_train.shape: (781,)\n",
      "y_test.shape:  (196,)\n",
      "\n"
     ]
    }
   ],
   "source": [
    "from sklearn.model_selection import train_test_split\n",
    "\n",
    "X_train, X_test, y_train, y_test = train_test_split(movies, fear_of_darkness, train_size = 0.8)\n",
    "\n",
    "print(\"X.shape:\", movies.shape)\n",
    "print(\"X_train.shape:\", X_train.shape)\n",
    "print(\"X_test.shape: \", X_test.shape)\n",
    "print(\"\")\n",
    "print(\"y.shape:      \", fear_of_darkness.shape)\n",
    "print(\"y_train.shape:\", y_train.shape)\n",
    "print(\"y_test.shape: \", y_test.shape)\n",
    "print(\"\")"
   ]
  },
  {
   "cell_type": "code",
   "execution_count": 7,
   "metadata": {},
   "outputs": [
    {
     "data": {
      "text/plain": [
       "0.37755102040816324"
      ]
     },
     "execution_count": 7,
     "metadata": {},
     "output_type": "execute_result"
    }
   ],
   "source": [
    "from sklearn.neighbors import KNeighborsClassifier\n",
    "knn3 = KNeighborsClassifier(n_neighbors=3)\n",
    "knn3.fit(X_train, y_train)\n",
    "\n",
    "# testing the accuracy of the model\n",
    "prediction = knn3.predict(X_test)\n",
    "knn3.score(X_test, y_test)"
   ]
  },
  {
   "cell_type": "code",
   "execution_count": 8,
   "metadata": {},
   "outputs": [
    {
     "data": {
      "text/plain": [
       "0.413265306122449"
      ]
     },
     "execution_count": 8,
     "metadata": {},
     "output_type": "execute_result"
    }
   ],
   "source": [
    "# training the data with n = 5 neighbours\n",
    "from sklearn.neighbors import KNeighborsClassifier\n",
    "knn5 = KNeighborsClassifier(n_neighbors=5)\n",
    "knn5.fit(X_train, y_train)\n",
    "\n",
    "# testing the accuracy of the model\n",
    "prediction = knn5.predict(X_test)\n",
    "knn5.score(X_test, y_test)"
   ]
  },
  {
   "cell_type": "code",
   "execution_count": 9,
   "metadata": {},
   "outputs": [
    {
     "name": "stdout",
     "output_type": "stream",
     "text": [
      "K=3, confusion matrix:\n",
      "[[212  38  11   3   1]\n",
      " [ 58 174   2   2   4]\n",
      " [ 39  33  53   0   1]\n",
      " [ 33  24   9  19   0]\n",
      " [ 28  21   6   1   9]]\n",
      "\n",
      "K=5, confusion matrix:\n",
      "[[199  50  11   5   0]\n",
      " [ 65 167   6   1   1]\n",
      " [ 40  40  39   6   1]\n",
      " [ 28  35   7  13   2]\n",
      " [ 19  28   6   2  10]]\n"
     ]
    }
   ],
   "source": [
    "from sklearn.metrics import confusion_matrix\n",
    "\n",
    "print(\"K=3, confusion matrix:\")\n",
    "print(confusion_matrix(y_train, knn3.predict(X_train)))\n",
    "print(\"\")\n",
    "print(\"K=5, confusion matrix:\")\n",
    "print(confusion_matrix(y_train, knn5.predict(X_train)))"
   ]
  },
  {
   "cell_type": "code",
   "execution_count": 10,
   "metadata": {},
   "outputs": [
    {
     "name": "stdout",
     "output_type": "stream",
     "text": [
      "\n",
      "Num neighbors = 1\n",
      "K-fold CV errors: [0.72  0.654 0.692 0.686 0.724]\n",
      "K-fold CV mean error: 0.695\n",
      "\n",
      "Num neighbors = 2\n",
      "K-fold CV errors: [0.707 0.628 0.654 0.654 0.673]\n",
      "K-fold CV mean error: 0.663\n",
      "\n",
      "Num neighbors = 3\n",
      "K-fold CV errors: [0.707 0.667 0.654 0.654 0.679]\n",
      "K-fold CV mean error: 0.672\n",
      "\n",
      "Num neighbors = 4\n",
      "K-fold CV errors: [0.701 0.718 0.667 0.692 0.686]\n",
      "K-fold CV mean error: 0.693\n",
      "\n",
      "Num neighbors = 5\n",
      "K-fold CV errors: [0.694 0.686 0.667 0.692 0.699]\n",
      "K-fold CV mean error: 0.688\n",
      "\n",
      "Num neighbors = 6\n",
      "K-fold CV errors: [0.669 0.647 0.641 0.699 0.673]\n",
      "K-fold CV mean error: 0.666\n",
      "\n",
      "Num neighbors = 7\n",
      "K-fold CV errors: [0.713 0.641 0.641 0.692 0.679]\n",
      "K-fold CV mean error: 0.673\n",
      "\n",
      "Num neighbors = 8\n",
      "K-fold CV errors: [0.662 0.628 0.615 0.641 0.673]\n",
      "K-fold CV mean error: 0.644\n",
      "\n",
      "Num neighbors = 9\n",
      "K-fold CV errors: [0.669 0.622 0.622 0.647 0.679]\n",
      "K-fold CV mean error: 0.648\n",
      "\n",
      "Num neighbors = 10\n",
      "K-fold CV errors: [0.688 0.679 0.609 0.673 0.667]\n",
      "K-fold CV mean error: 0.663\n",
      "\n",
      "Num neighbors = 11\n",
      "K-fold CV errors: [0.688 0.654 0.59  0.712 0.66 ]\n",
      "K-fold CV mean error: 0.661\n",
      "\n",
      "Num neighbors = 12\n",
      "K-fold CV errors: [0.694 0.647 0.628 0.667 0.647]\n",
      "K-fold CV mean error: 0.657\n",
      "\n",
      "Num neighbors = 13\n",
      "K-fold CV errors: [0.682 0.654 0.622 0.667 0.628]\n",
      "K-fold CV mean error: 0.65\n",
      "\n",
      "Num neighbors = 14\n",
      "K-fold CV errors: [0.656 0.641 0.654 0.699 0.692]\n",
      "K-fold CV mean error: 0.668\n",
      "\n",
      "Num neighbors = 15\n",
      "K-fold CV errors: [0.656 0.615 0.66  0.737 0.66 ]\n",
      "K-fold CV mean error: 0.666\n",
      "\n",
      "Num neighbors = 16\n",
      "K-fold CV errors: [0.662 0.641 0.66  0.718 0.673]\n",
      "K-fold CV mean error: 0.671\n",
      "\n",
      "Num neighbors = 17\n",
      "K-fold CV errors: [0.669 0.647 0.667 0.699 0.686]\n",
      "K-fold CV mean error: 0.674\n",
      "\n",
      "Num neighbors = 18\n",
      "K-fold CV errors: [0.688 0.654 0.673 0.679 0.731]\n",
      "K-fold CV mean error: 0.685\n",
      "\n",
      "Num neighbors = 19\n",
      "K-fold CV errors: [0.682 0.667 0.679 0.692 0.705]\n",
      "K-fold CV mean error: 0.685\n",
      "\n",
      "Num neighbors = 20\n",
      "K-fold CV errors: [0.656 0.654 0.686 0.692 0.712]\n",
      "K-fold CV mean error: 0.68\n",
      "\n",
      "Num neighbors = 21\n",
      "K-fold CV errors: [0.675 0.654 0.686 0.679 0.667]\n",
      "K-fold CV mean error: 0.672\n",
      "\n",
      "Num neighbors = 22\n",
      "K-fold CV errors: [0.682 0.667 0.699 0.673 0.679]\n",
      "K-fold CV mean error: 0.68\n",
      "\n",
      "Num neighbors = 23\n",
      "K-fold CV errors: [0.688 0.673 0.686 0.654 0.705]\n",
      "K-fold CV mean error: 0.681\n",
      "\n",
      "Num neighbors = 24\n",
      "K-fold CV errors: [0.675 0.66  0.673 0.686 0.712]\n",
      "K-fold CV mean error: 0.681\n",
      "\n",
      "Num neighbors = 25\n",
      "K-fold CV errors: [0.688 0.654 0.686 0.686 0.718]\n",
      "K-fold CV mean error: 0.686\n",
      "\n",
      "Num neighbors = 26\n",
      "K-fold CV errors: [0.688 0.66  0.667 0.673 0.712]\n",
      "K-fold CV mean error: 0.68\n",
      "\n",
      "Num neighbors = 27\n",
      "K-fold CV errors: [0.707 0.673 0.686 0.692 0.737]\n",
      "K-fold CV mean error: 0.699\n",
      "\n",
      "Num neighbors = 28\n",
      "K-fold CV errors: [0.688 0.673 0.673 0.641 0.699]\n",
      "K-fold CV mean error: 0.675\n",
      "\n",
      "Num neighbors = 29\n",
      "K-fold CV errors: [0.688 0.667 0.667 0.686 0.705]\n",
      "K-fold CV mean error: 0.682\n"
     ]
    }
   ],
   "source": [
    "from sklearn.model_selection import cross_val_score\n",
    "\n",
    "mean_fold_errors = []\n",
    "\n",
    "for num_neighbors in range(1, 30):\n",
    "    np.random.seed(0)   # to ensure we use the same random folds\n",
    "\n",
    "    knn = KNeighborsClassifier(num_neighbors)\n",
    "    fold_errors = 1 - cross_val_score(knn, X_train, y_train, cv = 5)   # 5-fold CV\n",
    "    mean_fold_errors.append(np.mean(fold_errors))\n",
    "\n",
    "    print(\"\")\n",
    "    print(\"Num neighbors =\", num_neighbors)\n",
    "    print(\"K-fold CV errors:\", np.round(fold_errors, 3))\n",
    "    print(\"K-fold CV mean error:\", np.round(mean_fold_errors[-1], 3))"
   ]
  },
  {
   "cell_type": "code",
   "execution_count": 11,
   "metadata": {},
   "outputs": [
    {
     "data": {
      "image/png": "[encoded data removed]",
      "text/plain": [
       "<Figure size 432x288 with 1 Axes>"
      ]
     },
     "metadata": {
      "needs_background": "light"
     },
     "output_type": "display_data"
    }
   ],
   "source": [
    "import matplotlib.pyplot as plt\n",
    "\n",
    "plt.plot(range(1,30), mean_fold_errors)\n",
    "plt.xticks(range(1, 30, 2))\n",
    "plt.xlabel('$K$ (Num Neighbors)')\n",
    "plt.ylabel('Mean CV Error')\n",
    "plt.show()"
   ]
  },
  {
   "cell_type": "code",
   "execution_count": 12,
   "metadata": {},
   "outputs": [
    {
     "data": {
      "text/plain": [
       "0.41836734693877553"
      ]
     },
     "execution_count": 12,
     "metadata": {},
     "output_type": "execute_result"
    }
   ],
   "source": [
    "# fitting the model with n = 13\n",
    "knn13 = KNeighborsClassifier(n_neighbors=13)\n",
    "knn13.fit(X_train, y_train)\n",
    "\n",
    "# testing the accuracy of the model\n",
    "prediction = knn13.predict(X_test)\n",
    "knn13.score(X_test, y_test)"
   ]
  },
  {
   "cell_type": "code",
   "execution_count": 13,
   "metadata": {},
   "outputs": [
    {
     "name": "stdout",
     "output_type": "stream",
     "text": [
      "K=13, confusion matrix:\n",
      "[[42 35  3  1  1]\n",
      " [14 34  2  0  1]\n",
      " [ 7 21  5  1  0]\n",
      " [ 6  8  3  1  0]\n",
      " [ 4  5  2  0  0]]\n"
     ]
    }
   ],
   "source": [
    "# confusion matrix\n",
    "print(\"K=13, confusion matrix:\")\n",
    "print(confusion_matrix(y_test, knn13.predict(X_test)))"
   ]
  },
  {
   "cell_type": "code",
   "execution_count": 14,
   "metadata": {},
   "outputs": [],
   "source": [
    "# unsurprisingly, knn didn't predict these things much better than random forest\n",
    "# so they probably aren't very related variables\n",
    "# look at fears and whether they're an only child\n",
    "phobias = personality_questions[[\n",
    "    'Flying',\n",
    "    'Storm',\n",
    "    'Darkness',\n",
    "    'Heights',\n",
    "    'Spiders',\n",
    "    'Snakes',\n",
    "    'Rats',\n",
    "    'Ageing',\n",
    "    'Dangerous dogs',\n",
    "    'Fear of public speaking'\n",
    "]]\n",
    "\n",
    "\n",
    "personality_questions = personality_questions.replace(['no','yes'],[0,1])\n",
    "only_child = personality_questions['Only child']"
   ]
  },
  {
   "cell_type": "code",
   "execution_count": 15,
   "metadata": {},
   "outputs": [
    {
     "name": "stdout",
     "output_type": "stream",
     "text": [
      "X.shape: (977, 10)\n",
      "X_train.shape: (781, 10)\n",
      "X_test.shape:  (196, 10)\n",
      "\n",
      "y.shape:       (977,)\n",
      "y_train.shape: (781,)\n",
      "y_test.shape:  (196,)\n",
      "\n"
     ]
    }
   ],
   "source": [
    "X_train, X_test, y_train, y_test = train_test_split(phobias, only_child, train_size = 0.8)\n",
    "\n",
    "print(\"X.shape:\", phobias.shape)\n",
    "print(\"X_train.shape:\", X_train.shape)\n",
    "print(\"X_test.shape: \", X_test.shape)\n",
    "print(\"\")\n",
    "print(\"y.shape:      \", only_child.shape)\n",
    "print(\"y_train.shape:\", y_train.shape)\n",
    "print(\"y_test.shape: \", y_test.shape)\n",
    "print(\"\")"
   ]
  },
  {
   "cell_type": "code",
   "execution_count": 16,
   "metadata": {},
   "outputs": [
    {
     "data": {
      "text/plain": [
       "0.6632653061224489"
      ]
     },
     "execution_count": 16,
     "metadata": {},
     "output_type": "execute_result"
    }
   ],
   "source": [
    "# n = 3\n",
    "knn3 = KNeighborsClassifier(n_neighbors=3)\n",
    "knn3.fit(X_train, y_train)\n",
    "\n",
    "# testing the accuracy of the model\n",
    "prediction = knn3.predict(X_test)\n",
    "knn3.score(X_test, y_test)"
   ]
  },
  {
   "cell_type": "code",
   "execution_count": 17,
   "metadata": {},
   "outputs": [
    {
     "data": {
      "text/plain": [
       "0.7040816326530612"
      ]
     },
     "execution_count": 17,
     "metadata": {},
     "output_type": "execute_result"
    }
   ],
   "source": [
    "# n = 5\n",
    "knn5 = KNeighborsClassifier(n_neighbors=5)\n",
    "knn5.fit(X_train, y_train)\n",
    "\n",
    "# testing the accuracy of the model\n",
    "prediction = knn5.predict(X_test)\n",
    "knn5.score(X_test, y_test)"
   ]
  },
  {
   "cell_type": "code",
   "execution_count": 18,
   "metadata": {},
   "outputs": [
    {
     "name": "stdout",
     "output_type": "stream",
     "text": [
      "K=3, confusion matrix:\n",
      "[[539  40]\n",
      " [111  91]]\n",
      "\n",
      "K=5, confusion matrix:\n",
      "[[543  36]\n",
      " [145  57]]\n"
     ]
    }
   ],
   "source": [
    "print(\"K=3, confusion matrix:\")\n",
    "print(confusion_matrix(y_train, knn3.predict(X_train)))\n",
    "print(\"\")\n",
    "print(\"K=5, confusion matrix:\")\n",
    "print(confusion_matrix(y_train, knn5.predict(X_train)))"
   ]
  },
  {
   "cell_type": "code",
   "execution_count": 19,
   "metadata": {},
   "outputs": [],
   "source": [
    "mean_fold_errors = []\n",
    "\n",
    "for num_neighbors in range(1, 30):\n",
    "    np.random.seed(0)   # to ensure we use the same random folds\n",
    "\n",
    "    knn = KNeighborsClassifier(num_neighbors)\n",
    "    fold_errors = 1 - cross_val_score(knn, X_train, y_train, cv = 5)   # 5-fold CV\n",
    "    mean_fold_errors.append(np.mean(fold_errors))"
   ]
  },
  {
   "cell_type": "code",
   "execution_count": 20,
   "metadata": {},
   "outputs": [
    {
     "data": {
      "image/png": "[encoded data removed]",
      "text/plain": [
       "<Figure size 432x288 with 1 Axes>"
      ]
     },
     "metadata": {
      "needs_background": "light"
     },
     "output_type": "display_data"
    }
   ],
   "source": [
    "# plotting the error \n",
    "\n",
    "plt.plot(range(1,30), mean_fold_errors)\n",
    "plt.xticks(range(1, 30, 2))\n",
    "plt.xlabel('$K$ (Num Neighbors)')\n",
    "plt.ylabel('Mean CV Error')\n",
    "plt.show()"
   ]
  },
  {
   "cell_type": "code",
   "execution_count": 22,
   "metadata": {},
   "outputs": [
    {
     "data": {
      "text/plain": [
       "0.7857142857142857"
      ]
     },
     "execution_count": 22,
     "metadata": {},
     "output_type": "execute_result"
    }
   ],
   "source": [
    "# fitting the model with n = 16\n",
    "knn16 = KNeighborsClassifier(n_neighbors=16)\n",
    "knn16.fit(X_train, y_train)\n",
    "\n",
    "# testing the accuracy of the model\n",
    "prediction = knn16.predict(X_test)\n",
    "knn16.score(X_test, y_test)"
   ]
  },
  {
   "cell_type": "code",
   "execution_count": 30,
   "metadata": {},
   "outputs": [
    {
     "name": "stdout",
     "output_type": "stream",
     "text": [
      "K=16, confusion matrix:\n",
      "[[154   1]\n",
      " [ 41   0]]\n"
     ]
    },
    {
     "ename": "NameError",
     "evalue": "name 'classifier' is not defined",
     "output_type": "error",
     "traceback": [
      "\u001b[0;31m---------------------------------------------------------------------------\u001b[0m",
      "\u001b[0;31mNameError\u001b[0m                                 Traceback (most recent call last)",
      "\u001b[0;32m<ipython-input-30-526a02535ca3>\u001b[0m in \u001b[0;36m<module>\u001b[0;34m\u001b[0m\n\u001b[1;32m      4\u001b[0m \u001b[0;34m\u001b[0m\u001b[0m\n\u001b[1;32m      5\u001b[0m \u001b[0;32mfrom\u001b[0m \u001b[0msklearn\u001b[0m\u001b[0;34m.\u001b[0m\u001b[0mmetrics\u001b[0m \u001b[0;32mimport\u001b[0m \u001b[0mplot_confusion_matrix\u001b[0m\u001b[0;34m\u001b[0m\u001b[0;34m\u001b[0m\u001b[0m\n\u001b[0;32m----> 6\u001b[0;31m disp = plot_confusion_matrix(classifier, X_test, y_test,\n\u001b[0m\u001b[1;32m      7\u001b[0m                                  \u001b[0mdisplay_labels\u001b[0m\u001b[0;34m=\u001b[0m\u001b[0mclass_names\u001b[0m\u001b[0;34m,\u001b[0m\u001b[0;34m\u001b[0m\u001b[0;34m\u001b[0m\u001b[0m\n\u001b[1;32m      8\u001b[0m                                  \u001b[0mcmap\u001b[0m\u001b[0;34m=\u001b[0m\u001b[0mplt\u001b[0m\u001b[0;34m.\u001b[0m\u001b[0mcm\u001b[0m\u001b[0;34m.\u001b[0m\u001b[0mBlues\u001b[0m\u001b[0;34m,\u001b[0m\u001b[0;34m\u001b[0m\u001b[0;34m\u001b[0m\u001b[0m\n",
      "\u001b[0;31mNameError\u001b[0m: name 'classifier' is not defined"
     ]
    }
   ],
   "source": [
    "# confusion matrix\n",
    "print(\"K=16, confusion matrix:\")\n",
    "print(confusion_matrix(y_test, knn16.predict(X_test)))\n",
    "\n",
    "from sklearn.metrics import plot_confusion_matrix\n",
    "plot_confusion_matrix("
   ]
  },
  {
   "cell_type": "code",
   "execution_count": 27,
   "metadata": {},
   "outputs": [
    {
     "data": {
      "text/plain": [
       "0    734\n",
       "1    243\n",
       "Name: Only child, dtype: int64"
      ]
     },
     "execution_count": 27,
     "metadata": {},
     "output_type": "execute_result"
    }
   ],
   "source": [
    "only_child.value_counts()"
   ]
  },
  {
   "cell_type": "code",
   "execution_count": 29,
   "metadata": {},
   "outputs": [
    {
     "data": {
      "text/plain": [
       "0.7512794268167861"
      ]
     },
     "execution_count": 29,
     "metadata": {},
     "output_type": "execute_result"
    }
   ],
   "source": [
    "734/(734+243)"
   ]
  },
  {
   "cell_type": "code",
   "execution_count": 45,
   "metadata": {},
   "outputs": [],
   "source": [
    "# look at how well phobias can predict how much someone likes horror movies\n",
    "likes_horror_movies = personality_questions['Horror']"
   ]
  },
  {
   "cell_type": "code",
   "execution_count": 46,
   "metadata": {},
   "outputs": [
    {
     "data": {
      "text/plain": [
       "0.19387755102040816"
      ]
     },
     "execution_count": 46,
     "metadata": {},
     "output_type": "execute_result"
    }
   ],
   "source": [
    "X_train, X_test, y_train, y_test = train_test_split(phobias, likes_horror_movies, train_size = 0.8)\n",
    "\n",
    "# n = 5\n",
    "knn5 = KNeighborsClassifier(n_neighbors=5)\n",
    "knn5.fit(X_train, y_train)\n",
    "\n",
    "# testing the accuracy of the model\n",
    "prediction = knn5.predict(X_test)\n",
    "knn5.score(X_test, y_test)"
   ]
  },
  {
   "cell_type": "code",
   "execution_count": 25,
   "metadata": {},
   "outputs": [
    {
     "name": "stdout",
     "output_type": "stream",
     "text": [
      "K=5, confusion matrix:\n",
      "[[137  19  22  10   8]\n",
      " [ 38  67  22  11  15]\n",
      " [ 51  27  80   4  11]\n",
      " [ 30  19  28  39  13]\n",
      " [ 32  21  25  12  40]]\n"
     ]
    }
   ],
   "source": [
    "print(\"K=5, confusion matrix:\")\n",
    "print(confusion_matrix(y_train, knn5.predict(X_train)))"
   ]
  },
  {
   "cell_type": "code",
   "execution_count": 26,
   "metadata": {},
   "outputs": [],
   "source": [
    "mean_fold_errors = []\n",
    "\n",
    "for num_neighbors in range(1, 30):\n",
    "    np.random.seed(0)   # to ensure we use the same random folds\n",
    "\n",
    "    knn = KNeighborsClassifier(num_neighbors)\n",
    "    fold_errors = 1 - cross_val_score(knn, X_train, y_train, cv = 5)   # 5-fold CV\n",
    "    mean_fold_errors.append(np.mean(fold_errors))"
   ]
  },
  {
   "cell_type": "code",
   "execution_count": 27,
   "metadata": {},
   "outputs": [
    {
     "data": {
      "image/png": "[encoded data removed]",
      "text/plain": [
       "<Figure size 432x288 with 1 Axes>"
      ]
     },
     "metadata": {
      "needs_background": "light"
     },
     "output_type": "display_data"
    }
   ],
   "source": [
    "# plotting the error \n",
    "\n",
    "plt.plot(range(1,30), mean_fold_errors)\n",
    "plt.xticks(range(1, 30, 2))\n",
    "plt.xlabel('$K$ (Num Neighbors)')\n",
    "plt.ylabel('Mean CV Error')\n",
    "plt.show()"
   ]
  },
  {
   "cell_type": "code",
   "execution_count": 28,
   "metadata": {},
   "outputs": [
    {
     "data": {
      "text/plain": [
       "0.21428571428571427"
      ]
     },
     "execution_count": 28,
     "metadata": {},
     "output_type": "execute_result"
    }
   ],
   "source": [
    "# fitting the model with n = 15\n",
    "knn15 = KNeighborsClassifier(n_neighbors=15)\n",
    "knn15.fit(X_train, y_train)\n",
    "\n",
    "# testing the accuracy of the model\n",
    "prediction = knn15.predict(X_test)\n",
    "knn15.score(X_test, y_test)"
   ]
  },
  {
   "cell_type": "code",
   "execution_count": 29,
   "metadata": {},
   "outputs": [
    {
     "name": "stdout",
     "output_type": "stream",
     "text": [
      "K=15, confusion matrix:\n",
      "[[25  4 19  5  1]\n",
      " [17  4 15  1  3]\n",
      " [13  8  8  2  3]\n",
      " [22  6 11  2  1]\n",
      " [11  2  8  2  3]]\n"
     ]
    }
   ],
   "source": [
    "print(\"K=15, confusion matrix:\")\n",
    "print(confusion_matrix(y_test, knn15.predict(X_test)))"
   ]
  },
  {
   "cell_type": "code",
   "execution_count": null,
   "metadata": {},
   "outputs": [],
   "source": []
  }
 ],
 "metadata": {
  "kernelspec": {
   "display_name": "Python 3",
   "language": "python",
   "name": "python3"
  },
  "language_info": {
   "codemirror_mode": {
    "name": "ipython",
    "version": 3
   },
   "file_extension": ".py",
   "mimetype": "text/x-python",
   "name": "python",
   "nbconvert_exporter": "python",
   "pygments_lexer": "ipython3",
   "version": "3.7.6"
  }
 },
 "nbformat": 4,
 "nbformat_minor": 4
}
