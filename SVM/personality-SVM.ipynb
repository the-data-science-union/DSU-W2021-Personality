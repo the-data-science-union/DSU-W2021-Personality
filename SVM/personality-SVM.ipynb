{
 "cells": [
  {
   "cell_type": "code",
   "execution_count": 2,
   "metadata": {},
   "outputs": [],
   "source": [
    "#####SDG Classification#######"
   ]
  },
  {
   "cell_type": "code",
   "execution_count": 2,
   "metadata": {},
   "outputs": [],
   "source": [
    "from sklearn.model_selection import GridSearchCV\n",
    "from sklearn.linear_model import SGDClassifier\n",
    "from sklearn.model_selection import train_test_split\n",
    "from sklearn.linear_model import LogisticRegression\n",
    "from sklearn.model_selection import train_test_split\n",
    "from sklearn.model_selection import StratifiedKFold\n",
    "from sklearn.feature_selection import RFE\n",
    "\n",
    "from sklearn import svm\n",
    "from sklearn import metrics\n",
    "import matplotlib.pyplot as plt\n",
    "import pandas as pd\n",
    "import numpy as np\n"
   ]
  },
  {
   "cell_type": "code",
   "execution_count": 3,
   "metadata": {},
   "outputs": [],
   "source": [
    "#data cleaning\n",
    "data = pd.read_csv('responses.csv')\n",
    "data['Smoking'] = data['Smoking'].map(dict(zip(data['Smoking'].unique(), np.arange(1,5))))\n",
    "data['Alcohol']= data['Alcohol'].map(dict(zip(data['Alcohol'].unique(), np.array([3,2,1]))))\n",
    "data['Punctuality']= data['Punctuality'].map(dict(zip(data['Punctuality'].unique(), np.array([3,2,1]))))\n",
    "data['Lying']= data['Lying'].map(dict(zip(data['Lying'].unique(), np.array([1,3,2,4]))))\n",
    "data['Internet usage']= data['Internet usage'].map(dict(zip(data['Internet usage'].unique(), np.array([3,4,2,1]))))\n",
    "data['Gender']= data['Gender'].map(dict(zip(data['Gender'].unique(), np.array([0,1]))))\n",
    "data['Only child']= data['Only child'].map(dict(zip(data['Only child'].unique(), np.array([0,1]))))\n",
    "cat_columns = [145,146,148,149]\n",
    "dummy_columns = pd.get_dummies(data.iloc[:,cat_columns])\n",
    "data.drop(data.columns[cat_columns], axis =1, inplace= True)\n",
    "data = pd.concat([data,dummy_columns], axis = 1)"
   ]
  },
  {
   "cell_type": "code",
   "execution_count": 226,
   "metadata": {},
   "outputs": [
    {
     "data": {
      "text/plain": [
       "(977, 158)"
      ]
     },
     "execution_count": 226,
     "metadata": {},
     "output_type": "execute_result"
    }
   ],
   "source": [
    "data.shape\n"
   ]
  },
  {
   "cell_type": "code",
   "execution_count": 4,
   "metadata": {},
   "outputs": [],
   "source": [
    "def optimal_feature_number(X, Y, model):\n",
    "    sizes = [1, 4/5, 3/4, 2/3, 3/5, 1/2,  2/5, 1/3, 1/4, 1/5]\n",
    "    scores = []\n",
    "    sizes = [round(x*X.shape[1]) for x in sizes]\n",
    "    for val in sizes: \n",
    "        rfe_selector = RFE(estimator=model, n_features_to_select=val , step=5, verbose=5)\n",
    "        rfe_selector.fit(X_train, list(y_train))\n",
    "        rfe_support = rfe_selector.get_support()\n",
    "        rfe_feature = pd.DataFrame(X_train).loc[:,rfe_support].columns.tolist()\n",
    "\n",
    "        X_train_fs = X_train[:,rfe_feature]\n",
    "        X_test_fs = X_test[:,rfe_feature]\n",
    "        model.fit(X_train_fs, list(y_train))\n",
    "        y_pred = model.predict(X_test_fs)\n",
    "        scores.append(metrics.accuracy_score(list(y_test), y_pred))\n",
    "    \n",
    "    n_features = sizes[scores.index(max(scores))]\n",
    "    return n_features\n",
    "\n"
   ]
  },
  {
   "cell_type": "code",
   "execution_count": 6,
   "metadata": {},
   "outputs": [
    {
     "name": "stdout",
     "output_type": "stream",
     "text": [
      "base linear SVC with no feature selection\n",
      "Fitting estimator with 157 features.\n",
      "Fitting estimator with 152 features.\n",
      "Fitting estimator with 147 features.\n",
      "Fitting estimator with 142 features.\n",
      "Fitting estimator with 137 features.\n",
      "Fitting estimator with 132 features.\n",
      "Fitting estimator with 127 features.\n",
      "Fitting estimator with 157 features.\n",
      "Fitting estimator with 152 features.\n",
      "Fitting estimator with 147 features.\n",
      "Fitting estimator with 142 features.\n",
      "Fitting estimator with 137 features.\n",
      "Fitting estimator with 132 features.\n",
      "Fitting estimator with 127 features.\n",
      "Fitting estimator with 122 features.\n",
      "Fitting estimator with 157 features.\n",
      "Fitting estimator with 152 features.\n",
      "Fitting estimator with 147 features."
     ]
    },
    {
     "name": "stderr",
     "output_type": "stream",
     "text": [
      "C:\\Users\\JayZ\\anaconda3\\lib\\site-packages\\sklearn\\svm\\_base.py:246: ConvergenceWarning: Solver terminated early (max_iter=25000).  Consider pre-processing your data with StandardScaler or MinMaxScaler.\n",
      "  warnings.warn('Solver terminated early (max_iter=%i).'\n"
     ]
    },
    {
     "name": "stdout",
     "output_type": "stream",
     "text": [
      "\n",
      "Fitting estimator with 142 features.\n",
      "Fitting estimator with 137 features.\n",
      "Fitting estimator with 132 features.\n",
      "Fitting estimator with 127 features.\n",
      "Fitting estimator with 122 features.\n"
     ]
    },
    {
     "name": "stderr",
     "output_type": "stream",
     "text": [
      "C:\\Users\\JayZ\\anaconda3\\lib\\site-packages\\sklearn\\svm\\_base.py:246: ConvergenceWarning: Solver terminated early (max_iter=25000).  Consider pre-processing your data with StandardScaler or MinMaxScaler.\n",
      "  warnings.warn('Solver terminated early (max_iter=%i).'\n"
     ]
    },
    {
     "name": "stdout",
     "output_type": "stream",
     "text": [
      "Fitting estimator with 117 features.\n",
      "Fitting estimator with 112 features.\n",
      "Fitting estimator with 107 features.\n",
      "Fitting estimator with 157 features.\n",
      "Fitting estimator with 152 features.\n",
      "Fitting estimator with 147 features.\n",
      "Fitting estimator with 142 features.\n",
      "Fitting estimator with 137 features.\n",
      "Fitting estimator with 132 features.\n",
      "Fitting estimator with 127 features.\n",
      "Fitting estimator with 122 features.\n",
      "Fitting estimator with 117 features.\n",
      "Fitting estimator with 112 features.\n"
     ]
    },
    {
     "name": "stderr",
     "output_type": "stream",
     "text": [
      "C:\\Users\\JayZ\\anaconda3\\lib\\site-packages\\sklearn\\svm\\_base.py:246: ConvergenceWarning: Solver terminated early (max_iter=25000).  Consider pre-processing your data with StandardScaler or MinMaxScaler.\n",
      "  warnings.warn('Solver terminated early (max_iter=%i).'\n"
     ]
    },
    {
     "name": "stdout",
     "output_type": "stream",
     "text": [
      "Fitting estimator with 107 features.\n",
      "Fitting estimator with 102 features.\n",
      "Fitting estimator with 97 features.\n",
      "Fitting estimator with 157 features.\n",
      "Fitting estimator with 152 features.\n",
      "Fitting estimator with 147 features.\n",
      "Fitting estimator with 142 features.\n",
      "Fitting estimator with 137 features.\n",
      "Fitting estimator with 132 features.\n",
      "Fitting estimator with 127 features.\n",
      "Fitting estimator with 122 features.\n",
      "Fitting estimator with 117 features.\n",
      "Fitting estimator with 112 features.\n",
      "Fitting estimator with 107 features."
     ]
    },
    {
     "name": "stderr",
     "output_type": "stream",
     "text": [
      "C:\\Users\\JayZ\\anaconda3\\lib\\site-packages\\sklearn\\svm\\_base.py:246: ConvergenceWarning: Solver terminated early (max_iter=25000).  Consider pre-processing your data with StandardScaler or MinMaxScaler.\n",
      "  warnings.warn('Solver terminated early (max_iter=%i).'\n"
     ]
    },
    {
     "name": "stdout",
     "output_type": "stream",
     "text": [
      "\n",
      "Fitting estimator with 102 features.\n",
      "Fitting estimator with 97 features.\n",
      "Fitting estimator with 92 features.\n",
      "Fitting estimator with 87 features.\n",
      "Fitting estimator with 82 features.\n",
      "Fitting estimator with 157 features.\n",
      "Fitting estimator with 152 features.\n",
      "Fitting estimator with 147 features.\n",
      "Fitting estimator with 142 features.\n",
      "Fitting estimator with 137 features.\n",
      "Fitting estimator with 132 features.\n",
      "Fitting estimator with 127 features.\n",
      "Fitting estimator with 122 features.\n"
     ]
    },
    {
     "name": "stderr",
     "output_type": "stream",
     "text": [
      "C:\\Users\\JayZ\\anaconda3\\lib\\site-packages\\sklearn\\svm\\_base.py:246: ConvergenceWarning: Solver terminated early (max_iter=25000).  Consider pre-processing your data with StandardScaler or MinMaxScaler.\n",
      "  warnings.warn('Solver terminated early (max_iter=%i).'\n"
     ]
    },
    {
     "name": "stdout",
     "output_type": "stream",
     "text": [
      "Fitting estimator with 117 features.\n",
      "Fitting estimator with 112 features.\n",
      "Fitting estimator with 107 features.\n",
      "Fitting estimator with 102 features.\n",
      "Fitting estimator with 97 features.\n",
      "Fitting estimator with 92 features.\n",
      "Fitting estimator with 87 features.\n",
      "Fitting estimator with 82 features.\n",
      "Fitting estimator with 77 features.\n",
      "Fitting estimator with 72 features.\n",
      "Fitting estimator with 67 features.\n",
      "Fitting estimator with 157 features.\n",
      "Fitting estimator with 152 features.\n",
      "Fitting estimator with 147 features.\n",
      "Fitting estimator with 142 features.\n",
      "Fitting estimator with 137 features.\n",
      "Fitting estimator with 132 features.\n",
      "Fitting estimator with 127 features.\n",
      "Fitting estimator with 122 features.\n",
      "Fitting estimator with 117 features.\n",
      "Fitting estimator with 112 features.\n",
      "Fitting estimator with 107 features.\n",
      "Fitting estimator with 102 features.\n",
      "Fitting estimator with 97 features.\n",
      "Fitting estimator with 92 features."
     ]
    },
    {
     "name": "stderr",
     "output_type": "stream",
     "text": [
      "C:\\Users\\JayZ\\anaconda3\\lib\\site-packages\\sklearn\\svm\\_base.py:246: ConvergenceWarning: Solver terminated early (max_iter=25000).  Consider pre-processing your data with StandardScaler or MinMaxScaler.\n",
      "  warnings.warn('Solver terminated early (max_iter=%i).'\n"
     ]
    },
    {
     "name": "stdout",
     "output_type": "stream",
     "text": [
      "\n",
      "Fitting estimator with 87 features.\n",
      "Fitting estimator with 82 features.\n",
      "Fitting estimator with 77 features.\n",
      "Fitting estimator with 72 features.\n",
      "Fitting estimator with 67 features.\n",
      "Fitting estimator with 62 features.\n",
      "Fitting estimator with 57 features.\n",
      "Fitting estimator with 157 features.\n",
      "Fitting estimator with 152 features.\n",
      "Fitting estimator with 147 features.\n",
      "Fitting estimator with 142 features.\n",
      "Fitting estimator with 137 features.\n",
      "Fitting estimator with 132 features.\n",
      "Fitting estimator with 127 features.\n",
      "Fitting estimator with 122 features.\n",
      "Fitting estimator with 117 features.\n"
     ]
    },
    {
     "name": "stderr",
     "output_type": "stream",
     "text": [
      "C:\\Users\\JayZ\\anaconda3\\lib\\site-packages\\sklearn\\svm\\_base.py:246: ConvergenceWarning: Solver terminated early (max_iter=25000).  Consider pre-processing your data with StandardScaler or MinMaxScaler.\n",
      "  warnings.warn('Solver terminated early (max_iter=%i).'\n"
     ]
    },
    {
     "name": "stdout",
     "output_type": "stream",
     "text": [
      "Fitting estimator with 112 features.\n",
      "Fitting estimator with 107 features.\n",
      "Fitting estimator with 102 features.\n",
      "Fitting estimator with 97 features.\n",
      "Fitting estimator with 92 features.\n",
      "Fitting estimator with 87 features.\n",
      "Fitting estimator with 82 features.\n",
      "Fitting estimator with 77 features.\n",
      "Fitting estimator with 72 features.\n",
      "Fitting estimator with 67 features.\n",
      "Fitting estimator with 62 features.\n",
      "Fitting estimator with 57 features.\n",
      "Fitting estimator with 52 features.\n",
      "Fitting estimator with 47 features.\n",
      "Fitting estimator with 42 features.\n",
      "Fitting estimator with 157 features.\n",
      "Fitting estimator with 152 features.\n",
      "Fitting estimator with 147 features.\n",
      "Fitting estimator with 142 features.\n",
      "Fitting estimator with 137 features.\n",
      "Fitting estimator with 132 features.\n",
      "Fitting estimator with 127 features.\n",
      "Fitting estimator with 122 features.\n",
      "Fitting estimator with 117 features.\n",
      "Fitting estimator with 112 features.\n",
      "Fitting estimator with 107 features.\n",
      "Fitting estimator with 102 features.\n",
      "Fitting estimator with 97 features."
     ]
    },
    {
     "name": "stderr",
     "output_type": "stream",
     "text": [
      "C:\\Users\\JayZ\\anaconda3\\lib\\site-packages\\sklearn\\svm\\_base.py:246: ConvergenceWarning: Solver terminated early (max_iter=25000).  Consider pre-processing your data with StandardScaler or MinMaxScaler.\n",
      "  warnings.warn('Solver terminated early (max_iter=%i).'\n"
     ]
    },
    {
     "name": "stdout",
     "output_type": "stream",
     "text": [
      "\n",
      "Fitting estimator with 92 features.\n",
      "Fitting estimator with 87 features.\n",
      "Fitting estimator with 82 features.\n",
      "Fitting estimator with 77 features.\n",
      "Fitting estimator with 72 features.\n",
      "Fitting estimator with 67 features.\n",
      "Fitting estimator with 62 features.\n",
      "Fitting estimator with 57 features.\n",
      "Fitting estimator with 52 features.\n",
      "Fitting estimator with 47 features.\n",
      "Fitting estimator with 42 features.\n",
      "Fitting estimator with 37 features.\n",
      "Fitting estimator with 32 features.\n",
      "Fitting estimator with 157 features.\n",
      "Fitting estimator with 152 features.\n",
      "Fitting estimator with 147 features.\n",
      "Fitting estimator with 142 features.\n",
      "Fitting estimator with 137 features.\n",
      "Fitting estimator with 132 features.\n",
      "Fitting estimator with 127 features.\n",
      "Fitting estimator with 122 features.\n"
     ]
    },
    {
     "name": "stderr",
     "output_type": "stream",
     "text": [
      "C:\\Users\\JayZ\\anaconda3\\lib\\site-packages\\sklearn\\svm\\_base.py:246: ConvergenceWarning: Solver terminated early (max_iter=25000).  Consider pre-processing your data with StandardScaler or MinMaxScaler.\n",
      "  warnings.warn('Solver terminated early (max_iter=%i).'\n"
     ]
    },
    {
     "name": "stdout",
     "output_type": "stream",
     "text": [
      "Fitting estimator with 117 features.\n",
      "Fitting estimator with 112 features.\n",
      "Fitting estimator with 107 features.\n",
      "Fitting estimator with 102 features.\n",
      "Fitting estimator with 97 features.\n",
      "Fitting estimator with 92 features.\n",
      "Fitting estimator with 87 features.\n",
      "Fitting estimator with 82 features.\n",
      "78 selected features\n",
      "polynomial SVC\n"
     ]
    },
    {
     "data": {
      "image/png": "[encoded data removed]",
      "text/plain": [
       "<Figure size 432x288 with 2 Axes>"
      ]
     },
     "metadata": {
      "needs_background": "light"
     },
     "output_type": "display_data"
    },
    {
     "data": {
      "image/png": "[encoded data removed]",
      "text/plain": [
       "<Figure size 432x288 with 2 Axes>"
      ]
     },
     "metadata": {
      "needs_background": "light"
     },
     "output_type": "display_data"
    },
    {
     "data": {
      "image/png": "[encoded data removed]",
      "text/plain": [
       "<Figure size 432x288 with 2 Axes>"
      ]
     },
     "metadata": {
      "needs_background": "light"
     },
     "output_type": "display_data"
    }
   ],
   "source": [
    "#trying svm with cross validiation\n",
    "from sklearn.model_selection import cross_val_score\n",
    "from sklearn.metrics import classification_report, confusion_matrix\n",
    "\n",
    "data_array = data.values\n",
    "data_array\n",
    "Y = data_array[:,144]\n",
    "X = np.delete(data_array, [144], axis = 1)\n",
    "X_train, X_test, y_train, y_test = train_test_split(X, Y, test_size = 0.3, random_state = 42)\n",
    "\n",
    "from sklearn.preprocessing import MinMaxScaler\n",
    "scaler = MinMaxScaler()\n",
    "scaler.fit(X_train)  # Don't cheat - fit only on training data\n",
    "X_train = scaler.transform(X_train)\n",
    "X_test = scaler.transform(X_test)  # apply same transformation to test data\n",
    "\n",
    "\n",
    "SVC = svm.SVC( kernel = 'linear', max_iter = 25000, random_state = 52)\n",
    "\n",
    "SVC.fit(X_train, list(y_train))\n",
    "y_pred = SVC.predict(X_test)\n",
    "print('base linear SVC with no feature selection')\n",
    "base = ('base', round(metrics.accuracy_score(list(y_test), y_pred),4))\n",
    "metrics.plot_confusion_matrix(SVC, X_test, list(y_test))\n",
    "plt.title('Confusion matrix for linear')\n",
    "######################################\n",
    "from sklearn.feature_selection import RFE\n",
    "optimal_number = optimal_feature_number(X,Y,SVC)\n",
    "\n",
    "rfe_selector = RFE(estimator=SVC, n_features_to_select=optimal_number, step=5, verbose=5)\n",
    "rfe_selector.fit(X_train, list(y_train))\n",
    "rfe_support = rfe_selector.get_support()\n",
    "rfe_feature = pd.DataFrame(X_train).loc[:,rfe_support].columns.tolist()\n",
    "print(str(len(rfe_feature)), 'selected features')\n",
    "rfe_feature\n",
    "\n",
    "X_train_fs = X_train[:,rfe_feature]\n",
    "# transform test input data\n",
    "X_test_fs = X_test[:,rfe_feature]\n",
    "SVC = svm.SVC( kernel = 'linear', max_iter = 25000, random_state = 52)\n",
    "\n",
    "SVC.fit(X_train_fs, list(y_train))\n",
    "y_pred = SVC.predict(X_test_fs)\n",
    "fs = ('fs', round(metrics.accuracy_score(list(y_test), y_pred),4))\n",
    "\n",
    "metrics.plot_confusion_matrix(SVC, X_test_fs, list(y_test))\n",
    "plt.title('Confusion matrix for linear with fs')\n",
    "\n",
    "SVC = svm.SVC( kernel = 'poly', max_iter = 25000, random_state = 52)\n",
    "SVC.fit(X_train, list(y_train))\n",
    "y_pred = SVC.predict(X_test)\n",
    "print('polynomial SVC')\n",
    "poly = ('poly', round(metrics.accuracy_score(list(y_test), y_pred),4))\n",
    "metrics.plot_confusion_matrix(SVC, X_test, list(y_test))\n",
    "plt.title('Confusion matrix for poly')\n",
    "scores_list = [base, fs, poly]\n",
    "\n"
   ]
  },
  {
   "cell_type": "code",
   "execution_count": 7,
   "metadata": {},
   "outputs": [
    {
     "data": {
      "text/plain": [
       "Text(0.5, 1.0, 'Aggregate accuracy for gender')"
      ]
     },
     "execution_count": 7,
     "metadata": {},
     "output_type": "execute_result"
    },
    {
     "data": {
      "image/png": "[encoded data removed]",
      "text/plain": [
       "<Figure size 432x288 with 1 Axes>"
      ]
     },
     "metadata": {
      "needs_background": "light"
     },
     "output_type": "display_data"
    }
   ],
   "source": [
    "import numpy as np                                                               \n",
    "import matplotlib.pyplot as plt\n",
    "\n",
    "\n",
    "labels, ys = zip(*scores_list)\n",
    "xs = np.arange(len(labels)) \n",
    "width = 0.5\n",
    "\n",
    "fig = plt.figure()                                                               \n",
    "ax = fig.gca()  #get current axes\n",
    "ax.bar(xs, ys, width, align='center')\n",
    "\n",
    "#Remove the default x-axis tick numbers and  \n",
    "#use tick numbers of your own choosing:\n",
    "#Replace the tick numbers with strings:\n",
    "#Remove the default y-axis tick numbers and  \n",
    "#use tick numbers of your own choosing:\n",
    "plt.axis([-0.5, 2.5, 0.5, 1])\n",
    "for i, v in enumerate(ys):\n",
    "    plt.text(xs[i] - 0.15, v + 0.005, str(v))\n",
    "ax.set_xticks(xs)\n",
    "ax.set_xticklabels(labels)\n",
    "plt.title('Aggregate accuracy for gender')"
   ]
  },
  {
   "cell_type": "code",
   "execution_count": 219,
   "metadata": {},
   "outputs": [
    {
     "name": "stdout",
     "output_type": "stream",
     "text": [
      "base linear SVC with no feature selection\n",
      "Fitting estimator with 157 features.\n",
      "Fitting estimator with 152 features.\n",
      "Fitting estimator with 147 features.\n",
      "Fitting estimator with 142 features.\n",
      "Fitting estimator with 137 features.\n",
      "Fitting estimator with 132 features.\n",
      "Fitting estimator with 127 features.\n",
      "Fitting estimator with 157 features.\n",
      "Fitting estimator with 152 features.\n",
      "Fitting estimator with 147 features.\n",
      "Fitting estimator with 142 features.\n",
      "Fitting estimator with 137 features.\n",
      "Fitting estimator with 132 features.\n",
      "Fitting estimator with 127 features.\n",
      "Fitting estimator with 122 features.\n",
      "Fitting estimator with 157 features.\n",
      "Fitting estimator with 152 features.\n",
      "Fitting estimator with 147 features.\n",
      "Fitting estimator with 142 features.\n",
      "Fitting estimator with 137 features.\n",
      "Fitting estimator with 132 features.\n",
      "Fitting estimator with 127 features.\n",
      "Fitting estimator with 122 features.\n",
      "Fitting estimator with 117 features.\n",
      "Fitting estimator with 112 features.\n",
      "Fitting estimator with 107 features.\n",
      "Fitting estimator with 157 features.\n",
      "Fitting estimator with 152 features.\n",
      "Fitting estimator with 147 features.\n",
      "Fitting estimator with 142 features.\n",
      "Fitting estimator with 137 features.\n",
      "Fitting estimator with 132 features.\n",
      "Fitting estimator with 127 features.\n",
      "Fitting estimator with 122 features.\n",
      "Fitting estimator with 117 features.\n",
      "Fitting estimator with 112 features.\n",
      "Fitting estimator with 107 features.\n",
      "Fitting estimator with 102 features.\n",
      "Fitting estimator with 97 features.\n",
      "Fitting estimator with 157 features.\n",
      "Fitting estimator with 152 features.\n",
      "Fitting estimator with 147 features.\n",
      "Fitting estimator with 142 features.\n",
      "Fitting estimator with 137 features.\n",
      "Fitting estimator with 132 features.\n",
      "Fitting estimator with 127 features.\n",
      "Fitting estimator with 122 features.\n",
      "Fitting estimator with 117 features.\n",
      "Fitting estimator with 112 features.\n",
      "Fitting estimator with 107 features.\n",
      "Fitting estimator with 102 features.\n",
      "Fitting estimator with 97 features.\n",
      "Fitting estimator with 92 features.\n",
      "Fitting estimator with 87 features.\n",
      "Fitting estimator with 82 features.\n",
      "Fitting estimator with 157 features.\n",
      "Fitting estimator with 152 features.\n",
      "Fitting estimator with 147 features.\n",
      "Fitting estimator with 142 features.\n",
      "Fitting estimator with 137 features.\n",
      "Fitting estimator with 132 features.\n",
      "Fitting estimator with 127 features.\n",
      "Fitting estimator with 122 features.\n",
      "Fitting estimator with 117 features.\n",
      "Fitting estimator with 112 features.\n",
      "Fitting estimator with 107 features.\n",
      "Fitting estimator with 102 features.\n",
      "Fitting estimator with 97 features.\n",
      "Fitting estimator with 92 features.\n",
      "Fitting estimator with 87 features.\n",
      "Fitting estimator with 82 features.\n",
      "Fitting estimator with 77 features.\n",
      "Fitting estimator with 72 features.\n",
      "Fitting estimator with 67 features.\n",
      "Fitting estimator with 157 features.\n",
      "Fitting estimator with 152 features.\n",
      "Fitting estimator with 147 features.\n",
      "Fitting estimator with 142 features.\n",
      "Fitting estimator with 137 features.\n",
      "Fitting estimator with 132 features.\n",
      "Fitting estimator with 127 features.\n",
      "Fitting estimator with 122 features.\n",
      "Fitting estimator with 117 features.\n",
      "Fitting estimator with 112 features.\n",
      "Fitting estimator with 107 features.\n",
      "Fitting estimator with 102 features.\n",
      "Fitting estimator with 97 features.\n",
      "Fitting estimator with 92 features.\n",
      "Fitting estimator with 87 features.\n",
      "Fitting estimator with 82 features.\n",
      "Fitting estimator with 77 features.\n",
      "Fitting estimator with 72 features.\n",
      "Fitting estimator with 67 features.\n",
      "Fitting estimator with 62 features.\n",
      "Fitting estimator with 57 features.\n",
      "Fitting estimator with 157 features.\n",
      "Fitting estimator with 152 features.\n",
      "Fitting estimator with 147 features.\n",
      "Fitting estimator with 142 features.\n",
      "Fitting estimator with 137 features.\n",
      "Fitting estimator with 132 features.\n",
      "Fitting estimator with 127 features.\n",
      "Fitting estimator with 122 features.\n",
      "Fitting estimator with 117 features.\n",
      "Fitting estimator with 112 features.\n",
      "Fitting estimator with 107 features.\n",
      "Fitting estimator with 102 features.\n",
      "Fitting estimator with 97 features.\n",
      "Fitting estimator with 92 features.\n",
      "Fitting estimator with 87 features.\n",
      "Fitting estimator with 82 features.\n",
      "Fitting estimator with 77 features.\n",
      "Fitting estimator with 72 features.\n",
      "Fitting estimator with 67 features.\n",
      "Fitting estimator with 62 features.\n",
      "Fitting estimator with 57 features.\n",
      "Fitting estimator with 52 features.\n",
      "Fitting estimator with 47 features.\n",
      "Fitting estimator with 42 features.\n",
      "Fitting estimator with 157 features.\n",
      "Fitting estimator with 152 features.\n",
      "Fitting estimator with 147 features.\n",
      "Fitting estimator with 142 features.\n",
      "Fitting estimator with 137 features.\n",
      "Fitting estimator with 132 features.\n",
      "Fitting estimator with 127 features.\n",
      "Fitting estimator with 122 features.\n",
      "Fitting estimator with 117 features.\n",
      "Fitting estimator with 112 features.\n",
      "Fitting estimator with 107 features.\n",
      "Fitting estimator with 102 features.\n",
      "Fitting estimator with 97 features.\n",
      "Fitting estimator with 92 features.\n",
      "Fitting estimator with 87 features.\n",
      "Fitting estimator with 82 features.\n",
      "Fitting estimator with 77 features.\n",
      "Fitting estimator with 72 features.\n",
      "Fitting estimator with 67 features.\n",
      "Fitting estimator with 62 features.\n",
      "Fitting estimator with 57 features.\n",
      "Fitting estimator with 52 features.\n",
      "Fitting estimator with 47 features.\n",
      "Fitting estimator with 42 features.\n",
      "Fitting estimator with 37 features.\n",
      "Fitting estimator with 32 features.\n",
      "Fitting estimator with 157 features.\n",
      "Fitting estimator with 152 features.\n",
      "Fitting estimator with 147 features.\n",
      "Fitting estimator with 142 features.\n",
      "Fitting estimator with 137 features.\n",
      "Fitting estimator with 132 features.\n",
      "Fitting estimator with 127 features.\n",
      "Fitting estimator with 122 features.\n",
      "Fitting estimator with 117 features.\n",
      "Fitting estimator with 112 features.\n",
      "Fitting estimator with 107 features.\n",
      "Fitting estimator with 102 features.\n",
      "Fitting estimator with 97 features.\n",
      "Fitting estimator with 92 features.\n",
      "Fitting estimator with 87 features.\n",
      "Fitting estimator with 82 features.\n",
      "Fitting estimator with 77 features.\n",
      "Fitting estimator with 72 features.\n",
      "Fitting estimator with 67 features.\n",
      "Fitting estimator with 62 features.\n",
      "Fitting estimator with 57 features.\n",
      "Fitting estimator with 52 features.\n",
      "Fitting estimator with 47 features.\n",
      "Fitting estimator with 42 features.\n",
      "39 selected features\n",
      "base linear SVC with feature selection--top 30 features--\n",
      "polynomial SVC\n"
     ]
    },
    {
     "data": {
      "image/png": "[encoded data removed]",
      "text/plain": [
       "<Figure size 432x288 with 2 Axes>"
      ]
     },
     "metadata": {
      "needs_background": "light"
     },
     "output_type": "display_data"
    },
    {
     "data": {
      "image/png": "[encoded data removed]",
      "text/plain": [
       "<Figure size 432x288 with 2 Axes>"
      ]
     },
     "metadata": {
      "needs_background": "light"
     },
     "output_type": "display_data"
    },
    {
     "data": {
      "image/png": "[encoded data removed]",
      "text/plain": [
       "<Figure size 432x288 with 2 Axes>"
      ]
     },
     "metadata": {
      "needs_background": "light"
     },
     "output_type": "display_data"
    }
   ],
   "source": [
    "#trying svm with cross validiation\n",
    "from sklearn.model_selection import cross_val_score\n",
    "from sklearn.metrics import classification_report, confusion_matrix\n",
    "\n",
    "data_array = data.values\n",
    "data_array\n",
    "Y = data_array[:,123]\n",
    "X = np.delete(data_array, 123, axis = 1)\n",
    "X_train, X_test, y_train, y_test = train_test_split(X, Y, test_size = 0.3, random_state = 42)\n",
    "\n",
    "from sklearn.preprocessing import MinMaxScaler\n",
    "scaler = MinMaxScaler()\n",
    "scaler.fit(X_train)  # Don't cheat - fit only on training data\n",
    "X_train = scaler.transform(X_train)\n",
    "X_test = scaler.transform(X_test)  # apply same transformation to test data\n",
    "\n",
    "\n",
    "SVC = svm.SVC( kernel = 'linear', max_iter = 25000, random_state = 52)\n",
    "\n",
    "SVC.fit(X_train, list(y_train))\n",
    "y_pred = SVC.predict(X_test)\n",
    "print('base linear SVC with no feature selection')\n",
    "base = ('base', round(metrics.accuracy_score(list(y_test), y_pred),4))\n",
    "metrics.plot_confusion_matrix(SVC, X_test, list(y_test))\n",
    "plt.title('Confusion matrix for linear')\n",
    "######################################\n",
    "from sklearn.feature_selection import RFE\n",
    "optimal_number = optimal_feature_number(X,Y,SVC)\n",
    "\n",
    "rfe_selector = RFE(estimator=SVC, n_features_to_select=optimal_number, step=5, verbose=5)\n",
    "rfe_selector.fit(X_train, list(y_train))\n",
    "rfe_support = rfe_selector.get_support()\n",
    "rfe_feature = pd.DataFrame(X_train).loc[:,rfe_support].columns.tolist()\n",
    "print(str(len(rfe_feature)), 'selected features')\n",
    "rfe_feature\n",
    "\n",
    "X_train_fs = X_train[:,rfe_feature]\n",
    "# transform test input data\n",
    "X_test_fs = X_test[:,rfe_feature]\n",
    "SVC = svm.SVC( kernel = 'linear', max_iter = 25000, random_state = 52)\n",
    "\n",
    "SVC.fit(X_train_fs, list(y_train))\n",
    "y_pred = SVC.predict(X_test_fs)\n",
    "print('base linear SVC with feature selection--top 30 features--')\n",
    "fs = ('fs', round(metrics.accuracy_score(list(y_test), y_pred),4))\n",
    "\n",
    "metrics.plot_confusion_matrix(SVC, X_test_fs, list(y_test), labels = np.arange(1,6))\n",
    "plt.title('Confusion matrix for linear with fs')\n",
    "\n",
    "SVC = svm.SVC( kernel = 'poly', max_iter = 25000, random_state = 52)\n",
    "SVC.fit(X_train, list(y_train))\n",
    "y_pred = SVC.predict(X_test)\n",
    "print('polynomial SVC')\n",
    "poly = ('poly', round(metrics.accuracy_score(list(y_test), y_pred),4))\n",
    "metrics.plot_confusion_matrix(SVC, X_test, list(y_test), labels = np.arange(1,6))\n",
    "plt.title('Confusion matrix for poly')\n",
    "scores_list = [base, fs, poly]\n"
   ]
  },
  {
   "cell_type": "code",
   "execution_count": 221,
   "metadata": {},
   "outputs": [
    {
     "data": {
      "text/plain": [
       "Text(0.5, 1.0, 'Aggregate accuracy for happiness')"
      ]
     },
     "execution_count": 221,
     "metadata": {},
     "output_type": "execute_result"
    },
    {
     "data": {
      "image/png": "[encoded data removed]",
      "text/plain": [
       "<Figure size 432x288 with 1 Axes>"
      ]
     },
     "metadata": {
      "needs_background": "light"
     },
     "output_type": "display_data"
    }
   ],
   "source": [
    "import numpy as np                                                               \n",
    "import matplotlib.pyplot as plt\n",
    "\n",
    "\n",
    "labels, ys = zip(*scores_list)\n",
    "xs = np.arange(len(labels)) \n",
    "width = 0.5\n",
    "\n",
    "fig = plt.figure()                                                               \n",
    "ax = fig.gca()  #get current axes\n",
    "ax.bar(xs, ys, width, align='center')\n",
    "\n",
    "#Remove the default x-axis tick numbers and  \n",
    "#use tick numbers of your own choosing:\n",
    "#Replace the tick numbers with strings:\n",
    "#Remove the default y-axis tick numbers and  \n",
    "#use tick numbers of your own choosing:\n",
    "plt.axis([-0.5, 2.5, 0.10, 0.70])\n",
    "for i, v in enumerate(ys):\n",
    "    plt.text(xs[i] - 0.15, v + 0.005, str(v))\n",
    "ax.set_xticks(xs)\n",
    "ax.set_xticklabels(labels)\n",
    "plt.title('Aggregate accuracy for happiness')\n"
   ]
  },
  {
   "cell_type": "code",
   "execution_count": 8,
   "metadata": {},
   "outputs": [
    {
     "data": {
      "text/plain": [
       "(977, 157)"
      ]
     },
     "execution_count": 8,
     "metadata": {},
     "output_type": "execute_result"
    }
   ],
   "source": [
    "Y = data_array[:,123]\n",
    "import random\n",
    "binary_giving = []\n",
    "for val in Y:\n",
    "    if val < 2:\n",
    "        binary_giving.append(0)\n",
    "    elif val>3:\n",
    "        binary_giving.append(1)\n",
    "    else:\n",
    "        temp = random.uniform(0,1)\n",
    "        if temp < 0.5:\n",
    "            binary_giving.append(0)\n",
    "        else:\n",
    "            binary_giving.append(1)\n",
    "Y_binary = np.array(binary_giving)\n",
    "X.shape"
   ]
  },
  {
   "cell_type": "code",
   "execution_count": 11,
   "metadata": {},
   "outputs": [
    {
     "name": "stdout",
     "output_type": "stream",
     "text": [
      "base linear SVC with no feature selection\n",
      "Fitting estimator with 157 features.\n",
      "Fitting estimator with 152 features.\n",
      "Fitting estimator with 147 features.\n"
     ]
    },
    {
     "name": "stderr",
     "output_type": "stream",
     "text": [
      "C:\\Users\\JayZ\\anaconda3\\lib\\site-packages\\sklearn\\svm\\_base.py:246: ConvergenceWarning: Solver terminated early (max_iter=25000).  Consider pre-processing your data with StandardScaler or MinMaxScaler.\n",
      "  warnings.warn('Solver terminated early (max_iter=%i).'\n",
      "C:\\Users\\JayZ\\anaconda3\\lib\\site-packages\\sklearn\\svm\\_base.py:246: ConvergenceWarning: Solver terminated early (max_iter=25000).  Consider pre-processing your data with StandardScaler or MinMaxScaler.\n",
      "  warnings.warn('Solver terminated early (max_iter=%i).'\n",
      "C:\\Users\\JayZ\\anaconda3\\lib\\site-packages\\sklearn\\svm\\_base.py:246: ConvergenceWarning: Solver terminated early (max_iter=25000).  Consider pre-processing your data with StandardScaler or MinMaxScaler.\n",
      "  warnings.warn('Solver terminated early (max_iter=%i).'\n"
     ]
    },
    {
     "name": "stdout",
     "output_type": "stream",
     "text": [
      "Fitting estimator with 142 features.\n",
      "Fitting estimator with 137 features.\n",
      "Fitting estimator with 132 features.\n"
     ]
    },
    {
     "name": "stderr",
     "output_type": "stream",
     "text": [
      "C:\\Users\\JayZ\\anaconda3\\lib\\site-packages\\sklearn\\svm\\_base.py:246: ConvergenceWarning: Solver terminated early (max_iter=25000).  Consider pre-processing your data with StandardScaler or MinMaxScaler.\n",
      "  warnings.warn('Solver terminated early (max_iter=%i).'\n",
      "C:\\Users\\JayZ\\anaconda3\\lib\\site-packages\\sklearn\\svm\\_base.py:246: ConvergenceWarning: Solver terminated early (max_iter=25000).  Consider pre-processing your data with StandardScaler or MinMaxScaler.\n",
      "  warnings.warn('Solver terminated early (max_iter=%i).'\n",
      "C:\\Users\\JayZ\\anaconda3\\lib\\site-packages\\sklearn\\svm\\_base.py:246: ConvergenceWarning: Solver terminated early (max_iter=25000).  Consider pre-processing your data with StandardScaler or MinMaxScaler.\n",
      "  warnings.warn('Solver terminated early (max_iter=%i).'\n",
      "C:\\Users\\JayZ\\anaconda3\\lib\\site-packages\\sklearn\\svm\\_base.py:246: ConvergenceWarning: Solver terminated early (max_iter=25000).  Consider pre-processing your data with StandardScaler or MinMaxScaler.\n",
      "  warnings.warn('Solver terminated early (max_iter=%i).'\n"
     ]
    },
    {
     "name": "stdout",
     "output_type": "stream",
     "text": [
      "Fitting estimator with 127 features.\n",
      "Fitting estimator with 157 features.\n",
      "Fitting estimator with 152 features.\n",
      "Fitting estimator with 147 features.\n",
      "Fitting estimator with 142 features.\n"
     ]
    },
    {
     "name": "stderr",
     "output_type": "stream",
     "text": [
      "C:\\Users\\JayZ\\anaconda3\\lib\\site-packages\\sklearn\\svm\\_base.py:246: ConvergenceWarning: Solver terminated early (max_iter=25000).  Consider pre-processing your data with StandardScaler or MinMaxScaler.\n",
      "  warnings.warn('Solver terminated early (max_iter=%i).'\n",
      "C:\\Users\\JayZ\\anaconda3\\lib\\site-packages\\sklearn\\svm\\_base.py:246: ConvergenceWarning: Solver terminated early (max_iter=25000).  Consider pre-processing your data with StandardScaler or MinMaxScaler.\n",
      "  warnings.warn('Solver terminated early (max_iter=%i).'\n",
      "C:\\Users\\JayZ\\anaconda3\\lib\\site-packages\\sklearn\\svm\\_base.py:246: ConvergenceWarning: Solver terminated early (max_iter=25000).  Consider pre-processing your data with StandardScaler or MinMaxScaler.\n",
      "  warnings.warn('Solver terminated early (max_iter=%i).'\n"
     ]
    },
    {
     "name": "stdout",
     "output_type": "stream",
     "text": [
      "Fitting estimator with 137 features.\n",
      "Fitting estimator with 132 features.\n",
      "Fitting estimator with 127 features.\n"
     ]
    },
    {
     "name": "stderr",
     "output_type": "stream",
     "text": [
      "C:\\Users\\JayZ\\anaconda3\\lib\\site-packages\\sklearn\\svm\\_base.py:246: ConvergenceWarning: Solver terminated early (max_iter=25000).  Consider pre-processing your data with StandardScaler or MinMaxScaler.\n",
      "  warnings.warn('Solver terminated early (max_iter=%i).'\n",
      "C:\\Users\\JayZ\\anaconda3\\lib\\site-packages\\sklearn\\svm\\_base.py:246: ConvergenceWarning: Solver terminated early (max_iter=25000).  Consider pre-processing your data with StandardScaler or MinMaxScaler.\n",
      "  warnings.warn('Solver terminated early (max_iter=%i).'\n",
      "C:\\Users\\JayZ\\anaconda3\\lib\\site-packages\\sklearn\\svm\\_base.py:246: ConvergenceWarning: Solver terminated early (max_iter=25000).  Consider pre-processing your data with StandardScaler or MinMaxScaler.\n",
      "  warnings.warn('Solver terminated early (max_iter=%i).'\n",
      "C:\\Users\\JayZ\\anaconda3\\lib\\site-packages\\sklearn\\svm\\_base.py:246: ConvergenceWarning: Solver terminated early (max_iter=25000).  Consider pre-processing your data with StandardScaler or MinMaxScaler.\n",
      "  warnings.warn('Solver terminated early (max_iter=%i).'\n"
     ]
    },
    {
     "name": "stdout",
     "output_type": "stream",
     "text": [
      "Fitting estimator with 122 features.\n",
      "Fitting estimator with 157 features.\n"
     ]
    },
    {
     "name": "stderr",
     "output_type": "stream",
     "text": [
      "C:\\Users\\JayZ\\anaconda3\\lib\\site-packages\\sklearn\\svm\\_base.py:246: ConvergenceWarning: Solver terminated early (max_iter=25000).  Consider pre-processing your data with StandardScaler or MinMaxScaler.\n",
      "  warnings.warn('Solver terminated early (max_iter=%i).'\n",
      "C:\\Users\\JayZ\\anaconda3\\lib\\site-packages\\sklearn\\svm\\_base.py:246: ConvergenceWarning: Solver terminated early (max_iter=25000).  Consider pre-processing your data with StandardScaler or MinMaxScaler.\n",
      "  warnings.warn('Solver terminated early (max_iter=%i).'\n"
     ]
    },
    {
     "name": "stdout",
     "output_type": "stream",
     "text": [
      "Fitting estimator with 152 features.\n",
      "Fitting estimator with 147 features.\n",
      "Fitting estimator with 142 features.\n"
     ]
    },
    {
     "name": "stderr",
     "output_type": "stream",
     "text": [
      "C:\\Users\\JayZ\\anaconda3\\lib\\site-packages\\sklearn\\svm\\_base.py:246: ConvergenceWarning: Solver terminated early (max_iter=25000).  Consider pre-processing your data with StandardScaler or MinMaxScaler.\n",
      "  warnings.warn('Solver terminated early (max_iter=%i).'\n",
      "C:\\Users\\JayZ\\anaconda3\\lib\\site-packages\\sklearn\\svm\\_base.py:246: ConvergenceWarning: Solver terminated early (max_iter=25000).  Consider pre-processing your data with StandardScaler or MinMaxScaler.\n",
      "  warnings.warn('Solver terminated early (max_iter=%i).'\n",
      "C:\\Users\\JayZ\\anaconda3\\lib\\site-packages\\sklearn\\svm\\_base.py:246: ConvergenceWarning: Solver terminated early (max_iter=25000).  Consider pre-processing your data with StandardScaler or MinMaxScaler.\n",
      "  warnings.warn('Solver terminated early (max_iter=%i).'\n"
     ]
    },
    {
     "name": "stdout",
     "output_type": "stream",
     "text": [
      "Fitting estimator with 137 features.\n",
      "Fitting estimator with 132 features.\n",
      "Fitting estimator with 127 features.\n"
     ]
    },
    {
     "name": "stderr",
     "output_type": "stream",
     "text": [
      "C:\\Users\\JayZ\\anaconda3\\lib\\site-packages\\sklearn\\svm\\_base.py:246: ConvergenceWarning: Solver terminated early (max_iter=25000).  Consider pre-processing your data with StandardScaler or MinMaxScaler.\n",
      "  warnings.warn('Solver terminated early (max_iter=%i).'\n",
      "C:\\Users\\JayZ\\anaconda3\\lib\\site-packages\\sklearn\\svm\\_base.py:246: ConvergenceWarning: Solver terminated early (max_iter=25000).  Consider pre-processing your data with StandardScaler or MinMaxScaler.\n",
      "  warnings.warn('Solver terminated early (max_iter=%i).'\n",
      "C:\\Users\\JayZ\\anaconda3\\lib\\site-packages\\sklearn\\svm\\_base.py:246: ConvergenceWarning: Solver terminated early (max_iter=25000).  Consider pre-processing your data with StandardScaler or MinMaxScaler.\n",
      "  warnings.warn('Solver terminated early (max_iter=%i).'\n"
     ]
    },
    {
     "name": "stdout",
     "output_type": "stream",
     "text": [
      "Fitting estimator with 122 features.\n",
      "Fitting estimator with 117 features.\n",
      "Fitting estimator with 112 features.\n",
      "Fitting estimator with 107 features.\n"
     ]
    },
    {
     "name": "stderr",
     "output_type": "stream",
     "text": [
      "C:\\Users\\JayZ\\anaconda3\\lib\\site-packages\\sklearn\\svm\\_base.py:246: ConvergenceWarning: Solver terminated early (max_iter=25000).  Consider pre-processing your data with StandardScaler or MinMaxScaler.\n",
      "  warnings.warn('Solver terminated early (max_iter=%i).'\n"
     ]
    },
    {
     "name": "stdout",
     "output_type": "stream",
     "text": [
      "Fitting estimator with 157 features.\n",
      "Fitting estimator with 152 features.\n",
      "Fitting estimator with 147 features.\n"
     ]
    },
    {
     "name": "stderr",
     "output_type": "stream",
     "text": [
      "C:\\Users\\JayZ\\anaconda3\\lib\\site-packages\\sklearn\\svm\\_base.py:246: ConvergenceWarning: Solver terminated early (max_iter=25000).  Consider pre-processing your data with StandardScaler or MinMaxScaler.\n",
      "  warnings.warn('Solver terminated early (max_iter=%i).'\n",
      "C:\\Users\\JayZ\\anaconda3\\lib\\site-packages\\sklearn\\svm\\_base.py:246: ConvergenceWarning: Solver terminated early (max_iter=25000).  Consider pre-processing your data with StandardScaler or MinMaxScaler.\n",
      "  warnings.warn('Solver terminated early (max_iter=%i).'\n",
      "C:\\Users\\JayZ\\anaconda3\\lib\\site-packages\\sklearn\\svm\\_base.py:246: ConvergenceWarning: Solver terminated early (max_iter=25000).  Consider pre-processing your data with StandardScaler or MinMaxScaler.\n",
      "  warnings.warn('Solver terminated early (max_iter=%i).'\n"
     ]
    },
    {
     "name": "stdout",
     "output_type": "stream",
     "text": [
      "Fitting estimator with 142 features.\n",
      "Fitting estimator with 137 features.\n",
      "Fitting estimator with 132 features.\n"
     ]
    },
    {
     "name": "stderr",
     "output_type": "stream",
     "text": [
      "C:\\Users\\JayZ\\anaconda3\\lib\\site-packages\\sklearn\\svm\\_base.py:246: ConvergenceWarning: Solver terminated early (max_iter=25000).  Consider pre-processing your data with StandardScaler or MinMaxScaler.\n",
      "  warnings.warn('Solver terminated early (max_iter=%i).'\n",
      "C:\\Users\\JayZ\\anaconda3\\lib\\site-packages\\sklearn\\svm\\_base.py:246: ConvergenceWarning: Solver terminated early (max_iter=25000).  Consider pre-processing your data with StandardScaler or MinMaxScaler.\n",
      "  warnings.warn('Solver terminated early (max_iter=%i).'\n",
      "C:\\Users\\JayZ\\anaconda3\\lib\\site-packages\\sklearn\\svm\\_base.py:246: ConvergenceWarning: Solver terminated early (max_iter=25000).  Consider pre-processing your data with StandardScaler or MinMaxScaler.\n",
      "  warnings.warn('Solver terminated early (max_iter=%i).'\n",
      "C:\\Users\\JayZ\\anaconda3\\lib\\site-packages\\sklearn\\svm\\_base.py:246: ConvergenceWarning: Solver terminated early (max_iter=25000).  Consider pre-processing your data with StandardScaler or MinMaxScaler.\n",
      "  warnings.warn('Solver terminated early (max_iter=%i).'\n"
     ]
    },
    {
     "name": "stdout",
     "output_type": "stream",
     "text": [
      "Fitting estimator with 127 features.\n",
      "Fitting estimator with 122 features.\n",
      "Fitting estimator with 117 features.\n",
      "Fitting estimator with 112 features.\n"
     ]
    },
    {
     "name": "stderr",
     "output_type": "stream",
     "text": [
      "C:\\Users\\JayZ\\anaconda3\\lib\\site-packages\\sklearn\\svm\\_base.py:246: ConvergenceWarning: Solver terminated early (max_iter=25000).  Consider pre-processing your data with StandardScaler or MinMaxScaler.\n",
      "  warnings.warn('Solver terminated early (max_iter=%i).'\n"
     ]
    },
    {
     "name": "stdout",
     "output_type": "stream",
     "text": [
      "Fitting estimator with 107 features.\n",
      "Fitting estimator with 102 features.\n",
      "Fitting estimator with 97 features.\n",
      "Fitting estimator with 157 features.\n",
      "Fitting estimator with 152 features.\n",
      "Fitting estimator with 147 features.\n",
      "Fitting estimator with 142 features.\n"
     ]
    },
    {
     "name": "stderr",
     "output_type": "stream",
     "text": [
      "C:\\Users\\JayZ\\anaconda3\\lib\\site-packages\\sklearn\\svm\\_base.py:246: ConvergenceWarning: Solver terminated early (max_iter=25000).  Consider pre-processing your data with StandardScaler or MinMaxScaler.\n",
      "  warnings.warn('Solver terminated early (max_iter=%i).'\n",
      "C:\\Users\\JayZ\\anaconda3\\lib\\site-packages\\sklearn\\svm\\_base.py:246: ConvergenceWarning: Solver terminated early (max_iter=25000).  Consider pre-processing your data with StandardScaler or MinMaxScaler.\n",
      "  warnings.warn('Solver terminated early (max_iter=%i).'\n",
      "C:\\Users\\JayZ\\anaconda3\\lib\\site-packages\\sklearn\\svm\\_base.py:246: ConvergenceWarning: Solver terminated early (max_iter=25000).  Consider pre-processing your data with StandardScaler or MinMaxScaler.\n",
      "  warnings.warn('Solver terminated early (max_iter=%i).'\n"
     ]
    },
    {
     "name": "stdout",
     "output_type": "stream",
     "text": [
      "Fitting estimator with 137 features.\n",
      "Fitting estimator with 132 features.\n",
      "Fitting estimator with 127 features.\n"
     ]
    },
    {
     "name": "stderr",
     "output_type": "stream",
     "text": [
      "C:\\Users\\JayZ\\anaconda3\\lib\\site-packages\\sklearn\\svm\\_base.py:246: ConvergenceWarning: Solver terminated early (max_iter=25000).  Consider pre-processing your data with StandardScaler or MinMaxScaler.\n",
      "  warnings.warn('Solver terminated early (max_iter=%i).'\n",
      "C:\\Users\\JayZ\\anaconda3\\lib\\site-packages\\sklearn\\svm\\_base.py:246: ConvergenceWarning: Solver terminated early (max_iter=25000).  Consider pre-processing your data with StandardScaler or MinMaxScaler.\n",
      "  warnings.warn('Solver terminated early (max_iter=%i).'\n",
      "C:\\Users\\JayZ\\anaconda3\\lib\\site-packages\\sklearn\\svm\\_base.py:246: ConvergenceWarning: Solver terminated early (max_iter=25000).  Consider pre-processing your data with StandardScaler or MinMaxScaler.\n",
      "  warnings.warn('Solver terminated early (max_iter=%i).'\n",
      "C:\\Users\\JayZ\\anaconda3\\lib\\site-packages\\sklearn\\svm\\_base.py:246: ConvergenceWarning: Solver terminated early (max_iter=25000).  Consider pre-processing your data with StandardScaler or MinMaxScaler.\n",
      "  warnings.warn('Solver terminated early (max_iter=%i).'\n"
     ]
    },
    {
     "name": "stdout",
     "output_type": "stream",
     "text": [
      "Fitting estimator with 122 features.\n",
      "Fitting estimator with 117 features.\n",
      "Fitting estimator with 112 features.\n",
      "Fitting estimator with 107 features.\n",
      "Fitting estimator with 102 features."
     ]
    },
    {
     "name": "stderr",
     "output_type": "stream",
     "text": [
      "C:\\Users\\JayZ\\anaconda3\\lib\\site-packages\\sklearn\\svm\\_base.py:246: ConvergenceWarning: Solver terminated early (max_iter=25000).  Consider pre-processing your data with StandardScaler or MinMaxScaler.\n",
      "  warnings.warn('Solver terminated early (max_iter=%i).'\n"
     ]
    },
    {
     "name": "stdout",
     "output_type": "stream",
     "text": [
      "\n",
      "Fitting estimator with 97 features.\n",
      "Fitting estimator with 92 features.\n",
      "Fitting estimator with 87 features.\n",
      "Fitting estimator with 82 features.\n",
      "Fitting estimator with 157 features.\n",
      "Fitting estimator with 152 features.\n",
      "Fitting estimator with 147 features.\n"
     ]
    },
    {
     "name": "stderr",
     "output_type": "stream",
     "text": [
      "C:\\Users\\JayZ\\anaconda3\\lib\\site-packages\\sklearn\\svm\\_base.py:246: ConvergenceWarning: Solver terminated early (max_iter=25000).  Consider pre-processing your data with StandardScaler or MinMaxScaler.\n",
      "  warnings.warn('Solver terminated early (max_iter=%i).'\n",
      "C:\\Users\\JayZ\\anaconda3\\lib\\site-packages\\sklearn\\svm\\_base.py:246: ConvergenceWarning: Solver terminated early (max_iter=25000).  Consider pre-processing your data with StandardScaler or MinMaxScaler.\n",
      "  warnings.warn('Solver terminated early (max_iter=%i).'\n",
      "C:\\Users\\JayZ\\anaconda3\\lib\\site-packages\\sklearn\\svm\\_base.py:246: ConvergenceWarning: Solver terminated early (max_iter=25000).  Consider pre-processing your data with StandardScaler or MinMaxScaler.\n",
      "  warnings.warn('Solver terminated early (max_iter=%i).'\n"
     ]
    },
    {
     "name": "stdout",
     "output_type": "stream",
     "text": [
      "Fitting estimator with 142 features.\n",
      "Fitting estimator with 137 features.\n",
      "Fitting estimator with 132 features.\n"
     ]
    },
    {
     "name": "stderr",
     "output_type": "stream",
     "text": [
      "C:\\Users\\JayZ\\anaconda3\\lib\\site-packages\\sklearn\\svm\\_base.py:246: ConvergenceWarning: Solver terminated early (max_iter=25000).  Consider pre-processing your data with StandardScaler or MinMaxScaler.\n",
      "  warnings.warn('Solver terminated early (max_iter=%i).'\n",
      "C:\\Users\\JayZ\\anaconda3\\lib\\site-packages\\sklearn\\svm\\_base.py:246: ConvergenceWarning: Solver terminated early (max_iter=25000).  Consider pre-processing your data with StandardScaler or MinMaxScaler.\n",
      "  warnings.warn('Solver terminated early (max_iter=%i).'\n",
      "C:\\Users\\JayZ\\anaconda3\\lib\\site-packages\\sklearn\\svm\\_base.py:246: ConvergenceWarning: Solver terminated early (max_iter=25000).  Consider pre-processing your data with StandardScaler or MinMaxScaler.\n",
      "  warnings.warn('Solver terminated early (max_iter=%i).'\n",
      "C:\\Users\\JayZ\\anaconda3\\lib\\site-packages\\sklearn\\svm\\_base.py:246: ConvergenceWarning: Solver terminated early (max_iter=25000).  Consider pre-processing your data with StandardScaler or MinMaxScaler.\n",
      "  warnings.warn('Solver terminated early (max_iter=%i).'\n"
     ]
    },
    {
     "name": "stdout",
     "output_type": "stream",
     "text": [
      "Fitting estimator with 127 features.\n",
      "Fitting estimator with 122 features.\n",
      "Fitting estimator with 117 features.\n",
      "Fitting estimator with 112 features.\n"
     ]
    },
    {
     "name": "stderr",
     "output_type": "stream",
     "text": [
      "C:\\Users\\JayZ\\anaconda3\\lib\\site-packages\\sklearn\\svm\\_base.py:246: ConvergenceWarning: Solver terminated early (max_iter=25000).  Consider pre-processing your data with StandardScaler or MinMaxScaler.\n",
      "  warnings.warn('Solver terminated early (max_iter=%i).'\n"
     ]
    },
    {
     "name": "stdout",
     "output_type": "stream",
     "text": [
      "Fitting estimator with 107 features.\n",
      "Fitting estimator with 102 features.\n",
      "Fitting estimator with 97 features.\n",
      "Fitting estimator with 92 features.\n",
      "Fitting estimator with 87 features.\n",
      "Fitting estimator with 82 features.\n",
      "Fitting estimator with 77 features.\n",
      "Fitting estimator with 72 features.\n",
      "Fitting estimator with 67 features.\n",
      "Fitting estimator with 157 features.\n",
      "Fitting estimator with 152 features.\n",
      "Fitting estimator with 147 features.\n",
      "Fitting estimator with 142 features.\n"
     ]
    },
    {
     "name": "stderr",
     "output_type": "stream",
     "text": [
      "C:\\Users\\JayZ\\anaconda3\\lib\\site-packages\\sklearn\\svm\\_base.py:246: ConvergenceWarning: Solver terminated early (max_iter=25000).  Consider pre-processing your data with StandardScaler or MinMaxScaler.\n",
      "  warnings.warn('Solver terminated early (max_iter=%i).'\n",
      "C:\\Users\\JayZ\\anaconda3\\lib\\site-packages\\sklearn\\svm\\_base.py:246: ConvergenceWarning: Solver terminated early (max_iter=25000).  Consider pre-processing your data with StandardScaler or MinMaxScaler.\n",
      "  warnings.warn('Solver terminated early (max_iter=%i).'\n",
      "C:\\Users\\JayZ\\anaconda3\\lib\\site-packages\\sklearn\\svm\\_base.py:246: ConvergenceWarning: Solver terminated early (max_iter=25000).  Consider pre-processing your data with StandardScaler or MinMaxScaler.\n",
      "  warnings.warn('Solver terminated early (max_iter=%i).'\n"
     ]
    },
    {
     "name": "stdout",
     "output_type": "stream",
     "text": [
      "Fitting estimator with 137 features.\n",
      "Fitting estimator with 132 features.\n",
      "Fitting estimator with 127 features.\n"
     ]
    },
    {
     "name": "stderr",
     "output_type": "stream",
     "text": [
      "C:\\Users\\JayZ\\anaconda3\\lib\\site-packages\\sklearn\\svm\\_base.py:246: ConvergenceWarning: Solver terminated early (max_iter=25000).  Consider pre-processing your data with StandardScaler or MinMaxScaler.\n",
      "  warnings.warn('Solver terminated early (max_iter=%i).'\n",
      "C:\\Users\\JayZ\\anaconda3\\lib\\site-packages\\sklearn\\svm\\_base.py:246: ConvergenceWarning: Solver terminated early (max_iter=25000).  Consider pre-processing your data with StandardScaler or MinMaxScaler.\n",
      "  warnings.warn('Solver terminated early (max_iter=%i).'\n",
      "C:\\Users\\JayZ\\anaconda3\\lib\\site-packages\\sklearn\\svm\\_base.py:246: ConvergenceWarning: Solver terminated early (max_iter=25000).  Consider pre-processing your data with StandardScaler or MinMaxScaler.\n",
      "  warnings.warn('Solver terminated early (max_iter=%i).'\n",
      "C:\\Users\\JayZ\\anaconda3\\lib\\site-packages\\sklearn\\svm\\_base.py:246: ConvergenceWarning: Solver terminated early (max_iter=25000).  Consider pre-processing your data with StandardScaler or MinMaxScaler.\n",
      "  warnings.warn('Solver terminated early (max_iter=%i).'\n"
     ]
    },
    {
     "name": "stdout",
     "output_type": "stream",
     "text": [
      "Fitting estimator with 122 features.\n",
      "Fitting estimator with 117 features.\n",
      "Fitting estimator with 112 features.\n",
      "Fitting estimator with 107 features.\n"
     ]
    },
    {
     "name": "stderr",
     "output_type": "stream",
     "text": [
      "C:\\Users\\JayZ\\anaconda3\\lib\\site-packages\\sklearn\\svm\\_base.py:246: ConvergenceWarning: Solver terminated early (max_iter=25000).  Consider pre-processing your data with StandardScaler or MinMaxScaler.\n",
      "  warnings.warn('Solver terminated early (max_iter=%i).'\n"
     ]
    },
    {
     "name": "stdout",
     "output_type": "stream",
     "text": [
      "Fitting estimator with 102 features.\n",
      "Fitting estimator with 97 features.\n",
      "Fitting estimator with 92 features.\n",
      "Fitting estimator with 87 features.\n",
      "Fitting estimator with 82 features.\n",
      "Fitting estimator with 77 features.\n",
      "Fitting estimator with 72 features.\n",
      "Fitting estimator with 67 features.\n",
      "Fitting estimator with 62 features.\n",
      "Fitting estimator with 57 features.\n",
      "Fitting estimator with 157 features.\n",
      "Fitting estimator with 152 features.\n",
      "Fitting estimator with 147 features.\n",
      "Fitting estimator with 142 features.\n"
     ]
    },
    {
     "name": "stderr",
     "output_type": "stream",
     "text": [
      "C:\\Users\\JayZ\\anaconda3\\lib\\site-packages\\sklearn\\svm\\_base.py:246: ConvergenceWarning: Solver terminated early (max_iter=25000).  Consider pre-processing your data with StandardScaler or MinMaxScaler.\n",
      "  warnings.warn('Solver terminated early (max_iter=%i).'\n",
      "C:\\Users\\JayZ\\anaconda3\\lib\\site-packages\\sklearn\\svm\\_base.py:246: ConvergenceWarning: Solver terminated early (max_iter=25000).  Consider pre-processing your data with StandardScaler or MinMaxScaler.\n",
      "  warnings.warn('Solver terminated early (max_iter=%i).'\n",
      "C:\\Users\\JayZ\\anaconda3\\lib\\site-packages\\sklearn\\svm\\_base.py:246: ConvergenceWarning: Solver terminated early (max_iter=25000).  Consider pre-processing your data with StandardScaler or MinMaxScaler.\n",
      "  warnings.warn('Solver terminated early (max_iter=%i).'\n"
     ]
    },
    {
     "name": "stdout",
     "output_type": "stream",
     "text": [
      "Fitting estimator with 137 features.\n",
      "Fitting estimator with 132 features.\n",
      "Fitting estimator with 127 features.\n",
      "Fitting estimator with 122 features."
     ]
    },
    {
     "name": "stderr",
     "output_type": "stream",
     "text": [
      "C:\\Users\\JayZ\\anaconda3\\lib\\site-packages\\sklearn\\svm\\_base.py:246: ConvergenceWarning: Solver terminated early (max_iter=25000).  Consider pre-processing your data with StandardScaler or MinMaxScaler.\n",
      "  warnings.warn('Solver terminated early (max_iter=%i).'\n",
      "C:\\Users\\JayZ\\anaconda3\\lib\\site-packages\\sklearn\\svm\\_base.py:246: ConvergenceWarning: Solver terminated early (max_iter=25000).  Consider pre-processing your data with StandardScaler or MinMaxScaler.\n",
      "  warnings.warn('Solver terminated early (max_iter=%i).'\n",
      "C:\\Users\\JayZ\\anaconda3\\lib\\site-packages\\sklearn\\svm\\_base.py:246: ConvergenceWarning: Solver terminated early (max_iter=25000).  Consider pre-processing your data with StandardScaler or MinMaxScaler.\n",
      "  warnings.warn('Solver terminated early (max_iter=%i).'\n",
      "C:\\Users\\JayZ\\anaconda3\\lib\\site-packages\\sklearn\\svm\\_base.py:246: ConvergenceWarning: Solver terminated early (max_iter=25000).  Consider pre-processing your data with StandardScaler or MinMaxScaler.\n",
      "  warnings.warn('Solver terminated early (max_iter=%i).'\n"
     ]
    },
    {
     "name": "stdout",
     "output_type": "stream",
     "text": [
      "\n",
      "Fitting estimator with 117 features.\n",
      "Fitting estimator with 112 features.\n",
      "Fitting estimator with 107 features.\n",
      "Fitting estimator with 102 features."
     ]
    },
    {
     "name": "stderr",
     "output_type": "stream",
     "text": [
      "C:\\Users\\JayZ\\anaconda3\\lib\\site-packages\\sklearn\\svm\\_base.py:246: ConvergenceWarning: Solver terminated early (max_iter=25000).  Consider pre-processing your data with StandardScaler or MinMaxScaler.\n",
      "  warnings.warn('Solver terminated early (max_iter=%i).'\n"
     ]
    },
    {
     "name": "stdout",
     "output_type": "stream",
     "text": [
      "\n",
      "Fitting estimator with 97 features.\n",
      "Fitting estimator with 92 features.\n",
      "Fitting estimator with 87 features.\n",
      "Fitting estimator with 82 features.\n",
      "Fitting estimator with 77 features.\n",
      "Fitting estimator with 72 features.\n",
      "Fitting estimator with 67 features.\n",
      "Fitting estimator with 62 features.\n",
      "Fitting estimator with 57 features.\n",
      "Fitting estimator with 52 features.\n",
      "Fitting estimator with 47 features.\n",
      "Fitting estimator with 42 features.\n",
      "Fitting estimator with 157 features.\n",
      "Fitting estimator with 152 features.\n",
      "Fitting estimator with 147 features.\n",
      "Fitting estimator with 142 features.\n"
     ]
    },
    {
     "name": "stderr",
     "output_type": "stream",
     "text": [
      "C:\\Users\\JayZ\\anaconda3\\lib\\site-packages\\sklearn\\svm\\_base.py:246: ConvergenceWarning: Solver terminated early (max_iter=25000).  Consider pre-processing your data with StandardScaler or MinMaxScaler.\n",
      "  warnings.warn('Solver terminated early (max_iter=%i).'\n",
      "C:\\Users\\JayZ\\anaconda3\\lib\\site-packages\\sklearn\\svm\\_base.py:246: ConvergenceWarning: Solver terminated early (max_iter=25000).  Consider pre-processing your data with StandardScaler or MinMaxScaler.\n",
      "  warnings.warn('Solver terminated early (max_iter=%i).'\n",
      "C:\\Users\\JayZ\\anaconda3\\lib\\site-packages\\sklearn\\svm\\_base.py:246: ConvergenceWarning: Solver terminated early (max_iter=25000).  Consider pre-processing your data with StandardScaler or MinMaxScaler.\n",
      "  warnings.warn('Solver terminated early (max_iter=%i).'\n"
     ]
    },
    {
     "name": "stdout",
     "output_type": "stream",
     "text": [
      "Fitting estimator with 137 features.\n",
      "Fitting estimator with 132 features.\n",
      "Fitting estimator with 127 features.\n"
     ]
    },
    {
     "name": "stderr",
     "output_type": "stream",
     "text": [
      "C:\\Users\\JayZ\\anaconda3\\lib\\site-packages\\sklearn\\svm\\_base.py:246: ConvergenceWarning: Solver terminated early (max_iter=25000).  Consider pre-processing your data with StandardScaler or MinMaxScaler.\n",
      "  warnings.warn('Solver terminated early (max_iter=%i).'\n",
      "C:\\Users\\JayZ\\anaconda3\\lib\\site-packages\\sklearn\\svm\\_base.py:246: ConvergenceWarning: Solver terminated early (max_iter=25000).  Consider pre-processing your data with StandardScaler or MinMaxScaler.\n",
      "  warnings.warn('Solver terminated early (max_iter=%i).'\n",
      "C:\\Users\\JayZ\\anaconda3\\lib\\site-packages\\sklearn\\svm\\_base.py:246: ConvergenceWarning: Solver terminated early (max_iter=25000).  Consider pre-processing your data with StandardScaler or MinMaxScaler.\n",
      "  warnings.warn('Solver terminated early (max_iter=%i).'\n",
      "C:\\Users\\JayZ\\anaconda3\\lib\\site-packages\\sklearn\\svm\\_base.py:246: ConvergenceWarning: Solver terminated early (max_iter=25000).  Consider pre-processing your data with StandardScaler or MinMaxScaler.\n",
      "  warnings.warn('Solver terminated early (max_iter=%i).'\n"
     ]
    },
    {
     "name": "stdout",
     "output_type": "stream",
     "text": [
      "Fitting estimator with 122 features.\n",
      "Fitting estimator with 117 features.\n",
      "Fitting estimator with 112 features.\n",
      "Fitting estimator with 107 features.\n",
      "Fitting estimator with 102 features."
     ]
    },
    {
     "name": "stderr",
     "output_type": "stream",
     "text": [
      "C:\\Users\\JayZ\\anaconda3\\lib\\site-packages\\sklearn\\svm\\_base.py:246: ConvergenceWarning: Solver terminated early (max_iter=25000).  Consider pre-processing your data with StandardScaler or MinMaxScaler.\n",
      "  warnings.warn('Solver terminated early (max_iter=%i).'\n"
     ]
    },
    {
     "name": "stdout",
     "output_type": "stream",
     "text": [
      "\n",
      "Fitting estimator with 97 features.\n",
      "Fitting estimator with 92 features.\n",
      "Fitting estimator with 87 features.\n",
      "Fitting estimator with 82 features.\n",
      "Fitting estimator with 77 features.\n",
      "Fitting estimator with 72 features.\n",
      "Fitting estimator with 67 features.\n",
      "Fitting estimator with 62 features.\n",
      "Fitting estimator with 57 features.\n",
      "Fitting estimator with 52 features.\n",
      "Fitting estimator with 47 features.\n",
      "Fitting estimator with 42 features.\n",
      "Fitting estimator with 37 features.\n",
      "Fitting estimator with 32 features.\n",
      "Fitting estimator with 157 features.\n",
      "Fitting estimator with 152 features.\n",
      "Fitting estimator with 147 features.\n"
     ]
    },
    {
     "name": "stderr",
     "output_type": "stream",
     "text": [
      "C:\\Users\\JayZ\\anaconda3\\lib\\site-packages\\sklearn\\svm\\_base.py:246: ConvergenceWarning: Solver terminated early (max_iter=25000).  Consider pre-processing your data with StandardScaler or MinMaxScaler.\n",
      "  warnings.warn('Solver terminated early (max_iter=%i).'\n",
      "C:\\Users\\JayZ\\anaconda3\\lib\\site-packages\\sklearn\\svm\\_base.py:246: ConvergenceWarning: Solver terminated early (max_iter=25000).  Consider pre-processing your data with StandardScaler or MinMaxScaler.\n",
      "  warnings.warn('Solver terminated early (max_iter=%i).'\n",
      "C:\\Users\\JayZ\\anaconda3\\lib\\site-packages\\sklearn\\svm\\_base.py:246: ConvergenceWarning: Solver terminated early (max_iter=25000).  Consider pre-processing your data with StandardScaler or MinMaxScaler.\n",
      "  warnings.warn('Solver terminated early (max_iter=%i).'\n"
     ]
    },
    {
     "name": "stdout",
     "output_type": "stream",
     "text": [
      "Fitting estimator with 142 features.\n",
      "Fitting estimator with 137 features.\n",
      "Fitting estimator with 132 features.\n"
     ]
    },
    {
     "name": "stderr",
     "output_type": "stream",
     "text": [
      "C:\\Users\\JayZ\\anaconda3\\lib\\site-packages\\sklearn\\svm\\_base.py:246: ConvergenceWarning: Solver terminated early (max_iter=25000).  Consider pre-processing your data with StandardScaler or MinMaxScaler.\n",
      "  warnings.warn('Solver terminated early (max_iter=%i).'\n",
      "C:\\Users\\JayZ\\anaconda3\\lib\\site-packages\\sklearn\\svm\\_base.py:246: ConvergenceWarning: Solver terminated early (max_iter=25000).  Consider pre-processing your data with StandardScaler or MinMaxScaler.\n",
      "  warnings.warn('Solver terminated early (max_iter=%i).'\n",
      "C:\\Users\\JayZ\\anaconda3\\lib\\site-packages\\sklearn\\svm\\_base.py:246: ConvergenceWarning: Solver terminated early (max_iter=25000).  Consider pre-processing your data with StandardScaler or MinMaxScaler.\n",
      "  warnings.warn('Solver terminated early (max_iter=%i).'\n",
      "C:\\Users\\JayZ\\anaconda3\\lib\\site-packages\\sklearn\\svm\\_base.py:246: ConvergenceWarning: Solver terminated early (max_iter=25000).  Consider pre-processing your data with StandardScaler or MinMaxScaler.\n",
      "  warnings.warn('Solver terminated early (max_iter=%i).'\n"
     ]
    },
    {
     "name": "stdout",
     "output_type": "stream",
     "text": [
      "Fitting estimator with 127 features.\n",
      "Fitting estimator with 122 features.\n",
      "Fitting estimator with 117 features.\n",
      "Fitting estimator with 112 features.\n"
     ]
    },
    {
     "name": "stderr",
     "output_type": "stream",
     "text": [
      "C:\\Users\\JayZ\\anaconda3\\lib\\site-packages\\sklearn\\svm\\_base.py:246: ConvergenceWarning: Solver terminated early (max_iter=25000).  Consider pre-processing your data with StandardScaler or MinMaxScaler.\n",
      "  warnings.warn('Solver terminated early (max_iter=%i).'\n"
     ]
    },
    {
     "name": "stdout",
     "output_type": "stream",
     "text": [
      "Fitting estimator with 107 features.\n",
      "Fitting estimator with 102 features.\n",
      "Fitting estimator with 97 features.\n",
      "Fitting estimator with 92 features.\n",
      "Fitting estimator with 87 features.\n",
      "Fitting estimator with 82 features.\n",
      "Fitting estimator with 77 features.\n",
      "Fitting estimator with 72 features.\n",
      "Fitting estimator with 67 features.\n",
      "Fitting estimator with 62 features.\n",
      "Fitting estimator with 57 features.\n",
      "Fitting estimator with 52 features.\n",
      "Fitting estimator with 47 features.\n",
      "Fitting estimator with 42 features.\n",
      "Fitting estimator with 37 features.\n",
      "Fitting estimator with 32 features.\n",
      "31 selected features\n",
      "base linear SVC with feature selection--top 30 features--\n",
      "polynomial SVC\n"
     ]
    },
    {
     "data": {
      "text/plain": [
       "Text(0.5, 1.0, 'Aggregate accuracy for happiness')"
      ]
     },
     "execution_count": 11,
     "metadata": {},
     "output_type": "execute_result"
    },
    {
     "data": {
      "image/png": "[encoded data removed]",
      "text/plain": [
       "<Figure size 432x288 with 2 Axes>"
      ]
     },
     "metadata": {
      "needs_background": "light"
     },
     "output_type": "display_data"
    },
    {
     "data": {
      "image/png": "[encoded data removed]",
      "text/plain": [
       "<Figure size 432x288 with 2 Axes>"
      ]
     },
     "metadata": {
      "needs_background": "light"
     },
     "output_type": "display_data"
    },
    {
     "data": {
      "image/png": "[encoded data removed]",
      "text/plain": [
       "<Figure size 432x288 with 2 Axes>"
      ]
     },
     "metadata": {
      "needs_background": "light"
     },
     "output_type": "display_data"
    },
    {
     "data": {
      "image/png": "[encoded data removed]",
      "text/plain": [
       "<Figure size 432x288 with 1 Axes>"
      ]
     },
     "metadata": {
      "needs_background": "light"
     },
     "output_type": "display_data"
    }
   ],
   "source": [
    "####feature engineering happiness into binary variable#####\n",
    "Y = Y_binary\n",
    "X = np.delete(data_array, 123, axis = 1)\n",
    "X_train, X_test, y_train, y_test = train_test_split(X, Y, test_size = 0.3, random_state = 42)\n",
    "\n",
    "from sklearn.preprocessing import MinMaxScaler\n",
    "scaler = MinMaxScaler()\n",
    "scaler.fit(X_train)  # Don't cheat - fit only on training data\n",
    "X_train = scaler.transform(X_train)\n",
    "X_test = scaler.transform(X_test)  # apply same transformation to test data\n",
    "\n",
    "\n",
    "SVC = svm.SVC( kernel = 'linear', max_iter = 25000, random_state = 52)\n",
    "\n",
    "SVC.fit(X_train, list(y_train))\n",
    "y_pred = SVC.predict(X_test)\n",
    "print('base linear SVC with no feature selection')\n",
    "base = ('base', round(metrics.accuracy_score(list(y_test), y_pred),4))\n",
    "metrics.plot_confusion_matrix(SVC, X_test, list(y_test))\n",
    "plt.title('Confusion matrix for linear')\n",
    "######################################\n",
    "from sklearn.feature_selection import RFE\n",
    "optimal_number = optimal_feature_number(X,Y,SVC)\n",
    "\n",
    "rfe_selector = RFE(estimator=SVC, n_features_to_select=optimal_number, step=5, verbose=5)\n",
    "rfe_selector.fit(X_train, list(y_train))\n",
    "rfe_support = rfe_selector.get_support()\n",
    "rfe_feature = pd.DataFrame(X_train).loc[:,rfe_support].columns.tolist()\n",
    "print(str(len(rfe_feature)), 'selected features')\n",
    "rfe_feature\n",
    "\n",
    "X_train_fs = X_train[:,rfe_feature]\n",
    "# transform test input data\n",
    "X_test_fs = X_test[:,rfe_feature]\n",
    "SVC = svm.SVC( kernel = 'linear', max_iter = 25000, random_state = 52)\n",
    "\n",
    "SVC.fit(X_train_fs, list(y_train))\n",
    "y_pred = SVC.predict(X_test_fs)\n",
    "print('base linear SVC with feature selection--top 30 features--')\n",
    "fs = ('fs', round(metrics.accuracy_score(list(y_test), y_pred),4))\n",
    "\n",
    "metrics.plot_confusion_matrix(SVC, X_test_fs, list(y_test))\n",
    "plt.title('Confusion matrix for linear with fs')\n",
    "\n",
    "SVC = svm.SVC( kernel = 'poly', max_iter = 25000, random_state = 52)\n",
    "SVC.fit(X_train, list(y_train))\n",
    "y_pred = SVC.predict(X_test)\n",
    "print('polynomial SVC')\n",
    "poly = ('poly', round(metrics.accuracy_score(list(y_test), y_pred),4))\n",
    "metrics.plot_confusion_matrix(SVC, X_test, list(y_test))\n",
    "plt.title('Confusion matrix for poly')\n",
    "scores_list = [base, fs, poly]\n",
    "\n",
    "import numpy as np                                                               \n",
    "import matplotlib.pyplot as plt\n",
    "\n",
    "\n",
    "labels, ys = zip(*scores_list)\n",
    "xs = np.arange(len(labels)) \n",
    "width = 0.5\n",
    "\n",
    "fig = plt.figure()                                                               \n",
    "ax = fig.gca()  #get current axes\n",
    "ax.bar(xs, ys, width, align='center')\n",
    "\n",
    "#Remove the default x-axis tick numbers and  \n",
    "#use tick numbers of your own choosing:\n",
    "#Replace the tick numbers with strings:\n",
    "#Remove the default y-axis tick numbers and  \n",
    "#use tick numbers of your own choosing:\n",
    "plt.axis([-0.5, 2.5, 0.40, 0.9])\n",
    "for i, v in enumerate(ys):\n",
    "    plt.text(xs[i] - 0.15, v + 0.005, str(v))\n",
    "ax.set_xticks(xs)\n",
    "ax.set_xticklabels(labels)\n",
    "plt.title('Aggregate accuracy for happiness')\n"
   ]
  }
 ],
 "metadata": {
  "kernelspec": {
   "display_name": "Python 3",
   "language": "python",
   "name": "python3"
  },
  "language_info": {
   "codemirror_mode": {
    "name": "ipython",
    "version": 3
   },
   "file_extension": ".py",
   "mimetype": "text/x-python",
   "name": "python",
   "nbconvert_exporter": "python",
   "pygments_lexer": "ipython3",
   "version": "3.8.5"
  }
 },
 "nbformat": 4,
 "nbformat_minor": 2
}
