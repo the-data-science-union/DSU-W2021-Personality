{
 "cells": [
  {
   "cell_type": "markdown",
   "id": "adult-calvin",
   "metadata": {},
   "source": [
    "# Notes"
   ]
  },
  {
   "cell_type": "markdown",
   "id": "embedded-strip",
   "metadata": {},
   "source": [
    "Dataset – \"Young People Survey\" by Miroslav Sabo: https://www.kaggle.com/miroslavsabo/young-people-survey\n",
    "\n",
    "Link to Data Science Union @UCLA's Cleaned Dataset: https://github.com/the-data-science-union/DSU-W21-Personality/blob/main/cleaned_youngpeople_data.csv"
   ]
  },
  {
   "cell_type": "markdown",
   "id": "specialized-feeding",
   "metadata": {},
   "source": [
    "# Importing Packages"
   ]
  },
  {
   "cell_type": "code",
   "execution_count": 1,
   "id": "signed-meaning",
   "metadata": {},
   "outputs": [],
   "source": [
    "# Everything we need to get started\n",
    "import numpy as np\n",
    "import pandas as pd\n",
    "from sklearn.model_selection import train_test_split\n",
    "from sklearn.ensemble import RandomForestClassifier\n",
    "import matplotlib.pyplot as plt\n",
    "%matplotlib inline\n",
    "\n",
    "# For feature selection\n",
    "from sklearn.feature_selection import RFE\n",
    "\n",
    "# For hyperparameter tuning\n",
    "from pprint import pprint\n",
    "from sklearn.model_selection import GridSearchCV\n",
    "\n",
    "# For model evaluation\n",
    "from sklearn.model_selection import RepeatedKFold\n",
    "from sklearn.model_selection import cross_val_score\n",
    "from sklearn.metrics import confusion_matrix\n",
    "from sklearn.metrics import plot_confusion_matrix"
   ]
  },
  {
   "cell_type": "markdown",
   "id": "white-language",
   "metadata": {},
   "source": [
    "# Useful Functions"
   ]
  },
  {
   "cell_type": "code",
   "execution_count": 2,
   "id": "impossible-arkansas",
   "metadata": {},
   "outputs": [],
   "source": [
    "# We will be using this link to access a cleaned version of the Young People Survey by Data Science Union\n",
    "csvname='https://raw.githubusercontent.com/the-data-science-union/DSU-W21-Personality/main/cleaned_youngpeople_data.csv'\n",
    "\n",
    "# Loads the entire dataset into X, y\n",
    "# y includes all six potential response variables\n",
    "# This function is no longer used...\n",
    "def load_data(csvname=csvname):\n",
    "    print('CSV File Path:', csvname)\n",
    "    df = pd.read_csv(csvname)\n",
    "    X = df.drop('Education', axis=1)\n",
    "    y = df['Education'].copy()\n",
    "    print('Dataset Loaded')\n",
    "    return X, y\n",
    "\n",
    "# Loads dataset, but y is transformed into 0s and 1s based on the target response variable\n",
    "# This is the function we currently use for our dataset and model\n",
    "def load_binary_data(csvname=csvname, response='secondary school'):\n",
    "    print('CSV File Path:', csvname)\n",
    "    df = pd.read_csv(csvname)\n",
    "    X = df.drop('Education', axis=1)\n",
    "    print('\\nPotential Response Variables:', df['Education'].unique().tolist())\n",
    "    print('\\nSelected Response Variable:', response)\n",
    "    df.loc[df['Education'] != response, 'Education'] = 0\n",
    "    df.loc[df['Education'] == response, 'Education'] = 1\n",
    "    y = df['Education'].copy()\n",
    "    y = y.astype('int')\n",
    "    return X, y, df\n",
    "\n",
    "# Loads the dataset but drops two potential responses, this was an early attempt at combatting class imbalances\n",
    "# Decided to stop using this function as class imbalance was still a major issue\n",
    "def load_drop_data(csvname=csvname):  \n",
    "    print('CSV File Path:', csvname)\n",
    "    df = pd.read_csv(csvname)\n",
    "    d_df = df[(df['Education'] != 'currently a primary school pupil') & (df['Education'] != 'doctorate degree')]\n",
    "    X = d_df.drop('Education', axis=1)\n",
    "    y = d_df['Education'].copy()\n",
    "    print('Dataset Loaded')\n",
    "    return X, y\n",
    "\n",
    "# Returns a list of the names of the categorical predictors in the dataset\n",
    "def find_categorical(X):\n",
    "    catdf = X.loc[:, ~X.columns.isin(X._get_numeric_data().columns)]\n",
    "    return catdf.columns.values.tolist()\n",
    "\n",
    "# Sets up a base-line Random Forest for on-the-go evaluation\n",
    "# Has an optional parameter to plot the model's confusion matrix or only return accuracy score\n",
    "def quick_forest(select_x, y, plot=True, score=False):\n",
    "    X_train, X_test, y_train, y_test = train_test_split(select_x, y, test_size=0.3)\n",
    "    qf = RandomForestClassifier()\n",
    "    qf.fit(X_train, y_train)\n",
    "    if score:\n",
    "        return qf.score(X_test, y_test)\n",
    "    print('Accuracy Score:', qf.score(X_test, y_test))\n",
    "    if plot:\n",
    "        plot_confusion_matrix(qf, X_test, y_test)"
   ]
  },
  {
   "cell_type": "markdown",
   "id": "imposed-gibson",
   "metadata": {},
   "source": [
    "# Loading in and Preparing our DataFrame"
   ]
  },
  {
   "cell_type": "markdown",
   "id": "opponent-brush",
   "metadata": {},
   "source": [
    "We start by loading in our data. We obtained this data from Miroslav Sabos' Young People Survey from Kaggle, but we are using a version of it that we (Data Science Union @UCLA) already cleaned. \n",
    "\n",
    "The load_binary_data function will load in our data but converts the 'Education' column in our DataFrame from a multi-class categorical variable to a binary variable in order to avoid difficulties with class imbalances. We selected our response variable to be 'secondary school' because it is the mode of the column. In case we need to investigate anything further in our dataset, we also retain a copy of the original DataFrame."
   ]
  },
  {
   "cell_type": "code",
   "execution_count": 3,
   "id": "worth-party",
   "metadata": {},
   "outputs": [
    {
     "name": "stdout",
     "output_type": "stream",
     "text": [
      "CSV File Path: https://raw.githubusercontent.com/the-data-science-union/DSU-W21-Personality/main/cleaned_youngpeople_data.csv\n",
      "\n",
      "Potential Response Variables: ['college/bachelor degree', 'secondary school', 'primary school', 'masters degree', 'doctorate degree', 'currently a primary school pupil']\n",
      "\n",
      "Selected Response Variable: secondary school\n",
      "Shape of X: (977, 149)\n",
      "Shape of y: (977,)\n",
      "\n",
      "Value Counts of Response Variable:\n",
      "1    603\n",
      "0    374\n",
      "Name: Education, dtype: int64\n"
     ]
    }
   ],
   "source": [
    "X, y, df = load_binary_data(response='secondary school')\n",
    "print('Shape of X:', X.shape)\n",
    "print('Shape of y:', y.shape)\n",
    "\n",
    "print('\\nValue Counts of Response Variable:')\n",
    "print(y.value_counts())"
   ]
  },
  {
   "cell_type": "markdown",
   "id": "maritime-audience",
   "metadata": {},
   "source": [
    "Because scikit-learn's RandomForestClassifier cannot evalute non-binary categorical nominal data, we are going to find the categorical variables in the DataFrame and convert them to binary datatypes using pandas.get_dummies()."
   ]
  },
  {
   "cell_type": "code",
   "execution_count": 4,
   "id": "precious-cradle",
   "metadata": {},
   "outputs": [
    {
     "name": "stdout",
     "output_type": "stream",
     "text": [
      "Number of Categorical Variables: 10\n",
      "\n",
      "Categoricals: ['Smoking', 'Alcohol', 'Punctuality', 'Lying', 'Internet usage', 'Gender', 'Left - right handed', 'Only child', 'Village - town', 'House - block of flats']\n"
     ]
    }
   ],
   "source": [
    "cats = find_categorical(X)\n",
    "print('Number of Categorical Variables:', len(cats))\n",
    "print('\\nCategoricals:', cats)\n",
    "\n",
    "X_enc = pd.get_dummies(X, columns=cats)"
   ]
  },
  {
   "cell_type": "markdown",
   "id": "extraordinary-marriage",
   "metadata": {},
   "source": [
    "# Baseline RandomForestClassifier"
   ]
  },
  {
   "cell_type": "markdown",
   "id": "forty-harbor",
   "metadata": {},
   "source": [
    "First, let's get a baseline score of the RandomForestClassifier's ability to predict whether a respondent's highest educational attainment is secondary school (high school) or not. It seems like our baseline model has a ~65% accuracy rate, but we have seen it get incredibly high accuracy scores on occasion by random chance."
   ]
  },
  {
   "cell_type": "code",
   "execution_count": 5,
   "id": "found-atlanta",
   "metadata": {},
   "outputs": [
    {
     "name": "stdout",
     "output_type": "stream",
     "text": [
      "Accuracy Score: 0.6564625850340136\n"
     ]
    },
    {
     "data": {
      "image/png": "[encoded data removed]",
      "text/plain": [
       "<Figure size 432x288 with 2 Axes>"
      ]
     },
     "metadata": {
      "needs_background": "light"
     },
     "output_type": "display_data"
    }
   ],
   "source": [
    "quick_forest(X_enc, y, plot=True)"
   ]
  },
  {
   "cell_type": "markdown",
   "id": "intended-market",
   "metadata": {},
   "source": [
    "# Feature Selection with RFE"
   ]
  },
  {
   "cell_type": "markdown",
   "id": "packed-mining",
   "metadata": {},
   "source": [
    "Although Random Forests tend to produce reasonable predictions given a large volume of data, we will try Recursive Feature Elimination to hone our accuracy before moving on to hyperparameter tuning."
   ]
  },
  {
   "cell_type": "code",
   "execution_count": 6,
   "id": "cleared-porter",
   "metadata": {},
   "outputs": [
    {
     "name": "stdout",
     "output_type": "stream",
     "text": [
      "\n",
      "# of Features: 10\n",
      "['History', 'Biology', 'Art exhibitions', 'Adrenaline sports', 'Cheating in school', 'Changing the past', 'Entertainment spending', 'Age', 'Height', 'Weight']\n",
      "\n",
      "# of Features: 11\n",
      "['Rock n roll', 'War', 'History', 'Biology', 'Art exhibitions', 'Adrenaline sports', 'Workaholism', 'Entertainment spending', 'Age', 'Height', 'Weight']\n",
      "\n",
      "# of Features: 12\n",
      "['Classical music', 'War', 'History', 'Biology', 'Art exhibitions', 'Adrenaline sports', 'Changing the past', 'Life struggles', 'Entertainment spending', 'Age', 'Height', 'Weight']\n",
      "\n",
      "# of Features: 13\n",
      "['Dance', 'Alternative', 'History', 'Art exhibitions', 'Adrenaline sports', 'Prioritising workload', 'Cheating in school', 'Changing the past', 'Responding to a serious letter', 'Entertainment spending', 'Age', 'Height', 'Weight']\n",
      "\n",
      "# of Features: 14\n",
      "['Sci-fi', 'History', 'Biology', 'Cars', 'Art exhibitions', 'Theatre', 'Adrenaline sports', 'Writing notes', 'Workaholism', 'New environment', 'Entertainment spending', 'Age', 'Height', 'Weight']\n",
      "\n",
      "# of Features: 15\n",
      "['Pop', 'Reggae, Ska', 'Rock n roll', 'War', 'History', 'Art exhibitions', 'Adrenaline sports', 'Writing notes', 'Compassion to animals', 'Changing the past', 'New environment', 'Entertainment spending', 'Age', 'Height', 'Weight']\n",
      "\n",
      "# of Features: 16\n",
      "['Pop', 'Rock n roll', 'History', 'Biology', 'Art exhibitions', 'Adrenaline sports', 'Elections', 'Cheating in school', 'Changing the past', 'Charity', 'New environment', 'Small - big dogs', 'Entertainment spending', 'Age', 'Height', 'Weight']\n",
      "\n",
      "# of Features: 17\n",
      "['Dance', 'Reggae, Ska', 'Latino', 'Sci-fi', 'History', 'Biology', 'Art exhibitions', 'Theatre', 'Adrenaline sports', 'Prioritising workload', 'Workaholism', 'Cheating in school', 'New environment', 'Entertainment spending', 'Age', 'Height', 'Weight']\n",
      "\n",
      "# of Features: 18\n",
      "['Dance', 'Classical music', 'Alternative', 'War', 'History', 'Biology', 'Cars', 'Art exhibitions', 'Passive sport', 'Adrenaline sports', 'Elections', 'Cheating in school', 'Charity', 'New environment', 'Getting up', 'Age', 'Height', 'Weight']\n",
      "\n",
      "# of Features: 19\n",
      "['Dance', 'Classical music', 'Reggae, Ska', 'War', 'History', 'Psychology', 'Biology', 'Art exhibitions', 'Passive sport', 'Adrenaline sports', 'Workaholism', 'Cheating in school', 'Changing the past', 'Charity', 'New environment', 'Entertainment spending', 'Age', 'Height', 'Weight']\n"
     ]
    }
   ],
   "source": [
    "feature_groups = list()\n",
    "rf = RandomForestClassifier()\n",
    "for i in range(10, 20):\n",
    "    selector = RFE(rf, n_features_to_select=i, step=1)\n",
    "    selector.fit(X_enc, y)\n",
    "    X_RFE = X_enc.loc[:, selector.support_]\n",
    "    print('\\n# of Features:', i)\n",
    "    feats = X_RFE.columns.values.tolist()\n",
    "    print(feats)\n",
    "    feature_groups.append(feats)"
   ]
  },
  {
   "cell_type": "code",
   "execution_count": 7,
   "id": "exclusive-passion",
   "metadata": {},
   "outputs": [
    {
     "name": "stdout",
     "output_type": "stream",
     "text": [
      "Number of Trials: 50\n",
      "Baseline Mean Accuracy: 0.6651700680272108\n",
      "Baseline Std: 0.025454906052101975\n",
      "–––––––––––––––––––––––––\n",
      "\n",
      "Number of Features: 10\n",
      "Mean Accuracy: 0.6839455782312927\n",
      "Std: 0.01973774091431374\n",
      "\n",
      "Number of Features: 11\n",
      "Mean Accuracy: 0.6820408163265307\n",
      "Std: 0.02588826434027753\n",
      "\n",
      "Number of Features: 12\n",
      "Mean Accuracy: 0.6923809523809524\n",
      "Std: 0.021653179839000117\n",
      "\n",
      "Number of Features: 13\n",
      "Mean Accuracy: 0.6860544217687076\n",
      "Std: 0.02468975434552315\n",
      "\n",
      "Number of Features: 14\n",
      "Mean Accuracy: 0.6947619047619048\n",
      "Std: 0.020039874176005786\n",
      "\n",
      "Number of Features: 15\n",
      "Mean Accuracy: 0.6864625850340136\n",
      "Std: 0.023884139641795837\n",
      "\n",
      "Number of Features: 16\n",
      "Mean Accuracy: 0.7004761904761904\n",
      "Std: 0.026288886584817685\n",
      "\n",
      "Number of Features: 17\n",
      "Mean Accuracy: 0.6829251700680272\n",
      "Std: 0.022171966403997663\n",
      "\n",
      "Number of Features: 18\n",
      "Mean Accuracy: 0.7024489795918367\n",
      "Std: 0.02208779741342116\n",
      "\n",
      "Number of Features: 19\n",
      "Mean Accuracy: 0.6931972789115646\n",
      "Std: 0.024338154857140578\n"
     ]
    }
   ],
   "source": [
    "trials = 50\n",
    "rfe_scores = dict()\n",
    "\n",
    "print('Number of Trials:', trials)\n",
    "\n",
    "base_scores = [quick_forest(X_enc, y, score=True) for i in range(trials)]\n",
    "# print((\"\\nBaseline Accuracy: [\"+', '.join(['%.3f']*trials)+\"]\") % tuple(base_scores))\n",
    "print('Baseline Mean Accuracy:', np.mean(base_scores))\n",
    "print('Baseline Std:', np.std(base_scores))\n",
    "print('–'*25)\n",
    "\n",
    "for cols in feature_groups:\n",
    "    test_rfe = X_enc.loc[:, cols]\n",
    "    test_scores = [quick_forest(test_rfe, y, score=True) for i in range(trials)]\n",
    "    print('\\nNumber of Features:', len(cols))\n",
    "#     print((\"Accuracy Scores: [\"+', '.join(['%.3f']*trials)+\"]\") % tuple(test_scores))\n",
    "    print('Mean Accuracy:', np.mean(test_scores))\n",
    "    print('Std:', np.std(test_scores))\n",
    "    rfe_scores[np.mean(test_scores)] = cols"
   ]
  },
  {
   "cell_type": "code",
   "execution_count": 13,
   "id": "little-wright",
   "metadata": {},
   "outputs": [
    {
     "name": "stdout",
     "output_type": "stream",
     "text": [
      "Mean Score of 50 Trials for 18 Selected Features: 0.7024489795918367\n",
      "\n",
      "['Dance', 'Classical music', 'Alternative', 'War', 'History', 'Biology', 'Cars', 'Art exhibitions', 'Passive sport', 'Adrenaline sports', 'Elections', 'Cheating in school', 'Charity', 'New environment', 'Getting up', 'Age', 'Height', 'Weight']\n"
     ]
    }
   ],
   "source": [
    "best_rfe_score = np.max(list(rfe_scores.keys()))\n",
    "best_rfe_feats = rfe_scores[np.max(list(rfe_scores.keys()))]\n",
    "print('Mean Score of {} Trials for {} Selected Features: {}\\n'.format(trials, len(best_rfe_feats), best_rfe_score))\n",
    "print(best_rfe_feats)"
   ]
  },
  {
   "cell_type": "markdown",
   "id": "fresh-arrival",
   "metadata": {},
   "source": [
    "# Hyperparameter Tuning"
   ]
  },
  {
   "cell_type": "markdown",
   "id": "elder-length",
   "metadata": {},
   "source": [
    "We will be using GridSearchCV to tune our hyperparameters, comparing the best parameters of the search with our baseline model score from before."
   ]
  },
  {
   "cell_type": "code",
   "execution_count": 14,
   "id": "comparable-payday",
   "metadata": {},
   "outputs": [
    {
     "name": "stdout",
     "output_type": "stream",
     "text": [
      "{'bootstrap': [True, False],\n",
      " 'criterion': ['gini', 'entropy'],\n",
      " 'max_depth': [4, 5, 6, 7, 8, None],\n",
      " 'min_samples_leaf': [1, 2, 3, 4, 5],\n",
      " 'min_samples_split': [3, 4, 5],\n",
      " 'n_estimators': [100, 150, 200, 250]}\n"
     ]
    }
   ],
   "source": [
    "# Number of trees in random forest\n",
    "n_estimators = [int(x) for x in np.arange(100, 251, 50)]\n",
    "# Criterion for scoring\n",
    "criterion = ['gini', 'entropy']\n",
    "# Maximum number of levels in tree\n",
    "max_depth = [int(x) for x in np.arange(4, 9, 1)]\n",
    "max_depth.append(None)\n",
    "# Minimum number of samples required to split a node\n",
    "min_samples_split = [int(x) for x in np.arange(3, 6, 1)]\n",
    "# Minimum number of samples required at each leaf node\n",
    "min_samples_leaf = [1, 2, 3, 4, 5]\n",
    "# Method of selecting samples for training each tree\n",
    "bootstrap = [True, False]\n",
    "# Create the random grid\n",
    "par_grid = {'n_estimators': n_estimators,\n",
    "               'max_depth': max_depth,\n",
    "               'min_samples_split': min_samples_split,\n",
    "               'min_samples_leaf': min_samples_leaf,\n",
    "               'bootstrap': bootstrap,\n",
    "               'criterion': criterion}\n",
    "pprint(par_grid)"
   ]
  },
  {
   "cell_type": "code",
   "execution_count": 16,
   "id": "controlled-resident",
   "metadata": {},
   "outputs": [],
   "source": [
    "selected_X = X_enc.loc[:, best_rfe_feats]\n",
    "X_train, X_test, y_train, y_test = train_test_split(selected_X, y, test_size=0.3)\n",
    "rf = RandomForestClassifier()\n",
    "# Instantiate the grid search model\n",
    "grid_search = GridSearchCV(estimator = rf, param_grid = par_grid, \n",
    "                          cv = 5, n_jobs = -1, verbose = 2)"
   ]
  },
  {
   "cell_type": "code",
   "execution_count": 17,
   "id": "circular-moses",
   "metadata": {},
   "outputs": [
    {
     "name": "stdout",
     "output_type": "stream",
     "text": [
      "Fitting 5 folds for each of 1440 candidates, totalling 7200 fits\n"
     ]
    },
    {
     "name": "stderr",
     "output_type": "stream",
     "text": [
      "[Parallel(n_jobs=-1)]: Using backend LokyBackend with 8 concurrent workers.\n",
      "[Parallel(n_jobs=-1)]: Done  25 tasks      | elapsed:    2.4s\n",
      "[Parallel(n_jobs=-1)]: Done 146 tasks      | elapsed:    8.2s\n",
      "[Parallel(n_jobs=-1)]: Done 349 tasks      | elapsed:   18.9s\n",
      "[Parallel(n_jobs=-1)]: Done 632 tasks      | elapsed:   34.3s\n",
      "[Parallel(n_jobs=-1)]: Done 997 tasks      | elapsed:   54.6s\n",
      "[Parallel(n_jobs=-1)]: Done 1442 tasks      | elapsed:  1.3min\n",
      "[Parallel(n_jobs=-1)]: Done 1969 tasks      | elapsed:  1.9min\n",
      "[Parallel(n_jobs=-1)]: Done 2576 tasks      | elapsed:  2.5min\n",
      "[Parallel(n_jobs=-1)]: Done 3265 tasks      | elapsed:  3.2min\n",
      "[Parallel(n_jobs=-1)]: Done 4034 tasks      | elapsed:  3.9min\n",
      "[Parallel(n_jobs=-1)]: Done 4885 tasks      | elapsed:  4.5min\n",
      "[Parallel(n_jobs=-1)]: Done 5816 tasks      | elapsed:  5.3min\n",
      "[Parallel(n_jobs=-1)]: Done 6829 tasks      | elapsed:  6.2min\n",
      "[Parallel(n_jobs=-1)]: Done 7200 out of 7200 | elapsed:  6.6min finished\n"
     ]
    },
    {
     "data": {
      "text/plain": [
       "GridSearchCV(cv=5, estimator=RandomForestClassifier(), n_jobs=-1,\n",
       "             param_grid={'bootstrap': [True, False],\n",
       "                         'criterion': ['gini', 'entropy'],\n",
       "                         'max_depth': [4, 5, 6, 7, 8, None],\n",
       "                         'min_samples_leaf': [1, 2, 3, 4, 5],\n",
       "                         'min_samples_split': [3, 4, 5],\n",
       "                         'n_estimators': [100, 150, 200, 250]},\n",
       "             verbose=2)"
      ]
     },
     "execution_count": 17,
     "metadata": {},
     "output_type": "execute_result"
    }
   ],
   "source": [
    "# Fit the Model...\n",
    "grid_search.fit(X_train, y_train)"
   ]
  },
  {
   "cell_type": "code",
   "execution_count": 18,
   "id": "found-district",
   "metadata": {},
   "outputs": [
    {
     "data": {
      "text/plain": [
       "{'bootstrap': True,\n",
       " 'criterion': 'entropy',\n",
       " 'max_depth': None,\n",
       " 'min_samples_leaf': 4,\n",
       " 'min_samples_split': 3,\n",
       " 'n_estimators': 200}"
      ]
     },
     "execution_count": 18,
     "metadata": {},
     "output_type": "execute_result"
    }
   ],
   "source": [
    "# Let's look at our best parameters...\n",
    "grid_search.best_params_"
   ]
  },
  {
   "cell_type": "code",
   "execution_count": 43,
   "id": "innovative-appraisal",
   "metadata": {},
   "outputs": [
    {
     "name": "stdout",
     "output_type": "stream",
     "text": [
      "RandomForestClassifier(criterion='entropy', min_samples_leaf=4,\n",
      "                       min_samples_split=3, n_estimators=200)\n",
      "\n",
      "Accuracy Score: 0.7210884353741497\n"
     ]
    }
   ],
   "source": [
    "final_rf = RandomForestClassifier(bootstrap=True,\n",
    "                                  criterion='entropy',\n",
    "                                  max_depth=None,\n",
    "                                  min_samples_leaf=4,\n",
    "                                  min_samples_split=3,\n",
    "                                  n_estimators=200)\n",
    "print(final_rf)\n",
    "final_rf.fit(X_train, y_train)\n",
    "print('\\nAccuracy Score:', final_rf.score(X_test, y_test))"
   ]
  },
  {
   "cell_type": "code",
   "execution_count": 49,
   "id": "suspected-tracy",
   "metadata": {},
   "outputs": [
    {
     "data": {
      "text/plain": [
       "<sklearn.metrics._plot.confusion_matrix.ConfusionMatrixDisplay at 0x7fbb9928e820>"
      ]
     },
     "execution_count": 49,
     "metadata": {},
     "output_type": "execute_result"
    },
    {
     "data": {
      "image/png": "[encoded data removed]",
      "text/plain": [
       "<Figure size 432x288 with 2 Axes>"
      ]
     },
     "metadata": {
      "needs_background": "light"
     },
     "output_type": "display_data"
    }
   ],
   "source": [
    "plot_confusion_matrix(final_rf, X_test, y_test)"
   ]
  },
  {
   "cell_type": "code",
   "execution_count": 47,
   "id": "liberal-verse",
   "metadata": {},
   "outputs": [
    {
     "name": "stdout",
     "output_type": "stream",
     "text": [
      "Accuracy: 0.672 (0.081)\n"
     ]
    }
   ],
   "source": [
    "cv = RepeatedKFold(n_splits=10, n_repeats=10)\n",
    "\n",
    "# evaluate model\n",
    "scores = cross_val_score(final_rf, X_test, y_test, scoring='accuracy', cv=cv, n_jobs=-1)\n",
    "\n",
    "# report performance\n",
    "print('Accuracy: %.3f (%.3f)' % (np.mean(scores), np.std(scores)))"
   ]
  }
 ],
 "metadata": {
  "kernelspec": {
   "display_name": "Python 3",
   "language": "python",
   "name": "python3"
  },
  "language_info": {
   "codemirror_mode": {
    "name": "ipython",
    "version": 3
   },
   "file_extension": ".py",
   "mimetype": "text/x-python",
   "name": "python",
   "nbconvert_exporter": "python",
   "pygments_lexer": "ipython3",
   "version": "3.8.3"
  }
 },
 "nbformat": 4,
 "nbformat_minor": 5
}
