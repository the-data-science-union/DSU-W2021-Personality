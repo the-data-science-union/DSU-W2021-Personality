{
  "nbformat": 4,
  "nbformat_minor": 0,
  "metadata": {
    "colab": {
      "name": "EDA/random forest.ipynb",
      "provenance": []
    },
    "kernelspec": {
      "name": "python3",
      "display_name": "Python 3"
    }
  },
  "cells": [
    {
      "cell_type": "code",
      "metadata": {
        "id": "tAkTT4gls3tK"
      },
      "source": [
        "import numpy as np\r\n",
        "import pandas as pd\r\n",
        "import matplotlib.pyplot as plt\r\n",
        "import seaborn as sns"
      ],
      "execution_count": null,
      "outputs": []
    },
    {
      "cell_type": "code",
      "metadata": {
        "id": "Z6KiP_E8tmZ_"
      },
      "source": [
        "df = pd.read_csv ('https://raw.githubusercontent.com/the-data-science-union/DSU-W21-Personality/main/cleaned_youngpeople_data.csv')"
      ],
      "execution_count": null,
      "outputs": []
    },
    {
      "cell_type": "code",
      "metadata": {
        "colab": {
          "base_uri": "https://localhost:8080/",
          "height": 395
        },
        "id": "mcDht_Eftty2",
        "outputId": "930f2a06-0502-4174-b981-031b552b93ff"
      },
      "source": [
        "df.head()"
      ],
      "execution_count": null,
      "outputs": [
        {
          "output_type": "execute_result",
          "data": {
            "text/html": [
              "<div>\n",
              "<style scoped>\n",
              "    .dataframe tbody tr th:only-of-type {\n",
              "        vertical-align: middle;\n",
              "    }\n",
              "\n",
              "    .dataframe tbody tr th {\n",
              "        vertical-align: top;\n",
              "    }\n",
              "\n",
              "    .dataframe thead th {\n",
              "        text-align: right;\n",
              "    }\n",
              "</style>\n",
              "<table border=\"1\" class=\"dataframe\">\n",
              "  <thead>\n",
              "    <tr style=\"text-align: right;\">\n",
              "      <th></th>\n",
              "      <th>Music</th>\n",
              "      <th>Slow songs or fast songs</th>\n",
              "      <th>Dance</th>\n",
              "      <th>Folk</th>\n",
              "      <th>Country</th>\n",
              "      <th>Classical music</th>\n",
              "      <th>Musical</th>\n",
              "      <th>Pop</th>\n",
              "      <th>Rock</th>\n",
              "      <th>Metal or Hardrock</th>\n",
              "      <th>Punk</th>\n",
              "      <th>Hiphop, Rap</th>\n",
              "      <th>Reggae, Ska</th>\n",
              "      <th>Swing, Jazz</th>\n",
              "      <th>Rock n roll</th>\n",
              "      <th>Alternative</th>\n",
              "      <th>Latino</th>\n",
              "      <th>Techno, Trance</th>\n",
              "      <th>Opera</th>\n",
              "      <th>Movies</th>\n",
              "      <th>Horror</th>\n",
              "      <th>Thriller</th>\n",
              "      <th>Comedy</th>\n",
              "      <th>Romantic</th>\n",
              "      <th>Sci-fi</th>\n",
              "      <th>War</th>\n",
              "      <th>Fantasy/Fairy tales</th>\n",
              "      <th>Animated</th>\n",
              "      <th>Documentary</th>\n",
              "      <th>Western</th>\n",
              "      <th>Action</th>\n",
              "      <th>History</th>\n",
              "      <th>Psychology</th>\n",
              "      <th>Politics</th>\n",
              "      <th>Mathematics</th>\n",
              "      <th>Physics</th>\n",
              "      <th>Internet</th>\n",
              "      <th>PC</th>\n",
              "      <th>Economy Management</th>\n",
              "      <th>Biology</th>\n",
              "      <th>...</th>\n",
              "      <th>New environment</th>\n",
              "      <th>Mood swings</th>\n",
              "      <th>Appearence and gestures</th>\n",
              "      <th>Socializing</th>\n",
              "      <th>Achievements</th>\n",
              "      <th>Responding to a serious letter</th>\n",
              "      <th>Children</th>\n",
              "      <th>Assertiveness</th>\n",
              "      <th>Getting angry</th>\n",
              "      <th>Knowing the right people</th>\n",
              "      <th>Public speaking</th>\n",
              "      <th>Unpopularity</th>\n",
              "      <th>Life struggles</th>\n",
              "      <th>Happiness in life</th>\n",
              "      <th>Energy levels</th>\n",
              "      <th>Small - big dogs</th>\n",
              "      <th>Personality</th>\n",
              "      <th>Finding lost valuables</th>\n",
              "      <th>Getting up</th>\n",
              "      <th>Interests or hobbies</th>\n",
              "      <th>Parents' advice</th>\n",
              "      <th>Questionnaires or polls</th>\n",
              "      <th>Internet usage</th>\n",
              "      <th>Finances</th>\n",
              "      <th>Shopping centres</th>\n",
              "      <th>Branded clothing</th>\n",
              "      <th>Entertainment spending</th>\n",
              "      <th>Spending on looks</th>\n",
              "      <th>Spending on gadgets</th>\n",
              "      <th>Spending on healthy eating</th>\n",
              "      <th>Age</th>\n",
              "      <th>Height</th>\n",
              "      <th>Weight</th>\n",
              "      <th>Number of siblings</th>\n",
              "      <th>Gender</th>\n",
              "      <th>Left - right handed</th>\n",
              "      <th>Education</th>\n",
              "      <th>Only child</th>\n",
              "      <th>Village - town</th>\n",
              "      <th>House - block of flats</th>\n",
              "    </tr>\n",
              "  </thead>\n",
              "  <tbody>\n",
              "    <tr>\n",
              "      <th>0</th>\n",
              "      <td>5</td>\n",
              "      <td>3</td>\n",
              "      <td>2</td>\n",
              "      <td>1</td>\n",
              "      <td>2</td>\n",
              "      <td>2</td>\n",
              "      <td>1</td>\n",
              "      <td>5</td>\n",
              "      <td>5</td>\n",
              "      <td>1</td>\n",
              "      <td>1</td>\n",
              "      <td>1</td>\n",
              "      <td>1</td>\n",
              "      <td>1</td>\n",
              "      <td>3</td>\n",
              "      <td>1</td>\n",
              "      <td>1</td>\n",
              "      <td>1</td>\n",
              "      <td>1</td>\n",
              "      <td>5</td>\n",
              "      <td>4</td>\n",
              "      <td>2</td>\n",
              "      <td>5</td>\n",
              "      <td>4</td>\n",
              "      <td>4</td>\n",
              "      <td>1</td>\n",
              "      <td>5</td>\n",
              "      <td>5</td>\n",
              "      <td>3</td>\n",
              "      <td>1</td>\n",
              "      <td>2</td>\n",
              "      <td>1</td>\n",
              "      <td>5</td>\n",
              "      <td>1</td>\n",
              "      <td>3</td>\n",
              "      <td>3</td>\n",
              "      <td>5</td>\n",
              "      <td>3</td>\n",
              "      <td>5</td>\n",
              "      <td>3</td>\n",
              "      <td>...</td>\n",
              "      <td>4</td>\n",
              "      <td>3</td>\n",
              "      <td>4</td>\n",
              "      <td>3</td>\n",
              "      <td>4</td>\n",
              "      <td>3</td>\n",
              "      <td>5</td>\n",
              "      <td>1</td>\n",
              "      <td>1</td>\n",
              "      <td>3</td>\n",
              "      <td>5</td>\n",
              "      <td>5</td>\n",
              "      <td>1</td>\n",
              "      <td>4</td>\n",
              "      <td>5</td>\n",
              "      <td>1</td>\n",
              "      <td>4</td>\n",
              "      <td>3</td>\n",
              "      <td>2</td>\n",
              "      <td>3</td>\n",
              "      <td>4</td>\n",
              "      <td>3</td>\n",
              "      <td>few hours a day</td>\n",
              "      <td>3</td>\n",
              "      <td>4</td>\n",
              "      <td>5</td>\n",
              "      <td>3</td>\n",
              "      <td>3</td>\n",
              "      <td>1</td>\n",
              "      <td>3</td>\n",
              "      <td>20</td>\n",
              "      <td>163</td>\n",
              "      <td>48</td>\n",
              "      <td>1</td>\n",
              "      <td>female</td>\n",
              "      <td>right handed</td>\n",
              "      <td>college/bachelor degree</td>\n",
              "      <td>no</td>\n",
              "      <td>village</td>\n",
              "      <td>block of flats</td>\n",
              "    </tr>\n",
              "    <tr>\n",
              "      <th>1</th>\n",
              "      <td>4</td>\n",
              "      <td>4</td>\n",
              "      <td>2</td>\n",
              "      <td>1</td>\n",
              "      <td>1</td>\n",
              "      <td>1</td>\n",
              "      <td>2</td>\n",
              "      <td>3</td>\n",
              "      <td>5</td>\n",
              "      <td>4</td>\n",
              "      <td>4</td>\n",
              "      <td>1</td>\n",
              "      <td>3</td>\n",
              "      <td>1</td>\n",
              "      <td>4</td>\n",
              "      <td>4</td>\n",
              "      <td>2</td>\n",
              "      <td>1</td>\n",
              "      <td>1</td>\n",
              "      <td>5</td>\n",
              "      <td>2</td>\n",
              "      <td>2</td>\n",
              "      <td>4</td>\n",
              "      <td>3</td>\n",
              "      <td>4</td>\n",
              "      <td>1</td>\n",
              "      <td>3</td>\n",
              "      <td>5</td>\n",
              "      <td>4</td>\n",
              "      <td>1</td>\n",
              "      <td>4</td>\n",
              "      <td>1</td>\n",
              "      <td>3</td>\n",
              "      <td>4</td>\n",
              "      <td>5</td>\n",
              "      <td>2</td>\n",
              "      <td>4</td>\n",
              "      <td>4</td>\n",
              "      <td>5</td>\n",
              "      <td>1</td>\n",
              "      <td>...</td>\n",
              "      <td>4</td>\n",
              "      <td>4</td>\n",
              "      <td>4</td>\n",
              "      <td>4</td>\n",
              "      <td>2</td>\n",
              "      <td>4</td>\n",
              "      <td>2</td>\n",
              "      <td>2</td>\n",
              "      <td>5</td>\n",
              "      <td>4</td>\n",
              "      <td>4</td>\n",
              "      <td>4</td>\n",
              "      <td>1</td>\n",
              "      <td>4</td>\n",
              "      <td>3</td>\n",
              "      <td>5</td>\n",
              "      <td>3</td>\n",
              "      <td>4</td>\n",
              "      <td>5</td>\n",
              "      <td>3</td>\n",
              "      <td>2</td>\n",
              "      <td>3</td>\n",
              "      <td>few hours a day</td>\n",
              "      <td>3</td>\n",
              "      <td>4</td>\n",
              "      <td>1</td>\n",
              "      <td>4</td>\n",
              "      <td>2</td>\n",
              "      <td>5</td>\n",
              "      <td>2</td>\n",
              "      <td>19</td>\n",
              "      <td>163</td>\n",
              "      <td>58</td>\n",
              "      <td>2</td>\n",
              "      <td>female</td>\n",
              "      <td>right handed</td>\n",
              "      <td>college/bachelor degree</td>\n",
              "      <td>no</td>\n",
              "      <td>city</td>\n",
              "      <td>block of flats</td>\n",
              "    </tr>\n",
              "    <tr>\n",
              "      <th>2</th>\n",
              "      <td>5</td>\n",
              "      <td>5</td>\n",
              "      <td>2</td>\n",
              "      <td>2</td>\n",
              "      <td>3</td>\n",
              "      <td>4</td>\n",
              "      <td>5</td>\n",
              "      <td>3</td>\n",
              "      <td>5</td>\n",
              "      <td>3</td>\n",
              "      <td>4</td>\n",
              "      <td>1</td>\n",
              "      <td>4</td>\n",
              "      <td>3</td>\n",
              "      <td>5</td>\n",
              "      <td>5</td>\n",
              "      <td>5</td>\n",
              "      <td>1</td>\n",
              "      <td>3</td>\n",
              "      <td>5</td>\n",
              "      <td>3</td>\n",
              "      <td>4</td>\n",
              "      <td>4</td>\n",
              "      <td>2</td>\n",
              "      <td>4</td>\n",
              "      <td>2</td>\n",
              "      <td>5</td>\n",
              "      <td>5</td>\n",
              "      <td>2</td>\n",
              "      <td>2</td>\n",
              "      <td>1</td>\n",
              "      <td>1</td>\n",
              "      <td>2</td>\n",
              "      <td>1</td>\n",
              "      <td>5</td>\n",
              "      <td>2</td>\n",
              "      <td>4</td>\n",
              "      <td>2</td>\n",
              "      <td>4</td>\n",
              "      <td>1</td>\n",
              "      <td>...</td>\n",
              "      <td>3</td>\n",
              "      <td>4</td>\n",
              "      <td>3</td>\n",
              "      <td>5</td>\n",
              "      <td>3</td>\n",
              "      <td>4</td>\n",
              "      <td>4</td>\n",
              "      <td>3</td>\n",
              "      <td>4</td>\n",
              "      <td>3</td>\n",
              "      <td>2</td>\n",
              "      <td>4</td>\n",
              "      <td>4</td>\n",
              "      <td>4</td>\n",
              "      <td>4</td>\n",
              "      <td>3</td>\n",
              "      <td>3</td>\n",
              "      <td>3</td>\n",
              "      <td>4</td>\n",
              "      <td>5</td>\n",
              "      <td>3</td>\n",
              "      <td>1</td>\n",
              "      <td>few hours a day</td>\n",
              "      <td>2</td>\n",
              "      <td>4</td>\n",
              "      <td>1</td>\n",
              "      <td>4</td>\n",
              "      <td>3</td>\n",
              "      <td>4</td>\n",
              "      <td>2</td>\n",
              "      <td>20</td>\n",
              "      <td>176</td>\n",
              "      <td>67</td>\n",
              "      <td>2</td>\n",
              "      <td>female</td>\n",
              "      <td>right handed</td>\n",
              "      <td>secondary school</td>\n",
              "      <td>no</td>\n",
              "      <td>city</td>\n",
              "      <td>block of flats</td>\n",
              "    </tr>\n",
              "    <tr>\n",
              "      <th>3</th>\n",
              "      <td>5</td>\n",
              "      <td>3</td>\n",
              "      <td>2</td>\n",
              "      <td>1</td>\n",
              "      <td>1</td>\n",
              "      <td>1</td>\n",
              "      <td>1</td>\n",
              "      <td>2</td>\n",
              "      <td>2</td>\n",
              "      <td>1</td>\n",
              "      <td>4</td>\n",
              "      <td>2</td>\n",
              "      <td>2</td>\n",
              "      <td>1</td>\n",
              "      <td>2</td>\n",
              "      <td>5</td>\n",
              "      <td>1</td>\n",
              "      <td>2</td>\n",
              "      <td>1</td>\n",
              "      <td>5</td>\n",
              "      <td>4</td>\n",
              "      <td>4</td>\n",
              "      <td>3</td>\n",
              "      <td>3</td>\n",
              "      <td>4</td>\n",
              "      <td>3</td>\n",
              "      <td>1</td>\n",
              "      <td>2</td>\n",
              "      <td>5</td>\n",
              "      <td>1</td>\n",
              "      <td>2</td>\n",
              "      <td>4</td>\n",
              "      <td>4</td>\n",
              "      <td>5</td>\n",
              "      <td>4</td>\n",
              "      <td>1</td>\n",
              "      <td>3</td>\n",
              "      <td>1</td>\n",
              "      <td>2</td>\n",
              "      <td>3</td>\n",
              "      <td>...</td>\n",
              "      <td>1</td>\n",
              "      <td>5</td>\n",
              "      <td>3</td>\n",
              "      <td>1</td>\n",
              "      <td>3</td>\n",
              "      <td>3</td>\n",
              "      <td>2</td>\n",
              "      <td>5</td>\n",
              "      <td>5</td>\n",
              "      <td>4</td>\n",
              "      <td>5</td>\n",
              "      <td>3</td>\n",
              "      <td>3</td>\n",
              "      <td>2</td>\n",
              "      <td>2</td>\n",
              "      <td>1</td>\n",
              "      <td>2</td>\n",
              "      <td>1</td>\n",
              "      <td>1</td>\n",
              "      <td>4</td>\n",
              "      <td>2</td>\n",
              "      <td>4</td>\n",
              "      <td>most of the day</td>\n",
              "      <td>2</td>\n",
              "      <td>4</td>\n",
              "      <td>3</td>\n",
              "      <td>3</td>\n",
              "      <td>4</td>\n",
              "      <td>4</td>\n",
              "      <td>1</td>\n",
              "      <td>22</td>\n",
              "      <td>172</td>\n",
              "      <td>59</td>\n",
              "      <td>1</td>\n",
              "      <td>female</td>\n",
              "      <td>right handed</td>\n",
              "      <td>college/bachelor degree</td>\n",
              "      <td>yes</td>\n",
              "      <td>city</td>\n",
              "      <td>house/bungalow</td>\n",
              "    </tr>\n",
              "    <tr>\n",
              "      <th>4</th>\n",
              "      <td>5</td>\n",
              "      <td>3</td>\n",
              "      <td>4</td>\n",
              "      <td>3</td>\n",
              "      <td>2</td>\n",
              "      <td>4</td>\n",
              "      <td>3</td>\n",
              "      <td>5</td>\n",
              "      <td>3</td>\n",
              "      <td>1</td>\n",
              "      <td>2</td>\n",
              "      <td>5</td>\n",
              "      <td>3</td>\n",
              "      <td>2</td>\n",
              "      <td>1</td>\n",
              "      <td>2</td>\n",
              "      <td>4</td>\n",
              "      <td>2</td>\n",
              "      <td>2</td>\n",
              "      <td>5</td>\n",
              "      <td>4</td>\n",
              "      <td>4</td>\n",
              "      <td>5</td>\n",
              "      <td>2</td>\n",
              "      <td>3</td>\n",
              "      <td>3</td>\n",
              "      <td>4</td>\n",
              "      <td>4</td>\n",
              "      <td>3</td>\n",
              "      <td>1</td>\n",
              "      <td>4</td>\n",
              "      <td>3</td>\n",
              "      <td>2</td>\n",
              "      <td>3</td>\n",
              "      <td>2</td>\n",
              "      <td>2</td>\n",
              "      <td>2</td>\n",
              "      <td>2</td>\n",
              "      <td>2</td>\n",
              "      <td>3</td>\n",
              "      <td>...</td>\n",
              "      <td>4</td>\n",
              "      <td>2</td>\n",
              "      <td>3</td>\n",
              "      <td>3</td>\n",
              "      <td>3</td>\n",
              "      <td>3</td>\n",
              "      <td>5</td>\n",
              "      <td>4</td>\n",
              "      <td>2</td>\n",
              "      <td>3</td>\n",
              "      <td>5</td>\n",
              "      <td>5</td>\n",
              "      <td>2</td>\n",
              "      <td>3</td>\n",
              "      <td>5</td>\n",
              "      <td>3</td>\n",
              "      <td>3</td>\n",
              "      <td>2</td>\n",
              "      <td>4</td>\n",
              "      <td>3</td>\n",
              "      <td>3</td>\n",
              "      <td>3</td>\n",
              "      <td>few hours a day</td>\n",
              "      <td>4</td>\n",
              "      <td>3</td>\n",
              "      <td>4</td>\n",
              "      <td>3</td>\n",
              "      <td>3</td>\n",
              "      <td>2</td>\n",
              "      <td>4</td>\n",
              "      <td>20</td>\n",
              "      <td>170</td>\n",
              "      <td>59</td>\n",
              "      <td>1</td>\n",
              "      <td>female</td>\n",
              "      <td>right handed</td>\n",
              "      <td>secondary school</td>\n",
              "      <td>no</td>\n",
              "      <td>village</td>\n",
              "      <td>house/bungalow</td>\n",
              "    </tr>\n",
              "  </tbody>\n",
              "</table>\n",
              "<p>5 rows × 150 columns</p>\n",
              "</div>"
            ],
            "text/plain": [
              "   Music  Slow songs or fast songs  ...  Village - town  House - block of flats\n",
              "0      5                         3  ...         village          block of flats\n",
              "1      4                         4  ...            city          block of flats\n",
              "2      5                         5  ...            city          block of flats\n",
              "3      5                         3  ...            city          house/bungalow\n",
              "4      5                         3  ...         village          house/bungalow\n",
              "\n",
              "[5 rows x 150 columns]"
            ]
          },
          "metadata": {
            "tags": []
          },
          "execution_count": 3
        }
      ]
    },
    {
      "cell_type": "markdown",
      "metadata": {
        "id": "c7AidkrsxquD"
      },
      "source": [
        "explore relationship between phobias and demographics: focus on gender, number of siblings"
      ]
    },
    {
      "cell_type": "code",
      "metadata": {
        "colab": {
          "base_uri": "https://localhost:8080/",
          "height": 603
        },
        "id": "qUlqigWb0N2W",
        "outputId": "4b0a151e-a8a3-4040-dc17-83f14123ab92"
      },
      "source": [
        "phobias = df[df.columns[63:73]]\r\n",
        "phobias = phobias.join(df[df.columns[140:150]])\r\n",
        "phobias"
      ],
      "execution_count": null,
      "outputs": [
        {
          "output_type": "execute_result",
          "data": {
            "text/html": [
              "<div>\n",
              "<style scoped>\n",
              "    .dataframe tbody tr th:only-of-type {\n",
              "        vertical-align: middle;\n",
              "    }\n",
              "\n",
              "    .dataframe tbody tr th {\n",
              "        vertical-align: top;\n",
              "    }\n",
              "\n",
              "    .dataframe thead th {\n",
              "        text-align: right;\n",
              "    }\n",
              "</style>\n",
              "<table border=\"1\" class=\"dataframe\">\n",
              "  <thead>\n",
              "    <tr style=\"text-align: right;\">\n",
              "      <th></th>\n",
              "      <th>Flying</th>\n",
              "      <th>Storm</th>\n",
              "      <th>Darkness</th>\n",
              "      <th>Heights</th>\n",
              "      <th>Spiders</th>\n",
              "      <th>Snakes</th>\n",
              "      <th>Rats</th>\n",
              "      <th>Ageing</th>\n",
              "      <th>Dangerous dogs</th>\n",
              "      <th>Fear of public speaking</th>\n",
              "      <th>Age</th>\n",
              "      <th>Height</th>\n",
              "      <th>Weight</th>\n",
              "      <th>Number of siblings</th>\n",
              "      <th>Gender</th>\n",
              "      <th>Left - right handed</th>\n",
              "      <th>Education</th>\n",
              "      <th>Only child</th>\n",
              "      <th>Village - town</th>\n",
              "      <th>House - block of flats</th>\n",
              "    </tr>\n",
              "  </thead>\n",
              "  <tbody>\n",
              "    <tr>\n",
              "      <th>0</th>\n",
              "      <td>1</td>\n",
              "      <td>1</td>\n",
              "      <td>1</td>\n",
              "      <td>1</td>\n",
              "      <td>1</td>\n",
              "      <td>5</td>\n",
              "      <td>3</td>\n",
              "      <td>1</td>\n",
              "      <td>3</td>\n",
              "      <td>2</td>\n",
              "      <td>20</td>\n",
              "      <td>163</td>\n",
              "      <td>48</td>\n",
              "      <td>1</td>\n",
              "      <td>female</td>\n",
              "      <td>right handed</td>\n",
              "      <td>college/bachelor degree</td>\n",
              "      <td>no</td>\n",
              "      <td>village</td>\n",
              "      <td>block of flats</td>\n",
              "    </tr>\n",
              "    <tr>\n",
              "      <th>1</th>\n",
              "      <td>1</td>\n",
              "      <td>1</td>\n",
              "      <td>1</td>\n",
              "      <td>2</td>\n",
              "      <td>1</td>\n",
              "      <td>1</td>\n",
              "      <td>1</td>\n",
              "      <td>3</td>\n",
              "      <td>1</td>\n",
              "      <td>4</td>\n",
              "      <td>19</td>\n",
              "      <td>163</td>\n",
              "      <td>58</td>\n",
              "      <td>2</td>\n",
              "      <td>female</td>\n",
              "      <td>right handed</td>\n",
              "      <td>college/bachelor degree</td>\n",
              "      <td>no</td>\n",
              "      <td>city</td>\n",
              "      <td>block of flats</td>\n",
              "    </tr>\n",
              "    <tr>\n",
              "      <th>2</th>\n",
              "      <td>1</td>\n",
              "      <td>1</td>\n",
              "      <td>1</td>\n",
              "      <td>1</td>\n",
              "      <td>1</td>\n",
              "      <td>1</td>\n",
              "      <td>1</td>\n",
              "      <td>1</td>\n",
              "      <td>1</td>\n",
              "      <td>2</td>\n",
              "      <td>20</td>\n",
              "      <td>176</td>\n",
              "      <td>67</td>\n",
              "      <td>2</td>\n",
              "      <td>female</td>\n",
              "      <td>right handed</td>\n",
              "      <td>secondary school</td>\n",
              "      <td>no</td>\n",
              "      <td>city</td>\n",
              "      <td>block of flats</td>\n",
              "    </tr>\n",
              "    <tr>\n",
              "      <th>3</th>\n",
              "      <td>2</td>\n",
              "      <td>1</td>\n",
              "      <td>1</td>\n",
              "      <td>3</td>\n",
              "      <td>5</td>\n",
              "      <td>5</td>\n",
              "      <td>5</td>\n",
              "      <td>4</td>\n",
              "      <td>5</td>\n",
              "      <td>5</td>\n",
              "      <td>22</td>\n",
              "      <td>172</td>\n",
              "      <td>59</td>\n",
              "      <td>1</td>\n",
              "      <td>female</td>\n",
              "      <td>right handed</td>\n",
              "      <td>college/bachelor degree</td>\n",
              "      <td>yes</td>\n",
              "      <td>city</td>\n",
              "      <td>house/bungalow</td>\n",
              "    </tr>\n",
              "    <tr>\n",
              "      <th>4</th>\n",
              "      <td>1</td>\n",
              "      <td>2</td>\n",
              "      <td>1</td>\n",
              "      <td>1</td>\n",
              "      <td>1</td>\n",
              "      <td>1</td>\n",
              "      <td>2</td>\n",
              "      <td>2</td>\n",
              "      <td>4</td>\n",
              "      <td>3</td>\n",
              "      <td>20</td>\n",
              "      <td>170</td>\n",
              "      <td>59</td>\n",
              "      <td>1</td>\n",
              "      <td>female</td>\n",
              "      <td>right handed</td>\n",
              "      <td>secondary school</td>\n",
              "      <td>no</td>\n",
              "      <td>village</td>\n",
              "      <td>house/bungalow</td>\n",
              "    </tr>\n",
              "    <tr>\n",
              "      <th>...</th>\n",
              "      <td>...</td>\n",
              "      <td>...</td>\n",
              "      <td>...</td>\n",
              "      <td>...</td>\n",
              "      <td>...</td>\n",
              "      <td>...</td>\n",
              "      <td>...</td>\n",
              "      <td>...</td>\n",
              "      <td>...</td>\n",
              "      <td>...</td>\n",
              "      <td>...</td>\n",
              "      <td>...</td>\n",
              "      <td>...</td>\n",
              "      <td>...</td>\n",
              "      <td>...</td>\n",
              "      <td>...</td>\n",
              "      <td>...</td>\n",
              "      <td>...</td>\n",
              "      <td>...</td>\n",
              "      <td>...</td>\n",
              "    </tr>\n",
              "    <tr>\n",
              "      <th>972</th>\n",
              "      <td>1</td>\n",
              "      <td>2</td>\n",
              "      <td>4</td>\n",
              "      <td>5</td>\n",
              "      <td>2</td>\n",
              "      <td>2</td>\n",
              "      <td>2</td>\n",
              "      <td>3</td>\n",
              "      <td>3</td>\n",
              "      <td>4</td>\n",
              "      <td>20</td>\n",
              "      <td>164</td>\n",
              "      <td>57</td>\n",
              "      <td>1</td>\n",
              "      <td>female</td>\n",
              "      <td>right handed</td>\n",
              "      <td>secondary school</td>\n",
              "      <td>no</td>\n",
              "      <td>city</td>\n",
              "      <td>house/bungalow</td>\n",
              "    </tr>\n",
              "    <tr>\n",
              "      <th>973</th>\n",
              "      <td>1</td>\n",
              "      <td>1</td>\n",
              "      <td>1</td>\n",
              "      <td>1</td>\n",
              "      <td>1</td>\n",
              "      <td>1</td>\n",
              "      <td>1</td>\n",
              "      <td>2</td>\n",
              "      <td>5</td>\n",
              "      <td>5</td>\n",
              "      <td>27</td>\n",
              "      <td>183</td>\n",
              "      <td>80</td>\n",
              "      <td>5</td>\n",
              "      <td>male</td>\n",
              "      <td>left handed</td>\n",
              "      <td>masters degree</td>\n",
              "      <td>no</td>\n",
              "      <td>village</td>\n",
              "      <td>house/bungalow</td>\n",
              "    </tr>\n",
              "    <tr>\n",
              "      <th>974</th>\n",
              "      <td>2</td>\n",
              "      <td>1</td>\n",
              "      <td>3</td>\n",
              "      <td>2</td>\n",
              "      <td>2</td>\n",
              "      <td>2</td>\n",
              "      <td>1</td>\n",
              "      <td>1</td>\n",
              "      <td>1</td>\n",
              "      <td>5</td>\n",
              "      <td>18</td>\n",
              "      <td>173</td>\n",
              "      <td>75</td>\n",
              "      <td>0</td>\n",
              "      <td>female</td>\n",
              "      <td>right handed</td>\n",
              "      <td>secondary school</td>\n",
              "      <td>yes</td>\n",
              "      <td>city</td>\n",
              "      <td>block of flats</td>\n",
              "    </tr>\n",
              "    <tr>\n",
              "      <th>975</th>\n",
              "      <td>2</td>\n",
              "      <td>3</td>\n",
              "      <td>2</td>\n",
              "      <td>5</td>\n",
              "      <td>3</td>\n",
              "      <td>3</td>\n",
              "      <td>3</td>\n",
              "      <td>3</td>\n",
              "      <td>5</td>\n",
              "      <td>5</td>\n",
              "      <td>25</td>\n",
              "      <td>173</td>\n",
              "      <td>58</td>\n",
              "      <td>1</td>\n",
              "      <td>female</td>\n",
              "      <td>right handed</td>\n",
              "      <td>college/bachelor degree</td>\n",
              "      <td>no</td>\n",
              "      <td>city</td>\n",
              "      <td>block of flats</td>\n",
              "    </tr>\n",
              "    <tr>\n",
              "      <th>976</th>\n",
              "      <td>2</td>\n",
              "      <td>1</td>\n",
              "      <td>2</td>\n",
              "      <td>5</td>\n",
              "      <td>1</td>\n",
              "      <td>4</td>\n",
              "      <td>2</td>\n",
              "      <td>2</td>\n",
              "      <td>3</td>\n",
              "      <td>2</td>\n",
              "      <td>21</td>\n",
              "      <td>185</td>\n",
              "      <td>72</td>\n",
              "      <td>1</td>\n",
              "      <td>male</td>\n",
              "      <td>right handed</td>\n",
              "      <td>secondary school</td>\n",
              "      <td>no</td>\n",
              "      <td>village</td>\n",
              "      <td>house/bungalow</td>\n",
              "    </tr>\n",
              "  </tbody>\n",
              "</table>\n",
              "<p>977 rows × 20 columns</p>\n",
              "</div>"
            ],
            "text/plain": [
              "     Flying  Storm  Darkness  ...  Only child  Village - town  House - block of flats\n",
              "0         1      1         1  ...          no         village          block of flats\n",
              "1         1      1         1  ...          no            city          block of flats\n",
              "2         1      1         1  ...          no            city          block of flats\n",
              "3         2      1         1  ...         yes            city          house/bungalow\n",
              "4         1      2         1  ...          no         village          house/bungalow\n",
              "..      ...    ...       ...  ...         ...             ...                     ...\n",
              "972       1      2         4  ...          no            city          house/bungalow\n",
              "973       1      1         1  ...          no         village          house/bungalow\n",
              "974       2      1         3  ...         yes            city          block of flats\n",
              "975       2      3         2  ...          no            city          block of flats\n",
              "976       2      1         2  ...          no         village          house/bungalow\n",
              "\n",
              "[977 rows x 20 columns]"
            ]
          },
          "metadata": {
            "tags": []
          },
          "execution_count": 4
        }
      ]
    },
    {
      "cell_type": "code",
      "metadata": {
        "colab": {
          "base_uri": "https://localhost:8080/",
          "height": 106
        },
        "id": "Mr7B9Pr92K5J",
        "outputId": "28ba5a00-eeb1-4b45-ac8e-3914c4f35425"
      },
      "source": [
        "gengroup = phobias.groupby('Gender')\r\n",
        "gengroup.mean().reset_index()"
      ],
      "execution_count": null,
      "outputs": [
        {
          "output_type": "execute_result",
          "data": {
            "text/html": [
              "<div>\n",
              "<style scoped>\n",
              "    .dataframe tbody tr th:only-of-type {\n",
              "        vertical-align: middle;\n",
              "    }\n",
              "\n",
              "    .dataframe tbody tr th {\n",
              "        vertical-align: top;\n",
              "    }\n",
              "\n",
              "    .dataframe thead th {\n",
              "        text-align: right;\n",
              "    }\n",
              "</style>\n",
              "<table border=\"1\" class=\"dataframe\">\n",
              "  <thead>\n",
              "    <tr style=\"text-align: right;\">\n",
              "      <th></th>\n",
              "      <th>Gender</th>\n",
              "      <th>Flying</th>\n",
              "      <th>Storm</th>\n",
              "      <th>Darkness</th>\n",
              "      <th>Heights</th>\n",
              "      <th>Spiders</th>\n",
              "      <th>Snakes</th>\n",
              "      <th>Rats</th>\n",
              "      <th>Ageing</th>\n",
              "      <th>Dangerous dogs</th>\n",
              "      <th>Fear of public speaking</th>\n",
              "      <th>Age</th>\n",
              "      <th>Height</th>\n",
              "      <th>Weight</th>\n",
              "      <th>Number of siblings</th>\n",
              "    </tr>\n",
              "  </thead>\n",
              "  <tbody>\n",
              "    <tr>\n",
              "      <th>0</th>\n",
              "      <td>female</td>\n",
              "      <td>2.179310</td>\n",
              "      <td>2.256897</td>\n",
              "      <td>2.589655</td>\n",
              "      <td>2.615517</td>\n",
              "      <td>3.256897</td>\n",
              "      <td>3.308621</td>\n",
              "      <td>2.722414</td>\n",
              "      <td>2.779310</td>\n",
              "      <td>3.277586</td>\n",
              "      <td>2.934483</td>\n",
              "      <td>20.087931</td>\n",
              "      <td>167.862069</td>\n",
              "      <td>59.062069</td>\n",
              "      <td>1.272414</td>\n",
              "    </tr>\n",
              "    <tr>\n",
              "      <th>1</th>\n",
              "      <td>male</td>\n",
              "      <td>1.879093</td>\n",
              "      <td>1.536524</td>\n",
              "      <td>1.760705</td>\n",
              "      <td>2.586902</td>\n",
              "      <td>2.209068</td>\n",
              "      <td>2.599496</td>\n",
              "      <td>1.964736</td>\n",
              "      <td>2.307305</td>\n",
              "      <td>2.697733</td>\n",
              "      <td>2.602015</td>\n",
              "      <td>20.869018</td>\n",
              "      <td>181.675063</td>\n",
              "      <td>77.017632</td>\n",
              "      <td>1.340050</td>\n",
              "    </tr>\n",
              "  </tbody>\n",
              "</table>\n",
              "</div>"
            ],
            "text/plain": [
              "   Gender    Flying     Storm  ...      Height     Weight  Number of siblings\n",
              "0  female  2.179310  2.256897  ...  167.862069  59.062069            1.272414\n",
              "1    male  1.879093  1.536524  ...  181.675063  77.017632            1.340050\n",
              "\n",
              "[2 rows x 15 columns]"
            ]
          },
          "metadata": {
            "tags": []
          },
          "execution_count": 5
        }
      ]
    },
    {
      "cell_type": "code",
      "metadata": {
        "colab": {
          "base_uri": "https://localhost:8080/",
          "height": 284
        },
        "id": "pYibuhg_6dIE",
        "outputId": "3c1fec98-c4be-4b6c-d2a5-3b0b97669ac9"
      },
      "source": [
        "sibgroup = phobias.groupby('Number of siblings')\r\n",
        "sibgroup.mean().reset_index()"
      ],
      "execution_count": null,
      "outputs": [
        {
          "output_type": "execute_result",
          "data": {
            "text/html": [
              "<div>\n",
              "<style scoped>\n",
              "    .dataframe tbody tr th:only-of-type {\n",
              "        vertical-align: middle;\n",
              "    }\n",
              "\n",
              "    .dataframe tbody tr th {\n",
              "        vertical-align: top;\n",
              "    }\n",
              "\n",
              "    .dataframe thead th {\n",
              "        text-align: right;\n",
              "    }\n",
              "</style>\n",
              "<table border=\"1\" class=\"dataframe\">\n",
              "  <thead>\n",
              "    <tr style=\"text-align: right;\">\n",
              "      <th></th>\n",
              "      <th>Number of siblings</th>\n",
              "      <th>Flying</th>\n",
              "      <th>Storm</th>\n",
              "      <th>Darkness</th>\n",
              "      <th>Heights</th>\n",
              "      <th>Spiders</th>\n",
              "      <th>Snakes</th>\n",
              "      <th>Rats</th>\n",
              "      <th>Ageing</th>\n",
              "      <th>Dangerous dogs</th>\n",
              "      <th>Fear of public speaking</th>\n",
              "      <th>Age</th>\n",
              "      <th>Height</th>\n",
              "      <th>Weight</th>\n",
              "    </tr>\n",
              "  </thead>\n",
              "  <tbody>\n",
              "    <tr>\n",
              "      <th>0</th>\n",
              "      <td>0</td>\n",
              "      <td>2.094937</td>\n",
              "      <td>1.981013</td>\n",
              "      <td>2.284810</td>\n",
              "      <td>2.588608</td>\n",
              "      <td>2.734177</td>\n",
              "      <td>2.867089</td>\n",
              "      <td>2.265823</td>\n",
              "      <td>2.455696</td>\n",
              "      <td>2.848101</td>\n",
              "      <td>2.708861</td>\n",
              "      <td>19.829114</td>\n",
              "      <td>173.202532</td>\n",
              "      <td>67.284810</td>\n",
              "    </tr>\n",
              "    <tr>\n",
              "      <th>1</th>\n",
              "      <td>1</td>\n",
              "      <td>2.059387</td>\n",
              "      <td>1.927203</td>\n",
              "      <td>2.222222</td>\n",
              "      <td>2.628352</td>\n",
              "      <td>2.925287</td>\n",
              "      <td>3.099617</td>\n",
              "      <td>2.413793</td>\n",
              "      <td>2.607280</td>\n",
              "      <td>3.049808</td>\n",
              "      <td>2.886973</td>\n",
              "      <td>20.425287</td>\n",
              "      <td>173.885057</td>\n",
              "      <td>66.342912</td>\n",
              "    </tr>\n",
              "    <tr>\n",
              "      <th>2</th>\n",
              "      <td>2</td>\n",
              "      <td>1.994872</td>\n",
              "      <td>2.035897</td>\n",
              "      <td>2.379487</td>\n",
              "      <td>2.594872</td>\n",
              "      <td>2.764103</td>\n",
              "      <td>2.917949</td>\n",
              "      <td>2.446154</td>\n",
              "      <td>2.661538</td>\n",
              "      <td>3.066667</td>\n",
              "      <td>2.723077</td>\n",
              "      <td>20.671795</td>\n",
              "      <td>172.897436</td>\n",
              "      <td>66.528205</td>\n",
              "    </tr>\n",
              "    <tr>\n",
              "      <th>3</th>\n",
              "      <td>3</td>\n",
              "      <td>2.352113</td>\n",
              "      <td>2.126761</td>\n",
              "      <td>2.267606</td>\n",
              "      <td>2.676056</td>\n",
              "      <td>2.746479</td>\n",
              "      <td>3.042254</td>\n",
              "      <td>2.690141</td>\n",
              "      <td>2.619718</td>\n",
              "      <td>3.295775</td>\n",
              "      <td>2.760563</td>\n",
              "      <td>20.492958</td>\n",
              "      <td>172.408451</td>\n",
              "      <td>63.732394</td>\n",
              "    </tr>\n",
              "    <tr>\n",
              "      <th>4</th>\n",
              "      <td>4</td>\n",
              "      <td>1.722222</td>\n",
              "      <td>2.000000</td>\n",
              "      <td>2.000000</td>\n",
              "      <td>2.277778</td>\n",
              "      <td>2.500000</td>\n",
              "      <td>3.388889</td>\n",
              "      <td>2.666667</td>\n",
              "      <td>2.444444</td>\n",
              "      <td>3.444444</td>\n",
              "      <td>2.277778</td>\n",
              "      <td>20.388889</td>\n",
              "      <td>172.666667</td>\n",
              "      <td>62.944444</td>\n",
              "    </tr>\n",
              "    <tr>\n",
              "      <th>5</th>\n",
              "      <td>5</td>\n",
              "      <td>1.222222</td>\n",
              "      <td>1.333333</td>\n",
              "      <td>1.555556</td>\n",
              "      <td>2.222222</td>\n",
              "      <td>2.333333</td>\n",
              "      <td>2.555556</td>\n",
              "      <td>2.111111</td>\n",
              "      <td>2.111111</td>\n",
              "      <td>2.888889</td>\n",
              "      <td>2.777778</td>\n",
              "      <td>22.444444</td>\n",
              "      <td>176.444444</td>\n",
              "      <td>72.666667</td>\n",
              "    </tr>\n",
              "    <tr>\n",
              "      <th>6</th>\n",
              "      <td>6</td>\n",
              "      <td>1.666667</td>\n",
              "      <td>1.000000</td>\n",
              "      <td>1.333333</td>\n",
              "      <td>1.666667</td>\n",
              "      <td>2.000000</td>\n",
              "      <td>2.666667</td>\n",
              "      <td>1.666667</td>\n",
              "      <td>2.000000</td>\n",
              "      <td>2.666667</td>\n",
              "      <td>1.666667</td>\n",
              "      <td>20.666667</td>\n",
              "      <td>177.000000</td>\n",
              "      <td>76.666667</td>\n",
              "    </tr>\n",
              "    <tr>\n",
              "      <th>7</th>\n",
              "      <td>10</td>\n",
              "      <td>1.000000</td>\n",
              "      <td>1.000000</td>\n",
              "      <td>1.000000</td>\n",
              "      <td>1.000000</td>\n",
              "      <td>1.000000</td>\n",
              "      <td>3.000000</td>\n",
              "      <td>1.000000</td>\n",
              "      <td>5.000000</td>\n",
              "      <td>2.000000</td>\n",
              "      <td>2.000000</td>\n",
              "      <td>24.000000</td>\n",
              "      <td>168.000000</td>\n",
              "      <td>55.000000</td>\n",
              "    </tr>\n",
              "  </tbody>\n",
              "</table>\n",
              "</div>"
            ],
            "text/plain": [
              "   Number of siblings    Flying     Storm  ...        Age      Height     Weight\n",
              "0                   0  2.094937  1.981013  ...  19.829114  173.202532  67.284810\n",
              "1                   1  2.059387  1.927203  ...  20.425287  173.885057  66.342912\n",
              "2                   2  1.994872  2.035897  ...  20.671795  172.897436  66.528205\n",
              "3                   3  2.352113  2.126761  ...  20.492958  172.408451  63.732394\n",
              "4                   4  1.722222  2.000000  ...  20.388889  172.666667  62.944444\n",
              "5                   5  1.222222  1.333333  ...  22.444444  176.444444  72.666667\n",
              "6                   6  1.666667  1.000000  ...  20.666667  177.000000  76.666667\n",
              "7                  10  1.000000  1.000000  ...  24.000000  168.000000  55.000000\n",
              "\n",
              "[8 rows x 14 columns]"
            ]
          },
          "metadata": {
            "tags": []
          },
          "execution_count": 6
        }
      ]
    },
    {
      "cell_type": "code",
      "metadata": {
        "colab": {
          "base_uri": "https://localhost:8080/",
          "height": 296
        },
        "id": "3Q_8mm3XxvJi",
        "outputId": "98ce2bfc-830e-4f71-8be0-e375d25fb331"
      },
      "source": [
        "sns.countplot(x='Darkness', hue= \"Gender\", data=phobias)"
      ],
      "execution_count": null,
      "outputs": [
        {
          "output_type": "execute_result",
          "data": {
            "text/plain": [
              "<matplotlib.axes._subplots.AxesSubplot at 0x7fd922b6b350>"
            ]
          },
          "metadata": {
            "tags": []
          },
          "execution_count": 7
        },
        {
          "output_type": "display_data",
          "data": {
            "image/png": "[encoded data removed]",
            "text/plain": [
              "<Figure size 432x288 with 1 Axes>"
            ]
          },
          "metadata": {
            "tags": [],
            "needs_background": "light"
          }
        }
      ]
    },
    {
      "cell_type": "code",
      "metadata": {
        "colab": {
          "base_uri": "https://localhost:8080/",
          "height": 296
        },
        "id": "eKS5OAhqRoN-",
        "outputId": "450e4657-08b9-45c1-813d-fbd6c4256a9b"
      },
      "source": [
        "sns.countplot(x='Spiders', hue = 'Gender', data=phobias)"
      ],
      "execution_count": null,
      "outputs": [
        {
          "output_type": "execute_result",
          "data": {
            "text/plain": [
              "<matplotlib.axes._subplots.AxesSubplot at 0x7fd913b7d4d0>"
            ]
          },
          "metadata": {
            "tags": []
          },
          "execution_count": 8
        },
        {
          "output_type": "display_data",
          "data": {
            "image/png": "[encoded data removed]",
            "text/plain": [
              "<Figure size 432x288 with 1 Axes>"
            ]
          },
          "metadata": {
            "tags": [],
            "needs_background": "light"
          }
        }
      ]
    },
    {
      "cell_type": "code",
      "metadata": {
        "colab": {
          "base_uri": "https://localhost:8080/",
          "height": 296
        },
        "id": "s773c69OTpzg",
        "outputId": "aa645e1f-0e59-4fe5-cde2-a62ba9b3c057"
      },
      "source": [
        "sns.countplot(x='Spiders', hue = 'Number of siblings', data=phobias[phobias['Number of siblings'] < 5])"
      ],
      "execution_count": null,
      "outputs": [
        {
          "output_type": "execute_result",
          "data": {
            "text/plain": [
              "<matplotlib.axes._subplots.AxesSubplot at 0x7fd91368b8d0>"
            ]
          },
          "metadata": {
            "tags": []
          },
          "execution_count": 9
        },
        {
          "output_type": "display_data",
          "data": {
            "image/png": "[encoded data removed]",
            "text/plain": [
              "<Figure size 432x288 with 1 Axes>"
            ]
          },
          "metadata": {
            "tags": [],
            "needs_background": "light"
          }
        }
      ]
    },
    {
      "cell_type": "code",
      "metadata": {
        "colab": {
          "base_uri": "https://localhost:8080/",
          "height": 292
        },
        "id": "0gs8pPEnV923",
        "outputId": "81f9014b-3901-48e0-d33e-aa96e6d883bf"
      },
      "source": [
        "g = sns.catplot(x=\"Darkness\", hue=\"Gender\", col=\"Number of siblings\",\r\n",
        "                data=phobias[phobias['Number of siblings'] < 5], kind=\"count\");"
      ],
      "execution_count": null,
      "outputs": [
        {
          "output_type": "display_data",
          "data": {
            "image/png": "[encoded data removed]",
            "text/plain": [
              "<Figure size 1870.5x360 with 5 Axes>"
            ]
          },
          "metadata": {
            "tags": [],
            "needs_background": "light"
          }
        }
      ]
    },
    {
      "cell_type": "code",
      "metadata": {
        "colab": {
          "base_uri": "https://localhost:8080/",
          "height": 418
        },
        "id": "MlEfzodUX_ZO",
        "outputId": "17c8fed0-bba7-4748-cd79-a8bf0149cc87"
      },
      "source": [
        "sns.catplot(x = 'Number of siblings', y = 'Darkness', hue = 'Gender', kind = 'point', data = phobias, ci = None)\r\n",
        "plt.title(\"Fear of Darkness vs Number of Siblings, by Gender\", size=16)"
      ],
      "execution_count": null,
      "outputs": [
        {
          "output_type": "execute_result",
          "data": {
            "text/plain": [
              "Text(0.5, 1.0, 'Fear of Darkness vs Number of Siblings, by Gender')"
            ]
          },
          "metadata": {
            "tags": []
          },
          "execution_count": 13
        },
        {
          "output_type": "display_data",
          "data": {
            "image/png": "[encoded data removed]",
            "text/plain": [
              "<Figure size 430.5x360 with 1 Axes>"
            ]
          },
          "metadata": {
            "tags": [],
            "needs_background": "light"
          }
        }
      ]
    },
    {
      "cell_type": "code",
      "metadata": {
        "colab": {
          "base_uri": "https://localhost:8080/",
          "height": 400
        },
        "id": "5dbNZFA5Z7Bs",
        "outputId": "934cdacd-5057-49f5-c516-153f0538357d"
      },
      "source": [
        "sns.catplot(x = 'Age', y = 'Darkness', hue = 'Gender', kind = 'point', data = phobias, ci = None)"
      ],
      "execution_count": null,
      "outputs": [
        {
          "output_type": "execute_result",
          "data": {
            "text/plain": [
              "<seaborn.axisgrid.FacetGrid at 0x7fbf9e335208>"
            ]
          },
          "metadata": {
            "tags": []
          },
          "execution_count": 101
        },
        {
          "output_type": "display_data",
          "data": {
            "image/png": "[encoded data removed]",
            "text/plain": [
              "<Figure size 430.5x360 with 1 Axes>"
            ]
          },
          "metadata": {
            "tags": [],
            "needs_background": "light"
          }
        }
      ]
    },
    {
      "cell_type": "code",
      "metadata": {
        "colab": {
          "base_uri": "https://localhost:8080/",
          "height": 400
        },
        "id": "zw1NbvK8ZCi5",
        "outputId": "d9a2539f-58db-46fe-9484-98891b6a82c5"
      },
      "source": [
        "sns.catplot(x = 'Number of siblings', y = 'Spiders', hue = 'Gender', kind = 'point', data = phobias, ci = None)"
      ],
      "execution_count": null,
      "outputs": [
        {
          "output_type": "execute_result",
          "data": {
            "text/plain": [
              "<seaborn.axisgrid.FacetGrid at 0x7fbf9e352550>"
            ]
          },
          "metadata": {
            "tags": []
          },
          "execution_count": 102
        },
        {
          "output_type": "display_data",
          "data": {
            "image/png": "[encoded data removed]",
            "text/plain": [
              "<Figure size 430.5x360 with 1 Axes>"
            ]
          },
          "metadata": {
            "tags": [],
            "needs_background": "light"
          }
        }
      ]
    },
    {
      "cell_type": "code",
      "metadata": {
        "id": "I9EFuxp4bAs3",
        "colab": {
          "base_uri": "https://localhost:8080/",
          "height": 400
        },
        "outputId": "753a967e-5ceb-40ec-8997-d0b598de79ef"
      },
      "source": [
        "sns.catplot(x = 'Age', y = 'Spiders', hue = 'Gender', kind = 'point', data = phobias, ci = None)"
      ],
      "execution_count": null,
      "outputs": [
        {
          "output_type": "execute_result",
          "data": {
            "text/plain": [
              "<seaborn.axisgrid.FacetGrid at 0x7fbf9e1a5e80>"
            ]
          },
          "metadata": {
            "tags": []
          },
          "execution_count": 104
        },
        {
          "output_type": "display_data",
          "data": {
            "image/png": "[encoded data removed]",
            "text/plain": [
              "<Figure size 430.5x360 with 1 Axes>"
            ]
          },
          "metadata": {
            "tags": [],
            "needs_background": "light"
          }
        }
      ]
    },
    {
      "cell_type": "code",
      "metadata": {
        "colab": {
          "base_uri": "https://localhost:8080/",
          "height": 400
        },
        "id": "h5gKdSTeZLdW",
        "outputId": "e0bba787-13f6-4021-9fd4-dce81e0a4f05"
      },
      "source": [
        "sns.catplot(x = 'Number of siblings', y = 'Rats', hue = 'Gender', kind = 'point', data = phobias)"
      ],
      "execution_count": null,
      "outputs": [
        {
          "output_type": "execute_result",
          "data": {
            "text/plain": [
              "<seaborn.axisgrid.FacetGrid at 0x7fbf9d90c9b0>"
            ]
          },
          "metadata": {
            "tags": []
          },
          "execution_count": 97
        },
        {
          "output_type": "display_data",
          "data": {
            "image/png": "[encoded data removed]",
            "text/plain": [
              "<Figure size 430.5x360 with 1 Axes>"
            ]
          },
          "metadata": {
            "tags": [],
            "needs_background": "light"
          }
        }
      ]
    },
    {
      "cell_type": "markdown",
      "metadata": {
        "id": "n5ykgUitrxha"
      },
      "source": [
        "random forests"
      ]
    },
    {
      "cell_type": "markdown",
      "metadata": {
        "id": "xh1F7sLFuaoN"
      },
      "source": [
        "single to predict healthy lifestyle on other personality questions"
      ]
    },
    {
      "cell_type": "code",
      "metadata": {
        "id": "bEVxjlywyVaa"
      },
      "source": [
        "from sklearn.model_selection import train_test_split\r\n",
        "from sklearn.ensemble import RandomForestClassifier\r\n",
        "from sklearn.metrics import confusion_matrix"
      ],
      "execution_count": null,
      "outputs": []
    },
    {
      "cell_type": "code",
      "metadata": {
        "colab": {
          "base_uri": "https://localhost:8080/",
          "height": 249
        },
        "id": "1sQg_Fa2yyOt",
        "outputId": "9bc82d0c-b9b9-48d2-b099-c030706c814b"
      },
      "source": [
        "interests = df[['Healthy eating', 'History', 'Psychology', 'Politics', 'Mathematics', 'Physics',\r\n",
        "       'Internet', 'PC', 'Economy Management', 'Biology', 'Chemistry',\r\n",
        "       'Reading', 'Geography', 'Foreign languages', 'Medicine', 'Law', 'Cars',\r\n",
        "       'Art exhibitions', 'Religion', 'Countryside, outdoors', 'Dancing',\r\n",
        "       'Musical instruments', 'Writing', 'Passive sport', 'Active sport',\r\n",
        "       'Gardening', 'Celebrities', 'Shopping', 'Science and technology',\r\n",
        "       'Theatre', 'Fun with friends', 'Adrenaline sports', 'Pets']]\r\n",
        "interests.head()"
      ],
      "execution_count": null,
      "outputs": [
        {
          "output_type": "execute_result",
          "data": {
            "text/html": [
              "<div>\n",
              "<style scoped>\n",
              "    .dataframe tbody tr th:only-of-type {\n",
              "        vertical-align: middle;\n",
              "    }\n",
              "\n",
              "    .dataframe tbody tr th {\n",
              "        vertical-align: top;\n",
              "    }\n",
              "\n",
              "    .dataframe thead th {\n",
              "        text-align: right;\n",
              "    }\n",
              "</style>\n",
              "<table border=\"1\" class=\"dataframe\">\n",
              "  <thead>\n",
              "    <tr style=\"text-align: right;\">\n",
              "      <th></th>\n",
              "      <th>Healthy eating</th>\n",
              "      <th>History</th>\n",
              "      <th>Psychology</th>\n",
              "      <th>Politics</th>\n",
              "      <th>Mathematics</th>\n",
              "      <th>Physics</th>\n",
              "      <th>Internet</th>\n",
              "      <th>PC</th>\n",
              "      <th>Economy Management</th>\n",
              "      <th>Biology</th>\n",
              "      <th>Chemistry</th>\n",
              "      <th>Reading</th>\n",
              "      <th>Geography</th>\n",
              "      <th>Foreign languages</th>\n",
              "      <th>Medicine</th>\n",
              "      <th>Law</th>\n",
              "      <th>Cars</th>\n",
              "      <th>Art exhibitions</th>\n",
              "      <th>Religion</th>\n",
              "      <th>Countryside, outdoors</th>\n",
              "      <th>Dancing</th>\n",
              "      <th>Musical instruments</th>\n",
              "      <th>Writing</th>\n",
              "      <th>Passive sport</th>\n",
              "      <th>Active sport</th>\n",
              "      <th>Gardening</th>\n",
              "      <th>Celebrities</th>\n",
              "      <th>Shopping</th>\n",
              "      <th>Science and technology</th>\n",
              "      <th>Theatre</th>\n",
              "      <th>Fun with friends</th>\n",
              "      <th>Adrenaline sports</th>\n",
              "      <th>Pets</th>\n",
              "    </tr>\n",
              "  </thead>\n",
              "  <tbody>\n",
              "    <tr>\n",
              "      <th>0</th>\n",
              "      <td>4</td>\n",
              "      <td>1</td>\n",
              "      <td>5</td>\n",
              "      <td>1</td>\n",
              "      <td>3</td>\n",
              "      <td>3</td>\n",
              "      <td>5</td>\n",
              "      <td>3</td>\n",
              "      <td>5</td>\n",
              "      <td>3</td>\n",
              "      <td>3</td>\n",
              "      <td>3</td>\n",
              "      <td>3</td>\n",
              "      <td>5</td>\n",
              "      <td>3</td>\n",
              "      <td>1</td>\n",
              "      <td>1</td>\n",
              "      <td>1</td>\n",
              "      <td>1</td>\n",
              "      <td>5</td>\n",
              "      <td>3</td>\n",
              "      <td>3</td>\n",
              "      <td>2</td>\n",
              "      <td>1</td>\n",
              "      <td>5</td>\n",
              "      <td>5</td>\n",
              "      <td>1</td>\n",
              "      <td>4</td>\n",
              "      <td>4</td>\n",
              "      <td>2</td>\n",
              "      <td>5</td>\n",
              "      <td>4</td>\n",
              "      <td>4</td>\n",
              "    </tr>\n",
              "    <tr>\n",
              "      <th>1</th>\n",
              "      <td>3</td>\n",
              "      <td>1</td>\n",
              "      <td>3</td>\n",
              "      <td>4</td>\n",
              "      <td>5</td>\n",
              "      <td>2</td>\n",
              "      <td>4</td>\n",
              "      <td>4</td>\n",
              "      <td>5</td>\n",
              "      <td>1</td>\n",
              "      <td>1</td>\n",
              "      <td>4</td>\n",
              "      <td>4</td>\n",
              "      <td>5</td>\n",
              "      <td>1</td>\n",
              "      <td>2</td>\n",
              "      <td>2</td>\n",
              "      <td>2</td>\n",
              "      <td>1</td>\n",
              "      <td>1</td>\n",
              "      <td>1</td>\n",
              "      <td>1</td>\n",
              "      <td>1</td>\n",
              "      <td>1</td>\n",
              "      <td>1</td>\n",
              "      <td>1</td>\n",
              "      <td>2</td>\n",
              "      <td>3</td>\n",
              "      <td>3</td>\n",
              "      <td>2</td>\n",
              "      <td>4</td>\n",
              "      <td>2</td>\n",
              "      <td>5</td>\n",
              "    </tr>\n",
              "    <tr>\n",
              "      <th>2</th>\n",
              "      <td>3</td>\n",
              "      <td>1</td>\n",
              "      <td>2</td>\n",
              "      <td>1</td>\n",
              "      <td>5</td>\n",
              "      <td>2</td>\n",
              "      <td>4</td>\n",
              "      <td>2</td>\n",
              "      <td>4</td>\n",
              "      <td>1</td>\n",
              "      <td>1</td>\n",
              "      <td>5</td>\n",
              "      <td>2</td>\n",
              "      <td>5</td>\n",
              "      <td>2</td>\n",
              "      <td>3</td>\n",
              "      <td>1</td>\n",
              "      <td>5</td>\n",
              "      <td>5</td>\n",
              "      <td>5</td>\n",
              "      <td>5</td>\n",
              "      <td>5</td>\n",
              "      <td>5</td>\n",
              "      <td>5</td>\n",
              "      <td>2</td>\n",
              "      <td>1</td>\n",
              "      <td>1</td>\n",
              "      <td>4</td>\n",
              "      <td>2</td>\n",
              "      <td>5</td>\n",
              "      <td>5</td>\n",
              "      <td>5</td>\n",
              "      <td>5</td>\n",
              "    </tr>\n",
              "    <tr>\n",
              "      <th>3</th>\n",
              "      <td>3</td>\n",
              "      <td>4</td>\n",
              "      <td>4</td>\n",
              "      <td>5</td>\n",
              "      <td>4</td>\n",
              "      <td>1</td>\n",
              "      <td>3</td>\n",
              "      <td>1</td>\n",
              "      <td>2</td>\n",
              "      <td>3</td>\n",
              "      <td>3</td>\n",
              "      <td>5</td>\n",
              "      <td>4</td>\n",
              "      <td>4</td>\n",
              "      <td>2</td>\n",
              "      <td>5</td>\n",
              "      <td>1</td>\n",
              "      <td>5</td>\n",
              "      <td>4</td>\n",
              "      <td>1</td>\n",
              "      <td>1</td>\n",
              "      <td>1</td>\n",
              "      <td>3</td>\n",
              "      <td>1</td>\n",
              "      <td>1</td>\n",
              "      <td>1</td>\n",
              "      <td>2</td>\n",
              "      <td>4</td>\n",
              "      <td>3</td>\n",
              "      <td>1</td>\n",
              "      <td>2</td>\n",
              "      <td>1</td>\n",
              "      <td>1</td>\n",
              "    </tr>\n",
              "    <tr>\n",
              "      <th>4</th>\n",
              "      <td>4</td>\n",
              "      <td>3</td>\n",
              "      <td>2</td>\n",
              "      <td>3</td>\n",
              "      <td>2</td>\n",
              "      <td>2</td>\n",
              "      <td>2</td>\n",
              "      <td>2</td>\n",
              "      <td>2</td>\n",
              "      <td>3</td>\n",
              "      <td>3</td>\n",
              "      <td>5</td>\n",
              "      <td>2</td>\n",
              "      <td>3</td>\n",
              "      <td>3</td>\n",
              "      <td>2</td>\n",
              "      <td>3</td>\n",
              "      <td>1</td>\n",
              "      <td>4</td>\n",
              "      <td>4</td>\n",
              "      <td>1</td>\n",
              "      <td>3</td>\n",
              "      <td>1</td>\n",
              "      <td>3</td>\n",
              "      <td>1</td>\n",
              "      <td>4</td>\n",
              "      <td>3</td>\n",
              "      <td>3</td>\n",
              "      <td>3</td>\n",
              "      <td>2</td>\n",
              "      <td>4</td>\n",
              "      <td>2</td>\n",
              "      <td>1</td>\n",
              "    </tr>\n",
              "  </tbody>\n",
              "</table>\n",
              "</div>"
            ],
            "text/plain": [
              "   Healthy eating  History  ...  Adrenaline sports  Pets\n",
              "0               4        1  ...                  4     4\n",
              "1               3        1  ...                  2     5\n",
              "2               3        1  ...                  5     5\n",
              "3               3        4  ...                  1     1\n",
              "4               4        3  ...                  2     1\n",
              "\n",
              "[5 rows x 33 columns]"
            ]
          },
          "metadata": {
            "tags": []
          },
          "execution_count": 30
        }
      ]
    },
    {
      "cell_type": "code",
      "metadata": {
        "colab": {
          "base_uri": "https://localhost:8080/"
        },
        "id": "BHMP2ckXze2D",
        "outputId": "bb6be596-bc9f-4148-c56b-0ced84d7a57b"
      },
      "source": [
        "X_train, X_test, y_train, y_test = train_test_split(interests.drop(['Healthy eating'], axis='columns'),\r\n",
        "                                                    interests['Healthy eating'], \r\n",
        "                                                    test_size=0.2)\r\n",
        "model = RandomForestClassifier(oob_score=True, random_state=42)\r\n",
        "model.fit(X_train, y_train)"
      ],
      "execution_count": null,
      "outputs": [
        {
          "output_type": "execute_result",
          "data": {
            "text/plain": [
              "RandomForestClassifier(bootstrap=True, ccp_alpha=0.0, class_weight=None,\n",
              "                       criterion='gini', max_depth=None, max_features='auto',\n",
              "                       max_leaf_nodes=None, max_samples=None,\n",
              "                       min_impurity_decrease=0.0, min_impurity_split=None,\n",
              "                       min_samples_leaf=1, min_samples_split=2,\n",
              "                       min_weight_fraction_leaf=0.0, n_estimators=100,\n",
              "                       n_jobs=None, oob_score=True, random_state=42, verbose=0,\n",
              "                       warm_start=False)"
            ]
          },
          "metadata": {
            "tags": []
          },
          "execution_count": 31
        }
      ]
    },
    {
      "cell_type": "code",
      "metadata": {
        "colab": {
          "base_uri": "https://localhost:8080/"
        },
        "id": "TyRI4ONT0pKV",
        "outputId": "662ac47c-2cf0-4092-9fc9-7e5f1123696c"
      },
      "source": [
        "model.oob_score_"
      ],
      "execution_count": null,
      "outputs": [
        {
          "output_type": "execute_result",
          "data": {
            "text/plain": [
              "0.49039692701664533"
            ]
          },
          "metadata": {
            "tags": []
          },
          "execution_count": 32
        }
      ]
    },
    {
      "cell_type": "code",
      "metadata": {
        "colab": {
          "base_uri": "https://localhost:8080/"
        },
        "id": "x-rCHTni0qdB",
        "outputId": "324f47d8-9c8b-49db-f0b1-bb35738ac5c2"
      },
      "source": [
        "model.score(X_test, y_test)"
      ],
      "execution_count": null,
      "outputs": [
        {
          "output_type": "execute_result",
          "data": {
            "text/plain": [
              "0.5153061224489796"
            ]
          },
          "metadata": {
            "tags": []
          },
          "execution_count": 33
        }
      ]
    },
    {
      "cell_type": "code",
      "metadata": {
        "id": "qEoUsfHu2REW"
      },
      "source": [
        "y_predicted = model.predict(X_test)\r\n",
        "confusematrix = confusion_matrix(y_test, y_predicted)"
      ],
      "execution_count": null,
      "outputs": []
    },
    {
      "cell_type": "code",
      "metadata": {
        "colab": {
          "base_uri": "https://localhost:8080/",
          "height": 295
        },
        "id": "wrRcle032WzG",
        "outputId": "fc2cce2d-539e-4c3f-d205-db55cc9bfbd4"
      },
      "source": [
        "sns.heatmap(confusematrix, annot=True)\r\n",
        "plt.xlabel('Predicted')\r\n",
        "plt.ylabel('Truth')\r\n",
        "plt.title('Heatmap of True vs Predicted Outputs of Model')\r\n",
        "plt.show()"
      ],
      "execution_count": null,
      "outputs": [
        {
          "output_type": "display_data",
          "data": {
            "image/png": "[encoded data removed]",
            "text/plain": [
              "<Figure size 432x288 with 2 Axes>"
            ]
          },
          "metadata": {
            "tags": [],
            "needs_background": "light"
          }
        }
      ]
    },
    {
      "cell_type": "markdown",
      "metadata": {
        "id": "SN4k9VCB3nC1"
      },
      "source": [
        "see importance of each variable to see if we can drop some to improve the model"
      ]
    },
    {
      "cell_type": "code",
      "metadata": {
        "colab": {
          "base_uri": "https://localhost:8080/"
        },
        "id": "TSEOnp173uTq",
        "outputId": "1502aadb-73b7-42a6-ad6a-dc8fd442b2ac"
      },
      "source": [
        "model.feature_importances_"
      ],
      "execution_count": null,
      "outputs": [
        {
          "output_type": "execute_result",
          "data": {
            "text/plain": [
              "array([0.03285912, 0.03201533, 0.0305135 , 0.03222737, 0.02681101,\n",
              "       0.02550438, 0.02960744, 0.03343851, 0.03120191, 0.02933993,\n",
              "       0.03181147, 0.03380471, 0.03203078, 0.02915603, 0.0296198 ,\n",
              "       0.03458318, 0.03091281, 0.03243607, 0.03495868, 0.03345457,\n",
              "       0.02755272, 0.02478237, 0.03471128, 0.03941152, 0.02739678,\n",
              "       0.03100769, 0.03691766, 0.03208926, 0.03204004, 0.02068576,\n",
              "       0.03388944, 0.03322887])"
            ]
          },
          "metadata": {
            "tags": []
          },
          "execution_count": 36
        }
      ]
    },
    {
      "cell_type": "code",
      "metadata": {
        "colab": {
          "base_uri": "https://localhost:8080/",
          "height": 607
        },
        "id": "qf1M5mH74Vp2",
        "outputId": "c0cb3d50-b041-43d6-ab7a-8e99d2107fa2"
      },
      "source": [
        "feature_importances = pd.Series(model.feature_importances_, index=X_train.columns)\r\n",
        "feature_importances.sort_values(inplace=True)\r\n",
        "feature_importances.plot(kind=\"barh\", figsize=(10,10))\r\n",
        "plt.title('Importance of Each Variable in Model')\r\n",
        "plt.show()"
      ],
      "execution_count": null,
      "outputs": [
        {
          "output_type": "display_data",
          "data": {
            "image/png": "[encoded data removed]",
            "text/plain": [
              "<Figure size 720x720 with 1 Axes>"
            ]
          },
          "metadata": {
            "tags": [],
            "needs_background": "light"
          }
        }
      ]
    },
    {
      "cell_type": "code",
      "metadata": {
        "colab": {
          "base_uri": "https://localhost:8080/"
        },
        "id": "CdZoigU14wJ9",
        "outputId": "04d6e297-6d03-44e9-f1b9-367f9c7b3569"
      },
      "source": [
        "interests2 = interests.drop(columns = ['Fun with friends', 'Writing', 'Internet', 'Physics', 'Gardening', 'Musical instruments', 'Medicine', 'Chemistry', 'PC', 'Law'])\r\n",
        "X_train, X_test, y_train, y_test = train_test_split(interests.drop(['Healthy eating'], axis='columns'),\r\n",
        "                                                    interests['Healthy eating'], \r\n",
        "                                                    test_size=0.2)\r\n",
        "model = RandomForestClassifier(oob_score=True, random_state=42)\r\n",
        "model.fit(X_train, y_train)"
      ],
      "execution_count": null,
      "outputs": [
        {
          "output_type": "execute_result",
          "data": {
            "text/plain": [
              "RandomForestClassifier(bootstrap=True, ccp_alpha=0.0, class_weight=None,\n",
              "                       criterion='gini', max_depth=None, max_features='auto',\n",
              "                       max_leaf_nodes=None, max_samples=None,\n",
              "                       min_impurity_decrease=0.0, min_impurity_split=None,\n",
              "                       min_samples_leaf=1, min_samples_split=2,\n",
              "                       min_weight_fraction_leaf=0.0, n_estimators=100,\n",
              "                       n_jobs=None, oob_score=True, random_state=42, verbose=0,\n",
              "                       warm_start=False)"
            ]
          },
          "metadata": {
            "tags": []
          },
          "execution_count": 51
        }
      ]
    },
    {
      "cell_type": "code",
      "metadata": {
        "colab": {
          "base_uri": "https://localhost:8080/"
        },
        "id": "M0vaF_YO5bLS",
        "outputId": "e7476c93-6082-40c6-d84b-bdc2216c842a"
      },
      "source": [
        "model.oob_score_"
      ],
      "execution_count": null,
      "outputs": [
        {
          "output_type": "execute_result",
          "data": {
            "text/plain": [
              "0.48655569782330343"
            ]
          },
          "metadata": {
            "tags": []
          },
          "execution_count": 52
        }
      ]
    },
    {
      "cell_type": "code",
      "metadata": {
        "colab": {
          "base_uri": "https://localhost:8080/"
        },
        "id": "DopHUdFJ52_7",
        "outputId": "8c9df30c-b287-4e6a-ed73-fad5a4424317"
      },
      "source": [
        "model.score(X_test, y_test)"
      ],
      "execution_count": null,
      "outputs": [
        {
          "output_type": "execute_result",
          "data": {
            "text/plain": [
              "0.5255102040816326"
            ]
          },
          "metadata": {
            "tags": []
          },
          "execution_count": 53
        }
      ]
    },
    {
      "cell_type": "markdown",
      "metadata": {
        "id": "YP3XUXBP6YYC"
      },
      "source": [
        "hyper parameter tuning"
      ]
    },
    {
      "cell_type": "code",
      "metadata": {
        "colab": {
          "base_uri": "https://localhost:8080/"
        },
        "id": "gBEw9zMq6YDE",
        "outputId": "57d23e3e-5498-4807-8dca-47203145e410"
      },
      "source": [
        "from pprint import pprint\r\n",
        "# Look at parameters used by our current forest\r\n",
        "print('Parameters currently in use:\\n')\r\n",
        "pprint(model.get_params())"
      ],
      "execution_count": null,
      "outputs": [
        {
          "output_type": "stream",
          "text": [
            "Parameters currently in use:\n",
            "\n",
            "{'bootstrap': True,\n",
            " 'ccp_alpha': 0.0,\n",
            " 'class_weight': None,\n",
            " 'criterion': 'gini',\n",
            " 'max_depth': None,\n",
            " 'max_features': 'auto',\n",
            " 'max_leaf_nodes': None,\n",
            " 'max_samples': None,\n",
            " 'min_impurity_decrease': 0.0,\n",
            " 'min_impurity_split': None,\n",
            " 'min_samples_leaf': 1,\n",
            " 'min_samples_split': 2,\n",
            " 'min_weight_fraction_leaf': 0.0,\n",
            " 'n_estimators': 100,\n",
            " 'n_jobs': None,\n",
            " 'oob_score': True,\n",
            " 'random_state': 42,\n",
            " 'verbose': 0,\n",
            " 'warm_start': False}\n"
          ],
          "name": "stdout"
        }
      ]
    },
    {
      "cell_type": "code",
      "metadata": {
        "colab": {
          "base_uri": "https://localhost:8080/"
        },
        "id": "bp0adBO96g_V",
        "outputId": "65bec301-2b8b-403f-8365-9e9dfd685246"
      },
      "source": [
        "from sklearn.model_selection import RandomizedSearchCV\r\n",
        "import numpy as np\r\n",
        "oob_score=[True]\r\n",
        "n_estimators = [int(x) for x in np.linspace(start = 50, stop = 1000, num = 10)]\r\n",
        "max_features = ['auto', 'sqrt', 'log2', 0.9, 0.2]\r\n",
        "max_depth = [int(x) for x in np.linspace(10, 110, num = 11)]\r\n",
        "max_depth.append(None)\r\n",
        "min_samples_split = [2, 5, 10]\r\n",
        "min_samples_leaf = [1, 2, 3, 4, 5]\r\n",
        "bootstrap = [True, False]\r\n",
        "warm_start = [True, False]\r\n",
        "# Create the random grid\r\n",
        "random_grid = {'n_estimators': n_estimators,\r\n",
        "               'max_features': max_features,\r\n",
        "               'max_depth': max_depth,\r\n",
        "               'min_samples_split': min_samples_split,\r\n",
        "               'min_samples_leaf': min_samples_leaf,\r\n",
        "               'bootstrap': bootstrap,\r\n",
        "               'warm_start': warm_start,\r\n",
        "               'oob_score': oob_score}\r\n",
        "pprint(random_grid)"
      ],
      "execution_count": null,
      "outputs": [
        {
          "output_type": "stream",
          "text": [
            "{'bootstrap': [True, False],\n",
            " 'max_depth': [10, 20, 30, 40, 50, 60, 70, 80, 90, 100, 110, None],\n",
            " 'max_features': ['auto', 'sqrt', 'log2', 0.9, 0.2],\n",
            " 'min_samples_leaf': [1, 2, 3, 4, 5],\n",
            " 'min_samples_split': [2, 5, 10],\n",
            " 'n_estimators': [50, 155, 261, 366, 472, 577, 683, 788, 894, 1000],\n",
            " 'oob_score': [True],\n",
            " 'warm_start': [True, False]}\n"
          ],
          "name": "stdout"
        }
      ]
    },
    {
      "cell_type": "code",
      "metadata": {
        "colab": {
          "base_uri": "https://localhost:8080/"
        },
        "id": "YEixiASe6t4P",
        "outputId": "dce183f2-0259-4048-d966-9556c44b9a4c"
      },
      "source": [
        "# Use the random grid to search for best hyperparameters\r\n",
        "# First create the base model to tune\r\n",
        "hyperparametermodel = RandomForestClassifier()\r\n",
        "# Random search of parameters, using 3 fold cross validation, \r\n",
        "# search across 100 different combinations, and use all available cores\r\n",
        "rf_random = RandomizedSearchCV(estimator = hyperparametermodel, param_distributions = random_grid, n_iter = 100, cv = 3, verbose=2, random_state=42, n_jobs = -1)\r\n",
        "# Fit the random search model\r\n",
        "rf_random.fit(X_train, y_train)"
      ],
      "execution_count": null,
      "outputs": [
        {
          "output_type": "stream",
          "text": [
            "Fitting 3 folds for each of 100 candidates, totalling 300 fits\n"
          ],
          "name": "stdout"
        },
        {
          "output_type": "stream",
          "text": [
            "[Parallel(n_jobs=-1)]: Using backend LokyBackend with 2 concurrent workers.\n",
            "[Parallel(n_jobs=-1)]: Done  37 tasks      | elapsed:   30.6s\n",
            "[Parallel(n_jobs=-1)]: Done 158 tasks      | elapsed:  2.0min\n",
            "[Parallel(n_jobs=-1)]: Done 300 out of 300 | elapsed:  3.5min finished\n"
          ],
          "name": "stderr"
        },
        {
          "output_type": "execute_result",
          "data": {
            "text/plain": [
              "RandomizedSearchCV(cv=3, error_score=nan,\n",
              "                   estimator=RandomForestClassifier(bootstrap=True,\n",
              "                                                    ccp_alpha=0.0,\n",
              "                                                    class_weight=None,\n",
              "                                                    criterion='gini',\n",
              "                                                    max_depth=None,\n",
              "                                                    max_features='auto',\n",
              "                                                    max_leaf_nodes=None,\n",
              "                                                    max_samples=None,\n",
              "                                                    min_impurity_decrease=0.0,\n",
              "                                                    min_impurity_split=None,\n",
              "                                                    min_samples_leaf=1,\n",
              "                                                    min_samples_split=2,\n",
              "                                                    min_weight_fraction_leaf=0.0,\n",
              "                                                    n_estimators=100,\n",
              "                                                    n_jobs...\n",
              "                                        'max_depth': [10, 20, 30, 40, 50, 60,\n",
              "                                                      70, 80, 90, 100, 110,\n",
              "                                                      None],\n",
              "                                        'max_features': ['auto', 'sqrt', 'log2',\n",
              "                                                         0.9, 0.2],\n",
              "                                        'min_samples_leaf': [1, 2, 3, 4, 5],\n",
              "                                        'min_samples_split': [2, 5, 10],\n",
              "                                        'n_estimators': [50, 155, 261, 366, 472,\n",
              "                                                         577, 683, 788, 894,\n",
              "                                                         1000],\n",
              "                                        'oob_score': [True],\n",
              "                                        'warm_start': [True, False]},\n",
              "                   pre_dispatch='2*n_jobs', random_state=42, refit=True,\n",
              "                   return_train_score=False, scoring=None, verbose=2)"
            ]
          },
          "metadata": {
            "tags": []
          },
          "execution_count": 56
        }
      ]
    },
    {
      "cell_type": "code",
      "metadata": {
        "colab": {
          "base_uri": "https://localhost:8080/"
        },
        "id": "nJ2VADSH7kU1",
        "outputId": "9653904a-eb96-4ba6-e48a-fdb8da692041"
      },
      "source": [
        "rf_random.best_params_"
      ],
      "execution_count": null,
      "outputs": [
        {
          "output_type": "execute_result",
          "data": {
            "text/plain": [
              "{'bootstrap': True,\n",
              " 'max_depth': None,\n",
              " 'max_features': 0.9,\n",
              " 'min_samples_leaf': 3,\n",
              " 'min_samples_split': 10,\n",
              " 'n_estimators': 472,\n",
              " 'oob_score': True,\n",
              " 'warm_start': True}"
            ]
          },
          "metadata": {
            "tags": []
          },
          "execution_count": 57
        }
      ]
    },
    {
      "cell_type": "code",
      "metadata": {
        "id": "54vuOwGV7q0k"
      },
      "source": [
        "def evaluate(model, test_features, test_labels):\r\n",
        "    predictions = model.predict(test_features)\r\n",
        "    errors = abs(predictions - test_labels)\r\n",
        "    mape = 100 * np.mean(errors / test_labels)\r\n",
        "    accuracy = 100 - mape\r\n",
        "    print('Model Performance')\r\n",
        "    print('Average Error: {:0.4f} degrees.'.format(np.mean(errors)))\r\n",
        "    print('Accuracy = {:0.2f}%.'.format(accuracy))\r\n",
        "    return accuracy"
      ],
      "execution_count": null,
      "outputs": []
    },
    {
      "cell_type": "code",
      "metadata": {
        "colab": {
          "base_uri": "https://localhost:8080/"
        },
        "id": "6pDJOjlx7r85",
        "outputId": "41db8855-bcc0-425e-956b-242641e25bf6"
      },
      "source": [
        "base_model = RandomForestClassifier(n_estimators = 10, random_state = 42)\r\n",
        "base_model.fit(X_train, y_train)\r\n",
        "base_accuracy = evaluate(base_model, X_test, y_test)"
      ],
      "execution_count": null,
      "outputs": [
        {
          "output_type": "stream",
          "text": [
            "Model Performance\n",
            "Average Error: 0.7449 degrees.\n",
            "Accuracy = 65.26%.\n"
          ],
          "name": "stdout"
        }
      ]
    },
    {
      "cell_type": "code",
      "metadata": {
        "colab": {
          "base_uri": "https://localhost:8080/"
        },
        "id": "xnafJEYp7wwQ",
        "outputId": "21f1313d-9226-4f14-f6db-9edf9d1ded3c"
      },
      "source": [
        "best_random = rf_random.best_estimator_\r\n",
        "random_accuracy = evaluate(best_random, X_test, y_test)"
      ],
      "execution_count": null,
      "outputs": [
        {
          "output_type": "stream",
          "text": [
            "Model Performance\n",
            "Average Error: 0.5612 degrees.\n",
            "Accuracy = 71.48%.\n"
          ],
          "name": "stdout"
        }
      ]
    },
    {
      "cell_type": "code",
      "metadata": {
        "colab": {
          "base_uri": "https://localhost:8080/"
        },
        "id": "LortOMCH72M7",
        "outputId": "415c29a5-3b1d-40a1-90c4-b8d9e687f362"
      },
      "source": [
        "print('Improvement of {:0.2f}%.'.format( 100 * (random_accuracy - base_accuracy) / base_accuracy))"
      ],
      "execution_count": null,
      "outputs": [
        {
          "output_type": "stream",
          "text": [
            "Improvement of 9.52%.\n"
          ],
          "name": "stdout"
        }
      ]
    },
    {
      "cell_type": "code",
      "metadata": {
        "id": "UrlSrAaW8Qqh"
      },
      "source": [
        "y_predicted = best_random.predict(X_test)"
      ],
      "execution_count": null,
      "outputs": []
    },
    {
      "cell_type": "code",
      "metadata": {
        "colab": {
          "base_uri": "https://localhost:8080/",
          "height": 458
        },
        "id": "OycRp3_U8UEg",
        "outputId": "fd5c7215-9697-4df0-896f-105683c1ef66"
      },
      "source": [
        "confusematrix = confusion_matrix(y_test, y_predicted)\r\n",
        "plt.figure(figsize=(10,7))\r\n",
        "sns.heatmap(confusematrix, annot=True)\r\n",
        "plt.xlabel('Predicted')\r\n",
        "plt.ylabel('Truth')\r\n",
        "plt.title('Heatmap of True vs Predicted Outputs of Model')\r\n",
        "plt.show()"
      ],
      "execution_count": null,
      "outputs": [
        {
          "output_type": "display_data",
          "data": {
            "image/png": "[encoded data removed]",
            "text/plain": [
              "<Figure size 720x504 with 2 Axes>"
            ]
          },
          "metadata": {
            "tags": [],
            "needs_background": "light"
          }
        }
      ]
    }
  ]
}