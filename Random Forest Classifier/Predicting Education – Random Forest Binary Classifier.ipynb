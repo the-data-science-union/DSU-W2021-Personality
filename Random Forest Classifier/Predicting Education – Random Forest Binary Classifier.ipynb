{
 "cells": [
  {
   "cell_type": "markdown",
   "id": "adult-calvin",
   "metadata": {},
   "source": [
    "# Notes"
   ]
  },
  {
   "cell_type": "markdown",
   "id": "embedded-strip",
   "metadata": {},
   "source": [
    "Dataset – \"Young People Survey\" by Miroslav Sabo: https://www.kaggle.com/miroslavsabo/young-people-survey\n",
    "\n",
    "Link to Data Science Union @UCLA's Cleaned Dataset: https://github.com/the-data-science-union/DSU-W21-Personality/blob/main/cleaned_youngpeople_data.csv"
   ]
  },
  {
   "cell_type": "markdown",
   "id": "specialized-feeding",
   "metadata": {},
   "source": [
    "# Importing Packages"
   ]
  },
  {
   "cell_type": "code",
   "execution_count": 2,
   "id": "signed-meaning",
   "metadata": {},
   "outputs": [],
   "source": [
    "# Everything we need to get started\n",
    "import numpy as np\n",
    "import pandas as pd\n",
    "from sklearn.model_selection import train_test_split\n",
    "from sklearn.ensemble import RandomForestClassifier\n",
    "\n",
    "# For feature selection\n",
    "from sklearn.feature_selection import RFE\n",
    "\n",
    "# For hyperparameter tuning\n",
    "from pprint import pprint\n",
    "from sklearn.model_selection import GridSearchCV\n",
    "\n",
    "# For model evaluation\n",
    "from sklearn.model_selection import RepeatedKFold\n",
    "from sklearn.model_selection import cross_val_score\n",
    "from sklearn.metrics import confusion_matrix\n",
    "from sklearn.metrics import plot_confusion_matrix"
   ]
  },
  {
   "cell_type": "markdown",
   "id": "white-language",
   "metadata": {},
   "source": [
    "# Useful Functions"
   ]
  },
  {
   "cell_type": "code",
   "execution_count": 3,
   "id": "impossible-arkansas",
   "metadata": {},
   "outputs": [],
   "source": [
    "# We will be using this link to access a cleaned version of the Young People Survey by Data Science Union\n",
    "csvname='https://raw.githubusercontent.com/the-data-science-union/DSU-W21-Personality/main/cleaned_youngpeople_data.csv'\n",
    "\n",
    "# Loads the entire dataset into X, y\n",
    "# y includes all six potential response variables\n",
    "# This function is no longer used...\n",
    "def load_data(csvname=csvname):\n",
    "    print('CSV File Path:', csvname)\n",
    "    df = pd.read_csv(csvname)\n",
    "    X = df.drop('Education', axis=1)\n",
    "    y = df['Education'].copy()\n",
    "    print('Dataset Loaded')\n",
    "    return X, y\n",
    "\n",
    "# Loads dataset, but y is transformed into 0s and 1s based on the target response variable\n",
    "# This is the function we currently use for our dataset and model\n",
    "def load_binary_data(csvname=csvname, response='secondary school'):\n",
    "    print('CSV File Path:', csvname)\n",
    "    df = pd.read_csv(csvname)\n",
    "    X = df.drop('Education', axis=1)\n",
    "    print('\\nPotential Response Variables:', df['Education'].unique().tolist())\n",
    "    print('\\nSelected Response Variable:', response)\n",
    "    df.loc[df['Education'] != response, 'Education'] = 0\n",
    "    df.loc[df['Education'] == response, 'Education'] = 1\n",
    "    y = df['Education'].copy()\n",
    "    y = y.astype('int')\n",
    "    return X, y, df\n",
    "\n",
    "# Loads the dataset but drops two potential responses, this was an early attempt at combatting class imbalances\n",
    "# Decided to stop using this function as class imbalance was still a major issue\n",
    "def load_drop_data(csvname=csvname):  \n",
    "    print('CSV File Path:', csvname)\n",
    "    df = pd.read_csv(csvname)\n",
    "    d_df = df[(df['Education'] != 'currently a primary school pupil') & (df['Education'] != 'doctorate degree')]\n",
    "    X = d_df.drop('Education', axis=1)\n",
    "    y = d_df['Education'].copy()\n",
    "    print('Dataset Loaded')\n",
    "    return X, y\n",
    "\n",
    "# Returns a list of the names of the categorical predictors in the dataset\n",
    "def find_categorical(X):\n",
    "    catdf = X.loc[:, ~X.columns.isin(X._get_numeric_data().columns)]\n",
    "    return catdf.columns.values.tolist()\n",
    "\n",
    "# Sets up a base-line Random Forest for on-the-go evaluation\n",
    "# Has an optional parameter to plot the model's confusion matrix or only return accuracy score\n",
    "def quick_forest(select_x, y, plot=True, score=False):\n",
    "    X_train, X_test, y_train, y_test = train_test_split(select_x, y, test_size=0.3)\n",
    "    qf = RandomForestClassifier()\n",
    "    qf.fit(X_train, y_train)\n",
    "    if score:\n",
    "        return qf.score(X_test, y_test)\n",
    "    print('Accuracy Score:', qf.score(X_test, y_test))\n",
    "    if plot:\n",
    "        plot_confusion_matrix(qf, X_test, y_test)"
   ]
  },
  {
   "cell_type": "markdown",
   "id": "imposed-gibson",
   "metadata": {},
   "source": [
    "# Loading in and Preparing our DataFrame"
   ]
  },
  {
   "cell_type": "markdown",
   "id": "opponent-brush",
   "metadata": {},
   "source": [
    "We start by loading in our data. We obtained this data from Miroslav Sabos' Young People Survey from Kaggle, but we are using a version of it that we (Data Science Union @UCLA) already cleaned. \n",
    "\n",
    "The load_binary_data function will load in our data but converts the 'Education' column in our DataFrame from a multi-class categorical variable to a binary variable in order to avoid difficulties with class imbalances. We selected our response variable to be 'secondary school' because it is the mode of the column. In case we need to investigate anything further in our dataset, we also retain a copy of the original DataFrame."
   ]
  },
  {
   "cell_type": "code",
   "execution_count": 4,
   "id": "worth-party",
   "metadata": {},
   "outputs": [
    {
     "name": "stdout",
     "output_type": "stream",
     "text": [
      "CSV File Path: https://raw.githubusercontent.com/the-data-science-union/DSU-W21-Personality/main/cleaned_youngpeople_data.csv\n",
      "\n",
      "Potential Response Variables: ['college/bachelor degree', 'secondary school', 'primary school', 'masters degree', 'doctorate degree', 'currently a primary school pupil']\n",
      "\n",
      "Selected Response Variable: secondary school\n",
      "Shape of X: (977, 149)\n",
      "Shape of y: (977,)\n",
      "\n",
      "Value Counts of Response Variable:\n",
      "1    603\n",
      "0    374\n",
      "Name: Education, dtype: int64\n"
     ]
    }
   ],
   "source": [
    "X, y, df = load_binary_data(response='secondary school')\n",
    "print('Shape of X:', X.shape)\n",
    "print('Shape of y:', y.shape)\n",
    "\n",
    "print('\\nValue Counts of Response Variable:')\n",
    "print(y.value_counts())"
   ]
  },
  {
   "cell_type": "markdown",
   "id": "maritime-audience",
   "metadata": {},
   "source": [
    "Because scikit-learn's RandomForestClassifier cannot evalute non-binary categorical nominal data, we are going to find the categorical variables in the DataFrame and convert them to binary datatypes using pandas.get_dummies()."
   ]
  },
  {
   "cell_type": "code",
   "execution_count": 5,
   "id": "precious-cradle",
   "metadata": {},
   "outputs": [
    {
     "name": "stdout",
     "output_type": "stream",
     "text": [
      "Number of Categorical Variables: 10\n",
      "\n",
      "Categoricals: ['Smoking', 'Alcohol', 'Punctuality', 'Lying', 'Internet usage', 'Gender', 'Left - right handed', 'Only child', 'Village - town', 'House - block of flats']\n"
     ]
    }
   ],
   "source": [
    "cats = find_categorical(X)\n",
    "print('Number of Categorical Variables:', len(cats))\n",
    "print('\\nCategoricals:', cats)\n",
    "\n",
    "X_enc = pd.get_dummies(X, columns=cats)"
   ]
  },
  {
   "cell_type": "markdown",
   "id": "extraordinary-marriage",
   "metadata": {},
   "source": [
    "# Baseline RandomForestClassifier"
   ]
  },
  {
   "cell_type": "markdown",
   "id": "forty-harbor",
   "metadata": {},
   "source": [
    "First, let's get a baseline score of the RandomForestClassifier's ability to predict whether a respondent's highest educational attainment is secondary school (high school) or not. It seems like our baseline model has a ~65% accuracy rate, but we have seen it get incredibly high accuracy scores on occasion by random chance."
   ]
  },
  {
   "cell_type": "code",
   "execution_count": 6,
   "id": "found-atlanta",
   "metadata": {},
   "outputs": [
    {
     "name": "stdout",
     "output_type": "stream",
     "text": [
      "Accuracy Score: 0.6870748299319728\n"
     ]
    },
    {
     "data": {
      "image/png": "[encoded data removed]",
      "text/plain": [
       "<Figure size 432x288 with 2 Axes>"
      ]
     },
     "metadata": {
      "needs_background": "light"
     },
     "output_type": "display_data"
    }
   ],
   "source": [
    "quick_forest(X_enc, y, plot=True)"
   ]
  },
  {
   "cell_type": "markdown",
   "id": "destroyed-hearing",
   "metadata": {},
   "source": [
    "# Feature Selection with SelectKBest"
   ]
  },
  {
   "cell_type": "code",
   "execution_count": 74,
   "id": "material-nightmare",
   "metadata": {},
   "outputs": [],
   "source": [
    "from sklearn.feature_selection import SelectKBest\n",
    "from sklearn.feature_selection import chi2\n",
    "\n",
    "# use chi-squared statistical test to select 20 of the best features\n",
    "bestfeatures = SelectKBest(score_func=chi2, k=20)\n",
    "fit = bestfeatures.fit(X_enc, y)\n",
    "dfscores = pd.DataFrame(fit.scores_)\n",
    "dfcolumns = pd.DataFrame(X_enc.columns)\n",
    "\n",
    "# Prepare df for easy-reading\n",
    "featureScores = pd.concat([dfcolumns,dfscores],axis=1)\n",
    "featureScores.columns = ['Specs','Score']"
   ]
  },
  {
   "cell_type": "code",
   "execution_count": 77,
   "id": "sized-quest",
   "metadata": {},
   "outputs": [
    {
     "name": "stdout",
     "output_type": "stream",
     "text": [
      "\n",
      "# of Features: 12\n",
      "Mean Accuracy: 0.6836734693877553\n",
      "Std: 0.021814718947592\n",
      "\n",
      "# of Features: 13\n",
      "Mean Accuracy: 0.683106575963719\n",
      "Std: 0.02048517844136837\n",
      "\n",
      "# of Features: 14\n",
      "Mean Accuracy: 0.6853741496598639\n",
      "Std: 0.016703647251123516\n",
      "\n",
      "# of Features: 15\n",
      "Mean Accuracy: 0.6886621315192742\n",
      "Std: 0.025251650181094768\n",
      "\n",
      "# of Features: 16\n",
      "Mean Accuracy: 0.6954648526077098\n",
      "Std: 0.027107703087926403\n",
      "\n",
      "# of Features: 17\n",
      "Mean Accuracy: 0.7009070294784581\n",
      "Std: 0.021884142161351112\n",
      "\n",
      "# of Features: 18\n",
      "Mean Accuracy: 0.698299319727891\n",
      "Std: 0.020392094959292215\n",
      "\n",
      "# of Features: 19\n",
      "Mean Accuracy: 0.7018140589569162\n",
      "Std: 0.025260811685503183\n",
      "\n",
      "# of Features: 20\n",
      "Mean Accuracy: 0.7024943310657596\n",
      "Std: 0.022727831316690865\n"
     ]
    }
   ],
   "source": [
    "trials = 30\n",
    "chi_scores = dict()\n",
    "\n",
    "# Select how many k-best to incorporate in the training set\n",
    "for k in range(12, 21):\n",
    "    best_k = featureScores.nlargest(k,'Score')\n",
    "    X_chi_select = X_enc.loc[:, best_k['Specs'].values]\n",
    "    chi_select_scores = [quick_forest(X_chi_select, y, score=True) for i in range(trials)]\n",
    "    print('\\n# of Features:', k)\n",
    "    print('Mean Accuracy:', np.mean(chi_select_scores))\n",
    "    print('Std:', np.std(chi_select_scores))\n",
    "    chi_scores[np.mean(chi_select_scores)] = best_k['Specs'].values.tolist()"
   ]
  },
  {
   "cell_type": "code",
   "execution_count": 78,
   "id": "inner-medline",
   "metadata": {},
   "outputs": [
    {
     "name": "stdout",
     "output_type": "stream",
     "text": [
      "Mean Score of 30 Trials for 20 Selected Features: 0.7024943310657596\n",
      "\n",
      "['Age', 'Charity', 'Number of siblings', 'Biology', 'Cheating in school', 'Adrenaline sports', 'Storm', 'Hypochondria', 'Active sport', 'Passive sport', 'Folk', 'Workaholism', 'Art exhibitions', 'Alcohol_never', 'Alternative', 'Rats', 'Internet usage_most of the day', 'Western', 'Geography', 'Elections']\n"
     ]
    }
   ],
   "source": [
    "best_chi_score = np.max(list(chi_scores.keys()))\n",
    "best_chi_feats = chi_scores[best_chi_score]\n",
    "print('Mean Score of {} Trials for {} Selected Features: {}\\n'.format(trials, len(best_chi_feats), best_chi_score))\n",
    "print(best_chi_feats)"
   ]
  },
  {
   "cell_type": "markdown",
   "id": "intended-market",
   "metadata": {},
   "source": [
    "# Feature Selection with RFE"
   ]
  },
  {
   "cell_type": "markdown",
   "id": "packed-mining",
   "metadata": {},
   "source": [
    "Although Random Forests tend to produce reasonable predictions given a large volume of data, we will try Recursive Feature Elimination to hone our accuracy before moving on to hyperparameter tuning."
   ]
  },
  {
   "cell_type": "code",
   "execution_count": 47,
   "id": "cleared-porter",
   "metadata": {},
   "outputs": [
    {
     "name": "stdout",
     "output_type": "stream",
     "text": [
      "\n",
      "# of Features: 12\n",
      "['Dance', 'Pop', 'History', 'Biology', 'Art exhibitions', 'Adrenaline sports', 'Workaholism', 'New environment', 'Entertainment spending', 'Age', 'Height', 'Weight']\n",
      "\n",
      "# of Features: 13\n",
      "['Sci-fi', 'War', 'History', 'Biology', 'Art exhibitions', 'Passive sport', 'Adrenaline sports', 'Writing notes', 'Cheating in school', 'Changing the past', 'Age', 'Height', 'Weight']\n",
      "\n",
      "# of Features: 14\n",
      "['Alternative', 'Sci-fi', 'History', 'Biology', 'Art exhibitions', 'Adrenaline sports', 'Workaholism', 'Cheating in school', 'New environment', 'Small - big dogs', 'Shopping centres', 'Age', 'Height', 'Weight']\n",
      "\n",
      "# of Features: 15\n",
      "['Reggae, Ska', 'Rock n roll', 'Alternative', 'War', 'History', 'Biology', 'Art exhibitions', 'Passive sport', 'Adrenaline sports', 'Workaholism', 'New environment', 'Entertainment spending', 'Age', 'Height', 'Weight']\n",
      "\n",
      "# of Features: 16\n",
      "['Dance', 'Classical music', 'Rock n roll', 'History', 'Biology', 'Art exhibitions', 'Adrenaline sports', 'Prioritising workload', 'Workaholism', 'Elections', 'Changing the past', 'New environment', 'Entertainment spending', 'Age', 'Height', 'Weight']\n",
      "\n",
      "# of Features: 17\n",
      "['Pop', 'Reggae, Ska', 'Rock n roll', 'History', 'Biology', 'Geography', 'Art exhibitions', 'Adrenaline sports', 'Prioritising workload', 'Workaholism', 'Cheating in school', 'Changing the past', 'New environment', 'Entertainment spending', 'Age', 'Height', 'Weight']\n",
      "\n",
      "# of Features: 18\n",
      "['Pop', 'Punk', 'Reggae, Ska', 'War', 'History', 'Passive sport', 'Adrenaline sports', 'Snakes', 'Prioritising workload', 'Workaholism', 'Elections', 'Cheating in school', 'Charity', 'New environment', 'Entertainment spending', 'Age', 'Height', 'Weight']\n"
     ]
    }
   ],
   "source": [
    "feature_groups = list()\n",
    "rf = RandomForestClassifier()\n",
    "for i in range(12, 19):\n",
    "    selector = RFE(rf, n_features_to_select=i, step=1)\n",
    "    selector.fit(X_enc, y)\n",
    "    X_RFE = X_enc.loc[:, selector.support_]\n",
    "    print('\\n# of Features:', i)\n",
    "    feats = X_RFE.columns.values.tolist()\n",
    "    print(feats)\n",
    "    feature_groups.append(feats)"
   ]
  },
  {
   "cell_type": "code",
   "execution_count": 49,
   "id": "practical-staff",
   "metadata": {},
   "outputs": [
    {
     "name": "stdout",
     "output_type": "stream",
     "text": [
      "Number of Trials: 10\n",
      "Baseline Mean Accuracy: 0.677891156462585\n",
      "Baseline Std: 0.022306806030026667\n",
      "–––––––––––––––––––––––––\n",
      "\n",
      "Number of Features: 12\n",
      "Mean Accuracy: 0.6826530612244899\n",
      "Std: 0.02699960492852534\n",
      "\n",
      "Number of Features: 13\n",
      "Mean Accuracy: 0.6819727891156463\n",
      "Std: 0.01611613298024782\n",
      "\n",
      "Number of Features: 14\n",
      "Mean Accuracy: 0.6887755102040816\n",
      "Std: 0.022161110379948196\n",
      "\n",
      "Number of Features: 15\n",
      "Mean Accuracy: 0.6962585034013606\n",
      "Std: 0.013265306122448995\n",
      "\n",
      "Number of Features: 16\n",
      "Mean Accuracy: 0.6894557823129253\n",
      "Std: 0.03294406890004154\n",
      "\n",
      "Number of Features: 17\n",
      "Mean Accuracy: 0.6877551020408162\n",
      "Std: 0.016155567465357727\n",
      "\n",
      "Number of Features: 18\n",
      "Mean Accuracy: 0.6969387755102041\n",
      "Std: 0.02735717478584748\n"
     ]
    }
   ],
   "source": [
    "trials = 10\n",
    "rfe_scores = dict()\n",
    "\n",
    "print('Number of Trials:', trials)\n",
    "\n",
    "base_scores = [quick_forest(X_enc, y, score=True) for i in range(trials)]\n",
    "# print((\"\\nBaseline Accuracy: [\"+', '.join(['%.3f']*trials)+\"]\") % tuple(base_scores))\n",
    "print('Baseline Mean Accuracy:', np.mean(base_scores))\n",
    "print('Baseline Std:', np.std(base_scores))\n",
    "print('–'*25)\n",
    "\n",
    "for cols in feature_groups:\n",
    "    test_rfe = X_enc.loc[:, cols]\n",
    "    test_scores = [quick_forest(test_rfe, y, score=True) for i in range(trials)]\n",
    "    print('\\nNumber of Features:', len(cols))\n",
    "#     print((\"Accuracy Scores: [\"+', '.join(['%.3f']*trials)+\"]\") % tuple(test_scores))\n",
    "    print('Mean Accuracy:', np.mean(test_scores))\n",
    "    print('Std:', np.std(test_scores))\n",
    "    rfe_scores[np.mean(test_scores)] = cols"
   ]
  },
  {
   "cell_type": "code",
   "execution_count": 35,
   "id": "center-school",
   "metadata": {},
   "outputs": [
    {
     "name": "stdout",
     "output_type": "stream",
     "text": [
      "Mean Score of 10 Trials for 13 Selected Features: 0.7071428571428571\n",
      "\n",
      "['Classical music', 'Alternative', 'War', 'History', 'Art exhibitions', 'Passive sport', 'Adrenaline sports', 'Cheating in school', 'Changing the past', 'New environment', 'Age', 'Height', 'Weight']\n"
     ]
    }
   ],
   "source": [
    "best_rfe_score = np.max(list(rfe_scores.keys()))\n",
    "best_rfe_feats = rfe_scores[np.max(list(rfe_scores.keys()))]\n",
    "print('Mean Score of {} Trials for {} Selected Features: {}\\n'.format(trials, len(best_rfe_feats), best_rfe_score))\n",
    "print(best_rfe_feats)"
   ]
  },
  {
   "cell_type": "markdown",
   "id": "creative-machinery",
   "metadata": {},
   "source": [
    "# Hyperparameter Tuning"
   ]
  },
  {
   "cell_type": "markdown",
   "id": "decimal-button",
   "metadata": {},
   "source": [
    "We will be using GridSearchCV to tune our hyperparameters, comparing the best parameters of the search with our baseline model score from before."
   ]
  },
  {
   "cell_type": "code",
   "execution_count": 98,
   "id": "ongoing-excerpt",
   "metadata": {},
   "outputs": [
    {
     "name": "stdout",
     "output_type": "stream",
     "text": [
      "{'criterion': ['gini', 'entropy'],\n",
      " 'max_depth': [3, 4, 5, 6, None],\n",
      " 'min_samples_leaf': [1, 2, 3, 4],\n",
      " 'min_samples_split': [2, 3, 4],\n",
      " 'n_estimators': [100, 150, 200, 250]}\n"
     ]
    }
   ],
   "source": [
    "# Number of trees in random forest\n",
    "n_estimators = [int(x) for x in np.arange(100, 251, 50)]\n",
    "# Criterion for scoring\n",
    "criterion = ['gini', 'entropy']\n",
    "# Maximum number of levels in tree\n",
    "max_depth = [int(x) for x in np.arange(3, 7, 1)]\n",
    "max_depth.append(None)\n",
    "# Minimum number of samples required to split a node\n",
    "min_samples_split = [int(x) for x in np.arange(2, 5, 1)]\n",
    "# Minimum number of samples required at each leaf node\n",
    "min_samples_leaf = [1, 2, 3, 4]\n",
    "# Method of selecting samples for training each tree\n",
    "# bootstrap = [True, False]\n",
    "# Create the random grid\n",
    "par_grid = {'n_estimators': n_estimators,\n",
    "               'max_depth': max_depth,\n",
    "               'min_samples_split': min_samples_split,\n",
    "               'min_samples_leaf': min_samples_leaf,\n",
    "#                'bootstrap': bootstrap,\n",
    "               'criterion': criterion}\n",
    "pprint(par_grid)"
   ]
  },
  {
   "cell_type": "markdown",
   "id": "hazardous-gauge",
   "metadata": {},
   "source": [
    "I've decided to use GridSearchCV on the 20 best features selected by the Chi-Squared test."
   ]
  },
  {
   "cell_type": "code",
   "execution_count": 99,
   "id": "derived-accuracy",
   "metadata": {},
   "outputs": [],
   "source": [
    "selected_X = X_enc.loc[:, best_chi_feats]\n",
    "# selected_X = X_enc.loc[:, best_rfe_feats]\n",
    "X_train, X_test, y_train, y_test = train_test_split(selected_X, y, test_size=0.3)\n",
    "rf = RandomForestClassifier()\n",
    "# Instantiate the grid search model\n",
    "grid_search = GridSearchCV(estimator = rf, param_grid = par_grid, \n",
    "                          cv = 5, n_jobs = -1, verbose = 2)"
   ]
  },
  {
   "cell_type": "code",
   "execution_count": 100,
   "id": "peripheral-spokesman",
   "metadata": {},
   "outputs": [
    {
     "name": "stdout",
     "output_type": "stream",
     "text": [
      "Fitting 5 folds for each of 480 candidates, totalling 2400 fits\n"
     ]
    },
    {
     "name": "stderr",
     "output_type": "stream",
     "text": [
      "[Parallel(n_jobs=-1)]: Using backend LokyBackend with 8 concurrent workers.\n",
      "[Parallel(n_jobs=-1)]: Done  25 tasks      | elapsed:    2.6s\n",
      "[Parallel(n_jobs=-1)]: Done 146 tasks      | elapsed:    8.7s\n",
      "[Parallel(n_jobs=-1)]: Done 349 tasks      | elapsed:   20.1s\n",
      "[Parallel(n_jobs=-1)]: Done 632 tasks      | elapsed:   36.4s\n",
      "[Parallel(n_jobs=-1)]: Done 997 tasks      | elapsed:   58.5s\n",
      "[Parallel(n_jobs=-1)]: Done 1442 tasks      | elapsed:  1.4min\n",
      "[Parallel(n_jobs=-1)]: Done 1969 tasks      | elapsed:  2.1min\n",
      "[Parallel(n_jobs=-1)]: Done 2400 out of 2400 | elapsed:  2.5min finished\n"
     ]
    },
    {
     "data": {
      "text/plain": [
       "GridSearchCV(cv=5, estimator=RandomForestClassifier(), n_jobs=-1,\n",
       "             param_grid={'criterion': ['gini', 'entropy'],\n",
       "                         'max_depth': [3, 4, 5, 6, None],\n",
       "                         'min_samples_leaf': [1, 2, 3, 4],\n",
       "                         'min_samples_split': [2, 3, 4],\n",
       "                         'n_estimators': [100, 150, 200, 250]},\n",
       "             verbose=2)"
      ]
     },
     "execution_count": 100,
     "metadata": {},
     "output_type": "execute_result"
    }
   ],
   "source": [
    "# Fit the Model...\n",
    "grid_search.fit(X_train, y_train)"
   ]
  },
  {
   "cell_type": "code",
   "execution_count": 101,
   "id": "optional-contributor",
   "metadata": {},
   "outputs": [
    {
     "data": {
      "text/plain": [
       "{'criterion': 'entropy',\n",
       " 'max_depth': None,\n",
       " 'min_samples_leaf': 2,\n",
       " 'min_samples_split': 4,\n",
       " 'n_estimators': 100}"
      ]
     },
     "execution_count": 101,
     "metadata": {},
     "output_type": "execute_result"
    }
   ],
   "source": [
    "# Let's look at our best parameters...\n",
    "grid_search.best_params_"
   ]
  },
  {
   "cell_type": "code",
   "execution_count": 139,
   "id": "interpreted-cargo",
   "metadata": {},
   "outputs": [
    {
     "name": "stdout",
     "output_type": "stream",
     "text": [
      "Mean Accuracy: 0.7010884353741497\n",
      "Std: 0.024590119528682904\n",
      "Highest: 0.7551020408163265\n"
     ]
    }
   ],
   "source": [
    "totsc = list()\n",
    "for i in range(50):\n",
    "    best_grid = grid_search.best_estimator_\n",
    "    X_train, X_test, y_train, y_test = train_test_split(selected_X, y, test_size=0.3)\n",
    "    best_grid.fit(X_train, y_train)\n",
    "    totsc.append(best_grid.score(X_test, y_test))\n",
    "print('Mean Accuracy:', np.mean(totsc))\n",
    "print('Std:', np.std(totsc))\n",
    "print('Highest:', np.max(totsc))"
   ]
  },
  {
   "cell_type": "code",
   "execution_count": 114,
   "id": "color-registrar",
   "metadata": {},
   "outputs": [
    {
     "name": "stdout",
     "output_type": "stream",
     "text": [
      "Mean Accuracy: 0.6633333333333333\n",
      "Std: 0.02567511323593163\n",
      "Highest: 0.7380952380952381\n"
     ]
    }
   ],
   "source": [
    "base_sc = list()\n",
    "base_rf = RandomForestClassifier()\n",
    "for i in range(50):\n",
    "    X_train, X_test, y_train, y_test = train_test_split(X_enc, y, test_size=0.3)\n",
    "    base_rf.fit(X_train, y_train)\n",
    "    base_sc.append(base_rf.score(X_test, y_test))\n",
    "print('Mean Accuracy:', np.mean(base_sc))\n",
    "print('Std:', np.std(base_sc))\n",
    "print('Highest:', np.max(base_sc))"
   ]
  },
  {
   "cell_type": "code",
   "execution_count": 119,
   "id": "concerned-boxing",
   "metadata": {},
   "outputs": [
    {
     "data": {
      "text/plain": [
       "<sklearn.metrics._plot.confusion_matrix.ConfusionMatrixDisplay at 0x7f9ae9102430>"
      ]
     },
     "execution_count": 119,
     "metadata": {},
     "output_type": "execute_result"
    },
    {
     "data": {
      "image/png": "[encoded data removed]",
      "text/plain": [
       "<Figure size 432x288 with 2 Axes>"
      ]
     },
     "metadata": {
      "needs_background": "light"
     },
     "output_type": "display_data"
    }
   ],
   "source": [
    "plot_confusion_matrix(best_grid, X_test, y_test)"
   ]
  },
  {
   "cell_type": "markdown",
   "id": "arabic-convert",
   "metadata": {},
   "source": [
    "# Evaluating with RepeatedKFold Cross Validation"
   ]
  },
  {
   "cell_type": "code",
   "execution_count": 140,
   "id": "infrared-utilization",
   "metadata": {},
   "outputs": [
    {
     "name": "stdout",
     "output_type": "stream",
     "text": [
      "Base-line Random Forest\n",
      "{'bootstrap': True,\n",
      " 'ccp_alpha': 0.0,\n",
      " 'class_weight': None,\n",
      " 'criterion': 'gini',\n",
      " 'max_depth': None,\n",
      " 'max_features': 'auto',\n",
      " 'max_leaf_nodes': None,\n",
      " 'max_samples': None,\n",
      " 'min_impurity_decrease': 0.0,\n",
      " 'min_impurity_split': None,\n",
      " 'min_samples_leaf': 1,\n",
      " 'min_samples_split': 2,\n",
      " 'min_weight_fraction_leaf': 0.0,\n",
      " 'n_estimators': 100,\n",
      " 'n_jobs': None,\n",
      " 'oob_score': False,\n",
      " 'random_state': None,\n",
      " 'verbose': 0,\n",
      " 'warm_start': False}\n",
      "Accuracy: 0.663 (0.086)\n"
     ]
    }
   ],
   "source": [
    "cv = RepeatedKFold(n_splits=10, n_repeats=50)\n",
    "\n",
    "base_rf = RandomForestClassifier()\n",
    "\n",
    "# evaluate base-line model\n",
    "X_train, X_test, y_train, y_test = train_test_split(X_enc, y, test_size=0.3)\n",
    "scores = cross_val_score(base_rf, X_test, y_test, scoring='accuracy', cv=cv, n_jobs=-1)\n",
    "\n",
    "# report performance\n",
    "print('Base-line Random Forest')\n",
    "pprint(base_rf.get_params())\n",
    "print('Accuracy: %.3f (%.3f)' % (np.mean(scores), np.std(scores)))"
   ]
  },
  {
   "cell_type": "code",
   "execution_count": 141,
   "id": "liberal-verse",
   "metadata": {},
   "outputs": [
    {
     "name": "stdout",
     "output_type": "stream",
     "text": [
      "Final Random Forest\n",
      "{'criterion': 'entropy',\n",
      " 'max_depth': None,\n",
      " 'min_samples_leaf': 2,\n",
      " 'min_samples_split': 4,\n",
      " 'n_estimators': 100}\n",
      "\n",
      "Accuracy: 0.694 (0.085)\n"
     ]
    }
   ],
   "source": [
    "cv = RepeatedKFold(n_splits=10, n_repeats=50)\n",
    "\n",
    "# evaluate final model\n",
    "X_train, X_test, y_train, y_test = train_test_split(selected_X, y, test_size=0.3)\n",
    "scores = cross_val_score(best_grid, X_test, y_test, scoring='accuracy', cv=cv, n_jobs=-1)\n",
    "\n",
    "# report performance\n",
    "print('Final Random Forest')\n",
    "pprint(grid_search.best_params_)\n",
    "print('\\nAccuracy: %.3f (%.3f)' % (np.mean(scores), np.std(scores)))"
   ]
  },
  {
   "cell_type": "markdown",
   "id": "second-burns",
   "metadata": {},
   "source": [
    "# Final Results"
   ]
  },
  {
   "cell_type": "markdown",
   "id": "celtic-method",
   "metadata": {},
   "source": [
    "## Baseline Random Forest\n",
    "In 50 Trials – Mean Accuracy: 0.6633333333333333 // Std: 0.02567511323593163 // Highest: 0.7380952380952381\n",
    "\n",
    "Tenfold Cross Validation – Accuracy: 0.663 // Std: 0.086"
   ]
  },
  {
   "cell_type": "markdown",
   "id": "external-benchmark",
   "metadata": {},
   "source": [
    "## Tuned Random Forest\n",
    "In 50 Trials – Mean Accuracy: 0.7010884353741497 /// Std: 0.024590119528682904 /// Highest: 0.7551020408163265\n",
    "\n",
    "Tenfold Cross Validation – Accuracy 0.694 /// Std: 0.086"
   ]
  },
  {
   "cell_type": "code",
   "execution_count": null,
   "id": "vietnamese-globe",
   "metadata": {},
   "outputs": [],
   "source": []
  }
 ],
 "metadata": {
  "kernelspec": {
   "display_name": "Python 3",
   "language": "python",
   "name": "python3"
  },
  "language_info": {
   "codemirror_mode": {
    "name": "ipython",
    "version": 3
   },
   "file_extension": ".py",
   "mimetype": "text/x-python",
   "name": "python",
   "nbconvert_exporter": "python",
   "pygments_lexer": "ipython3",
   "version": "3.8.3"
  }
 },
 "nbformat": 4,
 "nbformat_minor": 5
}
