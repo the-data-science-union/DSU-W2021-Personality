{
  "nbformat": 4,
  "nbformat_minor": 0,
  "metadata": {
    "colab": {
      "name": "DSU_KNN.ipynb",
      "provenance": []
    },
    "kernelspec": {
      "name": "python3",
      "display_name": "Python 3"
    }
  },
  "cells": [
    {
      "cell_type": "markdown",
      "metadata": {
        "id": "RpxTW8JcOpxQ"
      },
      "source": [
        "# K-Nearest Neighbours Implementation"
      ]
    },
    {
      "cell_type": "code",
      "metadata": {
        "id": "M7Hdw6zGOcHK"
      },
      "source": [
        "import pandas as pd\r\n",
        "import numpy as np\r\n",
        "import seaborn as sns"
      ],
      "execution_count": 55,
      "outputs": []
    },
    {
      "cell_type": "code",
      "metadata": {
        "id": "I3SLdNdiO0Jb"
      },
      "source": [
        "yp = pd.read_csv('cleaned_youngpeople_data.csv')"
      ],
      "execution_count": 2,
      "outputs": []
    },
    {
      "cell_type": "code",
      "metadata": {
        "colab": {
          "base_uri": "https://localhost:8080/"
        },
        "id": "ZmSouJxDO7j6",
        "outputId": "0f3583ef-9f4e-44dc-9f02-536d7a1dcc00"
      },
      "source": [
        "list(yp.columns)"
      ],
      "execution_count": 4,
      "outputs": [
        {
          "output_type": "execute_result",
          "data": {
            "text/plain": [
              "['Music',\n",
              " 'Slow songs or fast songs',\n",
              " 'Dance',\n",
              " 'Folk',\n",
              " 'Country',\n",
              " 'Classical music',\n",
              " 'Musical',\n",
              " 'Pop',\n",
              " 'Rock',\n",
              " 'Metal or Hardrock',\n",
              " 'Punk',\n",
              " 'Hiphop, Rap',\n",
              " 'Reggae, Ska',\n",
              " 'Swing, Jazz',\n",
              " 'Rock n roll',\n",
              " 'Alternative',\n",
              " 'Latino',\n",
              " 'Techno, Trance',\n",
              " 'Opera',\n",
              " 'Movies',\n",
              " 'Horror',\n",
              " 'Thriller',\n",
              " 'Comedy',\n",
              " 'Romantic',\n",
              " 'Sci-fi',\n",
              " 'War',\n",
              " 'Fantasy/Fairy tales',\n",
              " 'Animated',\n",
              " 'Documentary',\n",
              " 'Western',\n",
              " 'Action',\n",
              " 'History',\n",
              " 'Psychology',\n",
              " 'Politics',\n",
              " 'Mathematics',\n",
              " 'Physics',\n",
              " 'Internet',\n",
              " 'PC',\n",
              " 'Economy Management',\n",
              " 'Biology',\n",
              " 'Chemistry',\n",
              " 'Reading',\n",
              " 'Geography',\n",
              " 'Foreign languages',\n",
              " 'Medicine',\n",
              " 'Law',\n",
              " 'Cars',\n",
              " 'Art exhibitions',\n",
              " 'Religion',\n",
              " 'Countryside, outdoors',\n",
              " 'Dancing',\n",
              " 'Musical instruments',\n",
              " 'Writing',\n",
              " 'Passive sport',\n",
              " 'Active sport',\n",
              " 'Gardening',\n",
              " 'Celebrities',\n",
              " 'Shopping',\n",
              " 'Science and technology',\n",
              " 'Theatre',\n",
              " 'Fun with friends',\n",
              " 'Adrenaline sports',\n",
              " 'Pets',\n",
              " 'Flying',\n",
              " 'Storm',\n",
              " 'Darkness',\n",
              " 'Heights',\n",
              " 'Spiders',\n",
              " 'Snakes',\n",
              " 'Rats',\n",
              " 'Ageing',\n",
              " 'Dangerous dogs',\n",
              " 'Fear of public speaking',\n",
              " 'Smoking',\n",
              " 'Alcohol',\n",
              " 'Healthy eating',\n",
              " 'Daily events',\n",
              " 'Prioritising workload',\n",
              " 'Writing notes',\n",
              " 'Workaholism',\n",
              " 'Thinking ahead',\n",
              " 'Final judgement',\n",
              " 'Reliability',\n",
              " 'Keeping promises',\n",
              " 'Loss of interest',\n",
              " 'Friends versus money',\n",
              " 'Funniness',\n",
              " 'Fake',\n",
              " 'Criminal damage',\n",
              " 'Decision making',\n",
              " 'Elections',\n",
              " 'Self-criticism',\n",
              " 'Judgment calls',\n",
              " 'Hypochondria',\n",
              " 'Empathy',\n",
              " 'Eating to survive',\n",
              " 'Giving',\n",
              " 'Compassion to animals',\n",
              " 'Borrowed stuff',\n",
              " 'Loneliness',\n",
              " 'Cheating in school',\n",
              " 'Health',\n",
              " 'Changing the past',\n",
              " 'God',\n",
              " 'Dreams',\n",
              " 'Charity',\n",
              " 'Number of friends',\n",
              " 'Punctuality',\n",
              " 'Lying',\n",
              " 'Waiting',\n",
              " 'New environment',\n",
              " 'Mood swings',\n",
              " 'Appearence and gestures',\n",
              " 'Socializing',\n",
              " 'Achievements',\n",
              " 'Responding to a serious letter',\n",
              " 'Children',\n",
              " 'Assertiveness',\n",
              " 'Getting angry',\n",
              " 'Knowing the right people',\n",
              " 'Public speaking',\n",
              " 'Unpopularity',\n",
              " 'Life struggles',\n",
              " 'Happiness in life',\n",
              " 'Energy levels',\n",
              " 'Small - big dogs',\n",
              " 'Personality',\n",
              " 'Finding lost valuables',\n",
              " 'Getting up',\n",
              " 'Interests or hobbies',\n",
              " \"Parents' advice\",\n",
              " 'Questionnaires or polls',\n",
              " 'Internet usage',\n",
              " 'Finances',\n",
              " 'Shopping centres',\n",
              " 'Branded clothing',\n",
              " 'Entertainment spending',\n",
              " 'Spending on looks',\n",
              " 'Spending on gadgets',\n",
              " 'Spending on healthy eating',\n",
              " 'Age',\n",
              " 'Height',\n",
              " 'Weight',\n",
              " 'Number of siblings',\n",
              " 'Gender',\n",
              " 'Left - right handed',\n",
              " 'Education',\n",
              " 'Only child',\n",
              " 'Village - town',\n",
              " 'House - block of flats']"
            ]
          },
          "metadata": {
            "tags": []
          },
          "execution_count": 4
        }
      ]
    },
    {
      "cell_type": "code",
      "metadata": {
        "colab": {
          "base_uri": "https://localhost:8080/",
          "height": 415
        },
        "id": "nrW36TIUPIeW",
        "outputId": "b1f239c0-8a37-4592-b0da-2b6065386959"
      },
      "source": [
        "# We want to see if a person's phobias can predict whether they are a only child or not\r\n",
        "phobias = yp[[\r\n",
        "    'Flying',\r\n",
        "    'Storm',\r\n",
        "    'Darkness',\r\n",
        "    'Heights',\r\n",
        "    'Spiders',\r\n",
        "    'Snakes',\r\n",
        "    'Rats',\r\n",
        "    'Ageing',\r\n",
        "    'Dangerous dogs',\r\n",
        "    'Fear of public speaking'\r\n",
        "]]\r\n",
        "\r\n",
        "yp = yp.replace(['no','yes'],[0,1])\r\n",
        "only_child = yp['Only child']\r\n",
        "\r\n",
        "# luckily, since all predictor variables have a range of 1-5, we don't need to scale (but this is v imp for KNN)"
      ],
      "execution_count": 6,
      "outputs": [
        {
          "output_type": "execute_result",
          "data": {
            "text/html": [
              "<div>\n",
              "<style scoped>\n",
              "    .dataframe tbody tr th:only-of-type {\n",
              "        vertical-align: middle;\n",
              "    }\n",
              "\n",
              "    .dataframe tbody tr th {\n",
              "        vertical-align: top;\n",
              "    }\n",
              "\n",
              "    .dataframe thead th {\n",
              "        text-align: right;\n",
              "    }\n",
              "</style>\n",
              "<table border=\"1\" class=\"dataframe\">\n",
              "  <thead>\n",
              "    <tr style=\"text-align: right;\">\n",
              "      <th></th>\n",
              "      <th>Flying</th>\n",
              "      <th>Storm</th>\n",
              "      <th>Darkness</th>\n",
              "      <th>Heights</th>\n",
              "      <th>Spiders</th>\n",
              "      <th>Snakes</th>\n",
              "      <th>Rats</th>\n",
              "      <th>Ageing</th>\n",
              "      <th>Dangerous dogs</th>\n",
              "      <th>Fear of public speaking</th>\n",
              "    </tr>\n",
              "  </thead>\n",
              "  <tbody>\n",
              "    <tr>\n",
              "      <th>0</th>\n",
              "      <td>1</td>\n",
              "      <td>1</td>\n",
              "      <td>1</td>\n",
              "      <td>1</td>\n",
              "      <td>1</td>\n",
              "      <td>5</td>\n",
              "      <td>3</td>\n",
              "      <td>1</td>\n",
              "      <td>3</td>\n",
              "      <td>2</td>\n",
              "    </tr>\n",
              "    <tr>\n",
              "      <th>1</th>\n",
              "      <td>1</td>\n",
              "      <td>1</td>\n",
              "      <td>1</td>\n",
              "      <td>2</td>\n",
              "      <td>1</td>\n",
              "      <td>1</td>\n",
              "      <td>1</td>\n",
              "      <td>3</td>\n",
              "      <td>1</td>\n",
              "      <td>4</td>\n",
              "    </tr>\n",
              "    <tr>\n",
              "      <th>2</th>\n",
              "      <td>1</td>\n",
              "      <td>1</td>\n",
              "      <td>1</td>\n",
              "      <td>1</td>\n",
              "      <td>1</td>\n",
              "      <td>1</td>\n",
              "      <td>1</td>\n",
              "      <td>1</td>\n",
              "      <td>1</td>\n",
              "      <td>2</td>\n",
              "    </tr>\n",
              "    <tr>\n",
              "      <th>3</th>\n",
              "      <td>2</td>\n",
              "      <td>1</td>\n",
              "      <td>1</td>\n",
              "      <td>3</td>\n",
              "      <td>5</td>\n",
              "      <td>5</td>\n",
              "      <td>5</td>\n",
              "      <td>4</td>\n",
              "      <td>5</td>\n",
              "      <td>5</td>\n",
              "    </tr>\n",
              "    <tr>\n",
              "      <th>4</th>\n",
              "      <td>1</td>\n",
              "      <td>2</td>\n",
              "      <td>1</td>\n",
              "      <td>1</td>\n",
              "      <td>1</td>\n",
              "      <td>1</td>\n",
              "      <td>2</td>\n",
              "      <td>2</td>\n",
              "      <td>4</td>\n",
              "      <td>3</td>\n",
              "    </tr>\n",
              "    <tr>\n",
              "      <th>...</th>\n",
              "      <td>...</td>\n",
              "      <td>...</td>\n",
              "      <td>...</td>\n",
              "      <td>...</td>\n",
              "      <td>...</td>\n",
              "      <td>...</td>\n",
              "      <td>...</td>\n",
              "      <td>...</td>\n",
              "      <td>...</td>\n",
              "      <td>...</td>\n",
              "    </tr>\n",
              "    <tr>\n",
              "      <th>972</th>\n",
              "      <td>1</td>\n",
              "      <td>2</td>\n",
              "      <td>4</td>\n",
              "      <td>5</td>\n",
              "      <td>2</td>\n",
              "      <td>2</td>\n",
              "      <td>2</td>\n",
              "      <td>3</td>\n",
              "      <td>3</td>\n",
              "      <td>4</td>\n",
              "    </tr>\n",
              "    <tr>\n",
              "      <th>973</th>\n",
              "      <td>1</td>\n",
              "      <td>1</td>\n",
              "      <td>1</td>\n",
              "      <td>1</td>\n",
              "      <td>1</td>\n",
              "      <td>1</td>\n",
              "      <td>1</td>\n",
              "      <td>2</td>\n",
              "      <td>5</td>\n",
              "      <td>5</td>\n",
              "    </tr>\n",
              "    <tr>\n",
              "      <th>974</th>\n",
              "      <td>2</td>\n",
              "      <td>1</td>\n",
              "      <td>3</td>\n",
              "      <td>2</td>\n",
              "      <td>2</td>\n",
              "      <td>2</td>\n",
              "      <td>1</td>\n",
              "      <td>1</td>\n",
              "      <td>1</td>\n",
              "      <td>5</td>\n",
              "    </tr>\n",
              "    <tr>\n",
              "      <th>975</th>\n",
              "      <td>2</td>\n",
              "      <td>3</td>\n",
              "      <td>2</td>\n",
              "      <td>5</td>\n",
              "      <td>3</td>\n",
              "      <td>3</td>\n",
              "      <td>3</td>\n",
              "      <td>3</td>\n",
              "      <td>5</td>\n",
              "      <td>5</td>\n",
              "    </tr>\n",
              "    <tr>\n",
              "      <th>976</th>\n",
              "      <td>2</td>\n",
              "      <td>1</td>\n",
              "      <td>2</td>\n",
              "      <td>5</td>\n",
              "      <td>1</td>\n",
              "      <td>4</td>\n",
              "      <td>2</td>\n",
              "      <td>2</td>\n",
              "      <td>3</td>\n",
              "      <td>2</td>\n",
              "    </tr>\n",
              "  </tbody>\n",
              "</table>\n",
              "<p>977 rows × 10 columns</p>\n",
              "</div>"
            ],
            "text/plain": [
              "     Flying  Storm  Darkness  ...  Ageing  Dangerous dogs  Fear of public speaking\n",
              "0         1      1         1  ...       1               3                        2\n",
              "1         1      1         1  ...       3               1                        4\n",
              "2         1      1         1  ...       1               1                        2\n",
              "3         2      1         1  ...       4               5                        5\n",
              "4         1      2         1  ...       2               4                        3\n",
              "..      ...    ...       ...  ...     ...             ...                      ...\n",
              "972       1      2         4  ...       3               3                        4\n",
              "973       1      1         1  ...       2               5                        5\n",
              "974       2      1         3  ...       1               1                        5\n",
              "975       2      3         2  ...       3               5                        5\n",
              "976       2      1         2  ...       2               3                        2\n",
              "\n",
              "[977 rows x 10 columns]"
            ]
          },
          "metadata": {
            "tags": []
          },
          "execution_count": 6
        }
      ]
    },
    {
      "cell_type": "code",
      "metadata": {
        "colab": {
          "base_uri": "https://localhost:8080/",
          "height": 554
        },
        "id": "K01qEHyxTMfw",
        "outputId": "20127859-ff47-4a32-ab22-e6644525415a"
      },
      "source": [
        "# splitting into train & test sets \r\n",
        "\r\n",
        "from sklearn.model_selection import train_test_split\r\n",
        "X_train, X_test, y_train, y_test = train_test_split(phobias, only_child, train_size = 0.8, random_state = 21)\r\n",
        "\r\n",
        "print(\"X.shape:\", phobias.shape)\r\n",
        "print(\"X_train.shape:\", X_train.shape)\r\n",
        "print(\"X_test.shape: \", X_test.shape)\r\n",
        "print(\"\")\r\n",
        "print(\"y.shape:      \", only_child.shape)\r\n",
        "print(\"y_train.shape:\", y_train.shape)\r\n",
        "print(\"y_test.shape: \", y_test.shape)\r\n",
        "print(\"\")\r\n",
        "\r\n",
        "X_train"
      ],
      "execution_count": 40,
      "outputs": [
        {
          "output_type": "stream",
          "text": [
            "X.shape: (977, 10)\n",
            "X_train.shape: (781, 10)\n",
            "X_test.shape:  (196, 10)\n",
            "\n",
            "y.shape:       (977,)\n",
            "y_train.shape: (781,)\n",
            "y_test.shape:  (196,)\n",
            "\n"
          ],
          "name": "stdout"
        },
        {
          "output_type": "execute_result",
          "data": {
            "text/html": [
              "<div>\n",
              "<style scoped>\n",
              "    .dataframe tbody tr th:only-of-type {\n",
              "        vertical-align: middle;\n",
              "    }\n",
              "\n",
              "    .dataframe tbody tr th {\n",
              "        vertical-align: top;\n",
              "    }\n",
              "\n",
              "    .dataframe thead th {\n",
              "        text-align: right;\n",
              "    }\n",
              "</style>\n",
              "<table border=\"1\" class=\"dataframe\">\n",
              "  <thead>\n",
              "    <tr style=\"text-align: right;\">\n",
              "      <th></th>\n",
              "      <th>Flying</th>\n",
              "      <th>Storm</th>\n",
              "      <th>Darkness</th>\n",
              "      <th>Heights</th>\n",
              "      <th>Spiders</th>\n",
              "      <th>Snakes</th>\n",
              "      <th>Rats</th>\n",
              "      <th>Ageing</th>\n",
              "      <th>Dangerous dogs</th>\n",
              "      <th>Fear of public speaking</th>\n",
              "    </tr>\n",
              "  </thead>\n",
              "  <tbody>\n",
              "    <tr>\n",
              "      <th>165</th>\n",
              "      <td>1</td>\n",
              "      <td>1</td>\n",
              "      <td>1</td>\n",
              "      <td>1</td>\n",
              "      <td>1</td>\n",
              "      <td>1</td>\n",
              "      <td>1</td>\n",
              "      <td>3</td>\n",
              "      <td>1</td>\n",
              "      <td>1</td>\n",
              "    </tr>\n",
              "    <tr>\n",
              "      <th>76</th>\n",
              "      <td>1</td>\n",
              "      <td>1</td>\n",
              "      <td>1</td>\n",
              "      <td>1</td>\n",
              "      <td>3</td>\n",
              "      <td>3</td>\n",
              "      <td>3</td>\n",
              "      <td>5</td>\n",
              "      <td>3</td>\n",
              "      <td>4</td>\n",
              "    </tr>\n",
              "    <tr>\n",
              "      <th>575</th>\n",
              "      <td>2</td>\n",
              "      <td>1</td>\n",
              "      <td>1</td>\n",
              "      <td>5</td>\n",
              "      <td>1</td>\n",
              "      <td>1</td>\n",
              "      <td>1</td>\n",
              "      <td>1</td>\n",
              "      <td>3</td>\n",
              "      <td>5</td>\n",
              "    </tr>\n",
              "    <tr>\n",
              "      <th>242</th>\n",
              "      <td>3</td>\n",
              "      <td>3</td>\n",
              "      <td>1</td>\n",
              "      <td>5</td>\n",
              "      <td>1</td>\n",
              "      <td>3</td>\n",
              "      <td>2</td>\n",
              "      <td>2</td>\n",
              "      <td>5</td>\n",
              "      <td>3</td>\n",
              "    </tr>\n",
              "    <tr>\n",
              "      <th>346</th>\n",
              "      <td>1</td>\n",
              "      <td>1</td>\n",
              "      <td>1</td>\n",
              "      <td>5</td>\n",
              "      <td>5</td>\n",
              "      <td>1</td>\n",
              "      <td>1</td>\n",
              "      <td>3</td>\n",
              "      <td>1</td>\n",
              "      <td>2</td>\n",
              "    </tr>\n",
              "    <tr>\n",
              "      <th>...</th>\n",
              "      <td>...</td>\n",
              "      <td>...</td>\n",
              "      <td>...</td>\n",
              "      <td>...</td>\n",
              "      <td>...</td>\n",
              "      <td>...</td>\n",
              "      <td>...</td>\n",
              "      <td>...</td>\n",
              "      <td>...</td>\n",
              "      <td>...</td>\n",
              "    </tr>\n",
              "    <tr>\n",
              "      <th>48</th>\n",
              "      <td>3</td>\n",
              "      <td>1</td>\n",
              "      <td>2</td>\n",
              "      <td>2</td>\n",
              "      <td>2</td>\n",
              "      <td>3</td>\n",
              "      <td>3</td>\n",
              "      <td>5</td>\n",
              "      <td>3</td>\n",
              "      <td>1</td>\n",
              "    </tr>\n",
              "    <tr>\n",
              "      <th>772</th>\n",
              "      <td>3</td>\n",
              "      <td>2</td>\n",
              "      <td>1</td>\n",
              "      <td>2</td>\n",
              "      <td>1</td>\n",
              "      <td>1</td>\n",
              "      <td>1</td>\n",
              "      <td>2</td>\n",
              "      <td>1</td>\n",
              "      <td>2</td>\n",
              "    </tr>\n",
              "    <tr>\n",
              "      <th>824</th>\n",
              "      <td>3</td>\n",
              "      <td>4</td>\n",
              "      <td>1</td>\n",
              "      <td>2</td>\n",
              "      <td>5</td>\n",
              "      <td>1</td>\n",
              "      <td>1</td>\n",
              "      <td>3</td>\n",
              "      <td>2</td>\n",
              "      <td>4</td>\n",
              "    </tr>\n",
              "    <tr>\n",
              "      <th>207</th>\n",
              "      <td>3</td>\n",
              "      <td>1</td>\n",
              "      <td>1</td>\n",
              "      <td>1</td>\n",
              "      <td>1</td>\n",
              "      <td>1</td>\n",
              "      <td>1</td>\n",
              "      <td>5</td>\n",
              "      <td>3</td>\n",
              "      <td>1</td>\n",
              "    </tr>\n",
              "    <tr>\n",
              "      <th>969</th>\n",
              "      <td>1</td>\n",
              "      <td>1</td>\n",
              "      <td>1</td>\n",
              "      <td>1</td>\n",
              "      <td>1</td>\n",
              "      <td>1</td>\n",
              "      <td>1</td>\n",
              "      <td>1</td>\n",
              "      <td>1</td>\n",
              "      <td>4</td>\n",
              "    </tr>\n",
              "  </tbody>\n",
              "</table>\n",
              "<p>781 rows × 10 columns</p>\n",
              "</div>"
            ],
            "text/plain": [
              "     Flying  Storm  Darkness  ...  Ageing  Dangerous dogs  Fear of public speaking\n",
              "165       1      1         1  ...       3               1                        1\n",
              "76        1      1         1  ...       5               3                        4\n",
              "575       2      1         1  ...       1               3                        5\n",
              "242       3      3         1  ...       2               5                        3\n",
              "346       1      1         1  ...       3               1                        2\n",
              "..      ...    ...       ...  ...     ...             ...                      ...\n",
              "48        3      1         2  ...       5               3                        1\n",
              "772       3      2         1  ...       2               1                        2\n",
              "824       3      4         1  ...       3               2                        4\n",
              "207       3      1         1  ...       5               3                        1\n",
              "969       1      1         1  ...       1               1                        4\n",
              "\n",
              "[781 rows x 10 columns]"
            ]
          },
          "metadata": {
            "tags": []
          },
          "execution_count": 40
        }
      ]
    },
    {
      "cell_type": "code",
      "metadata": {
        "colab": {
          "base_uri": "https://localhost:8080/"
        },
        "id": "BuDHol_aUabM",
        "outputId": "20854a17-173b-4688-c74f-375248fd702d"
      },
      "source": [
        "# Performing KNN\r\n",
        "from sklearn.neighbors import KNeighborsClassifier\r\n",
        "\r\n",
        "# k = 3\r\n",
        "knn3 = KNeighborsClassifier(n_neighbors=3)\r\n",
        "knn3.fit(X_train, y_train)\r\n",
        "\r\n",
        "# testing the accuracy of the model\r\n",
        "prediction = knn3.predict(X_test)\r\n",
        "knn3.score(X_test, y_test)"
      ],
      "execution_count": 41,
      "outputs": [
        {
          "output_type": "execute_result",
          "data": {
            "text/plain": [
              "0.6479591836734694"
            ]
          },
          "metadata": {
            "tags": []
          },
          "execution_count": 41
        }
      ]
    },
    {
      "cell_type": "code",
      "metadata": {
        "colab": {
          "base_uri": "https://localhost:8080/"
        },
        "id": "VXpjWB0yUmu7",
        "outputId": "c68f74e7-78c1-4f11-c5b9-877b3dd0d4b0"
      },
      "source": [
        "# k = 5\r\n",
        "knn5 = KNeighborsClassifier(n_neighbors=5)\r\n",
        "knn5.fit(X_train, y_train)\r\n",
        "\r\n",
        "# testing the accuracy of the model\r\n",
        "prediction = knn5.predict(X_test)\r\n",
        "knn5.score(X_test, y_test)"
      ],
      "execution_count": 42,
      "outputs": [
        {
          "output_type": "execute_result",
          "data": {
            "text/plain": [
              "0.6683673469387755"
            ]
          },
          "metadata": {
            "tags": []
          },
          "execution_count": 42
        }
      ]
    },
    {
      "cell_type": "code",
      "metadata": {
        "colab": {
          "base_uri": "https://localhost:8080/"
        },
        "id": "VIswv1ELUxYL",
        "outputId": "baedf181-2de9-42ac-fdeb-9f4c820352bf"
      },
      "source": [
        "# confusion matrices\r\n",
        "from sklearn.metrics import confusion_matrix\r\n",
        "\r\n",
        "print(\"K=3, confusion matrix:\")\r\n",
        "print(confusion_matrix(y_train, knn3.predict(X_train)))\r\n",
        "print(\"\")\r\n",
        "print(\"K=5, confusion matrix:\")\r\n",
        "print(confusion_matrix(y_train, knn5.predict(X_train)))"
      ],
      "execution_count": 43,
      "outputs": [
        {
          "output_type": "stream",
          "text": [
            "K=3, confusion matrix:\n",
            "[[548  39]\n",
            " [109  85]]\n",
            "\n",
            "K=5, confusion matrix:\n",
            "[[558  29]\n",
            " [140  54]]\n"
          ],
          "name": "stdout"
        }
      ]
    },
    {
      "cell_type": "code",
      "metadata": {
        "colab": {
          "base_uri": "https://localhost:8080/"
        },
        "id": "GmNxPZZcU_vY",
        "outputId": "88f3bd53-d1f9-4022-e09a-ed3d62f84a41"
      },
      "source": [
        "# 5-fold cross-validation to find the best k\r\n",
        "\r\n",
        "from sklearn.model_selection import cross_val_score\r\n",
        "\r\n",
        "mean_fold_errors = []\r\n",
        "\r\n",
        "# we want k < sqrt(977) - so approx less than 30\r\n",
        "for num_neighbors in range(1, 30):\r\n",
        "    np.random.seed(0)   # to ensure we use the same random folds\r\n",
        "\r\n",
        "    knn = KNeighborsClassifier(num_neighbors)\r\n",
        "    fold_errors = 1 - cross_val_score(knn, X_train, y_train, cv = 5)   # 5-fold CV\r\n",
        "    mean_fold_errors.append(np.mean(fold_errors))\r\n",
        "\r\n",
        "    print(\"\")\r\n",
        "    print(\"Num neighbors =\", num_neighbors)\r\n",
        "    print(\"K-fold CV errors:\", np.round(fold_errors, 3))\r\n",
        "    print(\"K-fold CV mean error:\", np.round(mean_fold_errors[-1], 3))"
      ],
      "execution_count": 44,
      "outputs": [
        {
          "output_type": "stream",
          "text": [
            "\n",
            "Num neighbors = 1\n",
            "K-fold CV errors: [0.325 0.481 0.404 0.346 0.468]\n",
            "K-fold CV mean error: 0.405\n",
            "\n",
            "Num neighbors = 2\n",
            "K-fold CV errors: [0.255 0.314 0.263 0.263 0.288]\n",
            "K-fold CV mean error: 0.277\n",
            "\n",
            "Num neighbors = 3\n",
            "K-fold CV errors: [0.318 0.378 0.353 0.308 0.372]\n",
            "K-fold CV mean error: 0.346\n",
            "\n",
            "Num neighbors = 4\n",
            "K-fold CV errors: [0.274 0.295 0.276 0.256 0.269]\n",
            "K-fold CV mean error: 0.274\n",
            "\n",
            "Num neighbors = 5\n",
            "K-fold CV errors: [0.318 0.314 0.301 0.263 0.308]\n",
            "K-fold CV mean error: 0.301\n",
            "\n",
            "Num neighbors = 6\n",
            "K-fold CV errors: [0.293 0.276 0.25  0.263 0.263]\n",
            "K-fold CV mean error: 0.269\n",
            "\n",
            "Num neighbors = 7\n",
            "K-fold CV errors: [0.293 0.295 0.276 0.288 0.276]\n",
            "K-fold CV mean error: 0.286\n",
            "\n",
            "Num neighbors = 8\n",
            "K-fold CV errors: [0.261 0.276 0.256 0.256 0.269]\n",
            "K-fold CV mean error: 0.264\n",
            "\n",
            "Num neighbors = 9\n",
            "K-fold CV errors: [0.299 0.282 0.263 0.269 0.288]\n",
            "K-fold CV mean error: 0.28\n",
            "\n",
            "Num neighbors = 10\n",
            "K-fold CV errors: [0.268 0.282 0.25  0.256 0.25 ]\n",
            "K-fold CV mean error: 0.261\n",
            "\n",
            "Num neighbors = 11\n",
            "K-fold CV errors: [0.28  0.282 0.25  0.256 0.295]\n",
            "K-fold CV mean error: 0.273\n",
            "\n",
            "Num neighbors = 12\n",
            "K-fold CV errors: [0.261 0.276 0.244 0.256 0.263]\n",
            "K-fold CV mean error: 0.26\n",
            "\n",
            "Num neighbors = 13\n",
            "K-fold CV errors: [0.261 0.276 0.256 0.256 0.288]\n",
            "K-fold CV mean error: 0.268\n",
            "\n",
            "Num neighbors = 14\n",
            "K-fold CV errors: [0.255 0.263 0.25  0.263 0.244]\n",
            "K-fold CV mean error: 0.255\n",
            "\n",
            "Num neighbors = 15\n",
            "K-fold CV errors: [0.255 0.269 0.256 0.263 0.269]\n",
            "K-fold CV mean error: 0.262\n",
            "\n",
            "Num neighbors = 16\n",
            "K-fold CV errors: [0.255 0.256 0.263 0.25  0.244]\n",
            "K-fold CV mean error: 0.254\n",
            "\n",
            "Num neighbors = 17\n",
            "K-fold CV errors: [0.255 0.263 0.256 0.256 0.25 ]\n",
            "K-fold CV mean error: 0.256\n",
            "\n",
            "Num neighbors = 18\n",
            "K-fold CV errors: [0.248 0.256 0.256 0.25  0.244]\n",
            "K-fold CV mean error: 0.251\n",
            "\n",
            "Num neighbors = 19\n",
            "K-fold CV errors: [0.248 0.256 0.256 0.25  0.256]\n",
            "K-fold CV mean error: 0.254\n",
            "\n",
            "Num neighbors = 20\n",
            "K-fold CV errors: [0.248 0.25  0.256 0.25  0.244]\n",
            "K-fold CV mean error: 0.25\n",
            "\n",
            "Num neighbors = 21\n",
            "K-fold CV errors: [0.248 0.256 0.263 0.25  0.25 ]\n",
            "K-fold CV mean error: 0.254\n",
            "\n",
            "Num neighbors = 22\n",
            "K-fold CV errors: [0.248 0.256 0.256 0.25  0.244]\n",
            "K-fold CV mean error: 0.251\n",
            "\n",
            "Num neighbors = 23\n",
            "K-fold CV errors: [0.248 0.25  0.256 0.25  0.25 ]\n",
            "K-fold CV mean error: 0.251\n",
            "\n",
            "Num neighbors = 24\n",
            "K-fold CV errors: [0.248 0.25  0.263 0.25  0.25 ]\n",
            "K-fold CV mean error: 0.252\n",
            "\n",
            "Num neighbors = 25\n",
            "K-fold CV errors: [0.248 0.256 0.263 0.25  0.25 ]\n",
            "K-fold CV mean error: 0.254\n",
            "\n",
            "Num neighbors = 26\n",
            "K-fold CV errors: [0.248 0.25  0.256 0.25  0.244]\n",
            "K-fold CV mean error: 0.25\n",
            "\n",
            "Num neighbors = 27\n",
            "K-fold CV errors: [0.255 0.25  0.263 0.25  0.25 ]\n",
            "K-fold CV mean error: 0.254\n",
            "\n",
            "Num neighbors = 28\n",
            "K-fold CV errors: [0.248 0.25  0.256 0.25  0.25 ]\n",
            "K-fold CV mean error: 0.251\n",
            "\n",
            "Num neighbors = 29\n",
            "K-fold CV errors: [0.255 0.25  0.256 0.25  0.25 ]\n",
            "K-fold CV mean error: 0.252\n"
          ],
          "name": "stdout"
        }
      ]
    },
    {
      "cell_type": "code",
      "metadata": {
        "colab": {
          "base_uri": "https://localhost:8080/",
          "height": 283
        },
        "id": "IxjQiC5cVjNP",
        "outputId": "86e72486-e27c-4512-bd56-06d547169471"
      },
      "source": [
        "# plotting the error \r\n",
        "import matplotlib.pyplot as plt\r\n",
        "\r\n",
        "plt.plot(range(1,30), mean_fold_errors)\r\n",
        "plt.xticks(range(1, 30, 2))\r\n",
        "plt.xlabel('$K$ (Num Neighbors)')\r\n",
        "plt.ylabel('Mean CV Error')\r\n",
        "plt.show()"
      ],
      "execution_count": 45,
      "outputs": [
        {
          "output_type": "display_data",
          "data": {
            "image/png": "[encoded data removed]",
            "text/plain": [
              "<Figure size 432x288 with 1 Axes>"
            ]
          },
          "metadata": {
            "tags": [],
            "needs_background": "light"
          }
        }
      ]
    },
    {
      "cell_type": "code",
      "metadata": {
        "id": "lstEB4OXV31S"
      },
      "source": [
        "# error stabilizes when k = 23"
      ],
      "execution_count": null,
      "outputs": []
    },
    {
      "cell_type": "code",
      "metadata": {
        "colab": {
          "base_uri": "https://localhost:8080/"
        },
        "id": "JtEf4vWnV6je",
        "outputId": "3c5b5219-8c9c-4577-a5b1-c7c0fdbfa28c"
      },
      "source": [
        "# fitting the model with k = 23\r\n",
        "knn23 = KNeighborsClassifier(n_neighbors=23)\r\n",
        "knn23.fit(X_train, y_train)\r\n",
        "\r\n",
        "# testing the accuracy of the model\r\n",
        "prediction = knn23.predict(X_test)\r\n",
        "knn23.score(X_test, y_test)"
      ],
      "execution_count": 46,
      "outputs": [
        {
          "output_type": "execute_result",
          "data": {
            "text/plain": [
              "0.7397959183673469"
            ]
          },
          "metadata": {
            "tags": []
          },
          "execution_count": 46
        }
      ]
    },
    {
      "cell_type": "code",
      "metadata": {
        "colab": {
          "base_uri": "https://localhost:8080/",
          "height": 444
        },
        "id": "7xlNDVFIZF8O",
        "outputId": "3670c943-e913-40ef-cb06-f9d9e39c0b4d"
      },
      "source": [
        "from sklearn.metrics import accuracy_score, recall_score\r\n",
        "print(f'Accuracy = {accuracy_score(y_test, prediction):.2f}\\nRecall = {recall_score(y_test, prediction):.2f}\\n')\r\n",
        "cm = confusion_matrix(y_test, prediction)\r\n",
        "plt.figure(figsize=(8, 6))\r\n",
        "plt.title('Confusion Matrix', size=16)\r\n",
        "sns.heatmap(cm, annot=True, cmap='Blues');"
      ],
      "execution_count": 57,
      "outputs": [
        {
          "output_type": "stream",
          "text": [
            "Accuracy = 0.74\n",
            "Recall = 0.00\n",
            "\n"
          ],
          "name": "stdout"
        },
        {
          "output_type": "display_data",
          "data": {
            "image/png": "[encoded data removed]",
            "text/plain": [
              "<Figure size 576x432 with 2 Axes>"
            ]
          },
          "metadata": {
            "tags": [],
            "needs_background": "light"
          }
        }
      ]
    },
    {
      "cell_type": "code",
      "metadata": {
        "colab": {
          "base_uri": "https://localhost:8080/"
        },
        "id": "KLCTYKpnX-3j",
        "outputId": "1b96f2d3-9d03-42fb-a8fe-9a9cba8958e5"
      },
      "source": [
        "# How many are only children?\r\n",
        "print(f'''% Only child in Train = {np.round(y_train.value_counts(normalize=True)[1] * 100, 2)}\r\n",
        "% Only child in Test  = {np.round(y_test.value_counts(normalize=True)[1] * 100, 2)}''')"
      ],
      "execution_count": 52,
      "outputs": [
        {
          "output_type": "stream",
          "text": [
            "% Only child in Train = 24.84\n",
            "% Only child in Test  = 25.0\n"
          ],
          "name": "stdout"
        }
      ]
    },
    {
      "cell_type": "code",
      "metadata": {
        "colab": {
          "base_uri": "https://localhost:8080/"
        },
        "id": "EjYDDC-_Y7gM",
        "outputId": "9e226399-f154-4eb6-eff2-7080f8813353"
      },
      "source": [
        "# Data is pretty imbalanced, so let's fix that by using Synthetic Minority Oversampling Technique (aka SMOTE)\r\n",
        "\r\n",
        "from imblearn.over_sampling import SMOTE \r\n",
        "\r\n",
        "sm = SMOTE(random_state=42)\r\n",
        "\r\n",
        "X_sm, y_sm = sm.fit_resample(phobias, only_child)\r\n",
        "\r\n",
        "y_sm = pd.Series(y_sm)\r\n",
        "X_sm = pd.DataFrame(X_sm, columns = [\r\n",
        "    'Flying',\r\n",
        "    'Storm',\r\n",
        "    'Darkness',\r\n",
        "    'Heights',\r\n",
        "    'Spiders',\r\n",
        "    'Snakes',\r\n",
        "    'Rats',\r\n",
        "    'Ageing',\r\n",
        "    'Dangerous dogs',\r\n",
        "    'Fear of public speaking'\r\n",
        "])\r\n",
        "\r\n",
        "print(f'''Shape of X before SMOTE: {phobias.shape}\r\n",
        "Shape of X after SMOTE: {X_sm.shape}''')\r\n",
        "\r\n",
        "print('\\nBalance of positive and negative classes (%):')\r\n",
        "y_sm.value_counts(normalize=True) * 100"
      ],
      "execution_count": 67,
      "outputs": [
        {
          "output_type": "stream",
          "text": [
            "Shape of X before SMOTE: (977, 10)\n",
            "Shape of X after SMOTE: (1468, 10)\n",
            "\n",
            "Balance of positive and negative classes (%):\n"
          ],
          "name": "stdout"
        },
        {
          "output_type": "stream",
          "text": [
            "/usr/local/lib/python3.7/dist-packages/sklearn/utils/deprecation.py:87: FutureWarning: Function safe_indexing is deprecated; safe_indexing is deprecated in version 0.22 and will be removed in version 0.24.\n",
            "  warnings.warn(msg, category=FutureWarning)\n"
          ],
          "name": "stderr"
        },
        {
          "output_type": "execute_result",
          "data": {
            "text/plain": [
              "1    50.0\n",
              "0    50.0\n",
              "dtype: float64"
            ]
          },
          "metadata": {
            "tags": []
          },
          "execution_count": 67
        }
      ]
    },
    {
      "cell_type": "code",
      "metadata": {
        "colab": {
          "base_uri": "https://localhost:8080/"
        },
        "id": "M_cOxpQfbAQH",
        "outputId": "a0f0e423-f998-4c68-b684-101548e703e6"
      },
      "source": [
        "# splitting into train & test sets \r\n",
        "\r\n",
        "X_sm_train, X_sm_test, y_sm_train, y_sm_test = train_test_split(X_sm, y_sm, train_size = 0.8, random_state = 21)\r\n",
        "\r\n",
        "print(\"X_sm.shape:\", X_sm.shape)\r\n",
        "print(\"X_sm_train.shape:\", X_sm_train.shape)\r\n",
        "print(\"X_sm_test.shape: \", X_sm_test.shape)\r\n",
        "print(\"\")\r\n",
        "print(\"y_sm.shape:      \", y_sm.shape)\r\n",
        "print(\"y_sm_train.shape:\", y_sm_train.shape)\r\n",
        "print(\"y_sm_test.shape: \", y_sm_test.shape)\r\n",
        "print(\"\")"
      ],
      "execution_count": 69,
      "outputs": [
        {
          "output_type": "stream",
          "text": [
            "X_sm.shape: (1468, 10)\n",
            "X_sm_train.shape: (1174, 10)\n",
            "X_sm_test.shape:  (294, 10)\n",
            "\n",
            "y_sm.shape:       (1468,)\n",
            "y_sm_train.shape: (1174,)\n",
            "y_sm_test.shape:  (294,)\n",
            "\n"
          ],
          "name": "stdout"
        }
      ]
    },
    {
      "cell_type": "code",
      "metadata": {
        "colab": {
          "base_uri": "https://localhost:8080/"
        },
        "id": "xdq_yzmbe261",
        "outputId": "a8071beb-c746-4563-ad87-fddacb1156bc"
      },
      "source": [
        "# k = 3\r\n",
        "knn3 = KNeighborsClassifier(n_neighbors=3)\r\n",
        "knn3.fit(X_sm_train, y_sm_train)\r\n",
        "\r\n",
        "# testing the accuracy of the model\r\n",
        "prediction = knn3.predict(X_sm_test)\r\n",
        "knn3.score(X_sm_test, y_sm_test)"
      ],
      "execution_count": 70,
      "outputs": [
        {
          "output_type": "execute_result",
          "data": {
            "text/plain": [
              "0.7074829931972789"
            ]
          },
          "metadata": {
            "tags": []
          },
          "execution_count": 70
        }
      ]
    },
    {
      "cell_type": "code",
      "metadata": {
        "colab": {
          "base_uri": "https://localhost:8080/"
        },
        "id": "Tgot_Q7Me9u3",
        "outputId": "6c055d75-8ca3-4c55-a53b-60926627307b"
      },
      "source": [
        "# k = 5\r\n",
        "knn5 = KNeighborsClassifier(n_neighbors=5)\r\n",
        "knn5.fit(X_sm_train, y_sm_train)\r\n",
        "\r\n",
        "# testing the accuracy of the model\r\n",
        "prediction = knn5.predict(X_sm_test)\r\n",
        "knn5.score(X_sm_test, y_sm_test)"
      ],
      "execution_count": 73,
      "outputs": [
        {
          "output_type": "execute_result",
          "data": {
            "text/plain": [
              "0.7380952380952381"
            ]
          },
          "metadata": {
            "tags": []
          },
          "execution_count": 73
        }
      ]
    },
    {
      "cell_type": "code",
      "metadata": {
        "colab": {
          "base_uri": "https://localhost:8080/"
        },
        "id": "Bd53mn6vfHqn",
        "outputId": "3df66848-0bd1-42d2-d12a-5b6e5ecd0da8"
      },
      "source": [
        "# confusion matrices\r\n",
        "\r\n",
        "print(\"K=3, confusion matrix:\")\r\n",
        "print(confusion_matrix(y_sm_train, knn3.predict(X_sm_train)))\r\n",
        "print(\"\")\r\n",
        "print(\"K=5, confusion matrix:\")\r\n",
        "print(confusion_matrix(y_sm_train, knn5.predict(X_sm_train)))"
      ],
      "execution_count": 75,
      "outputs": [
        {
          "output_type": "stream",
          "text": [
            "K=3, confusion matrix:\n",
            "[[425 146]\n",
            " [ 22 581]]\n",
            "\n",
            "K=5, confusion matrix:\n",
            "[[375 196]\n",
            " [ 43 560]]\n"
          ],
          "name": "stdout"
        }
      ]
    },
    {
      "cell_type": "code",
      "metadata": {
        "colab": {
          "base_uri": "https://localhost:8080/"
        },
        "id": "1vR9RKFxfZbV",
        "outputId": "7db7009f-b170-4984-bc76-0a740072fe91"
      },
      "source": [
        "# 5-fold cross-validation to find the best k\r\n",
        "\r\n",
        "mean_fold_errors = []\r\n",
        "\r\n",
        "# we want k < sqrt(1468) - so approx less than 38\r\n",
        "for num_neighbors in range(1, 38):\r\n",
        "    np.random.seed(0)   # to ensure we use the same random folds\r\n",
        "\r\n",
        "    knn = KNeighborsClassifier(num_neighbors)\r\n",
        "    fold_errors = 1 - cross_val_score(knn, X_train, y_train, cv = 5)   # 5-fold CV\r\n",
        "    mean_fold_errors.append(np.mean(fold_errors))\r\n",
        "\r\n",
        "    print(\"\")\r\n",
        "    print(\"Num neighbors =\", num_neighbors)\r\n",
        "    print(\"K-fold CV errors:\", np.round(fold_errors, 3))\r\n",
        "    print(\"K-fold CV mean error:\", np.round(mean_fold_errors[-1], 3))"
      ],
      "execution_count": 76,
      "outputs": [
        {
          "output_type": "stream",
          "text": [
            "\n",
            "Num neighbors = 1\n",
            "K-fold CV errors: [0.325 0.481 0.404 0.346 0.468]\n",
            "K-fold CV mean error: 0.405\n",
            "\n",
            "Num neighbors = 2\n",
            "K-fold CV errors: [0.255 0.314 0.263 0.263 0.288]\n",
            "K-fold CV mean error: 0.277\n",
            "\n",
            "Num neighbors = 3\n",
            "K-fold CV errors: [0.318 0.378 0.353 0.308 0.372]\n",
            "K-fold CV mean error: 0.346\n",
            "\n",
            "Num neighbors = 4\n",
            "K-fold CV errors: [0.274 0.295 0.276 0.256 0.269]\n",
            "K-fold CV mean error: 0.274\n",
            "\n",
            "Num neighbors = 5\n",
            "K-fold CV errors: [0.318 0.314 0.301 0.263 0.308]\n",
            "K-fold CV mean error: 0.301\n",
            "\n",
            "Num neighbors = 6\n",
            "K-fold CV errors: [0.293 0.276 0.25  0.263 0.263]\n",
            "K-fold CV mean error: 0.269\n",
            "\n",
            "Num neighbors = 7\n",
            "K-fold CV errors: [0.293 0.295 0.276 0.288 0.276]\n",
            "K-fold CV mean error: 0.286\n",
            "\n",
            "Num neighbors = 8\n",
            "K-fold CV errors: [0.261 0.276 0.256 0.256 0.269]\n",
            "K-fold CV mean error: 0.264\n",
            "\n",
            "Num neighbors = 9\n",
            "K-fold CV errors: [0.299 0.282 0.263 0.269 0.288]\n",
            "K-fold CV mean error: 0.28\n",
            "\n",
            "Num neighbors = 10\n",
            "K-fold CV errors: [0.268 0.282 0.25  0.256 0.25 ]\n",
            "K-fold CV mean error: 0.261\n",
            "\n",
            "Num neighbors = 11\n",
            "K-fold CV errors: [0.28  0.282 0.25  0.256 0.295]\n",
            "K-fold CV mean error: 0.273\n",
            "\n",
            "Num neighbors = 12\n",
            "K-fold CV errors: [0.261 0.276 0.244 0.256 0.263]\n",
            "K-fold CV mean error: 0.26\n",
            "\n",
            "Num neighbors = 13\n",
            "K-fold CV errors: [0.261 0.276 0.256 0.256 0.288]\n",
            "K-fold CV mean error: 0.268\n",
            "\n",
            "Num neighbors = 14\n",
            "K-fold CV errors: [0.255 0.263 0.25  0.263 0.244]\n",
            "K-fold CV mean error: 0.255\n",
            "\n",
            "Num neighbors = 15\n",
            "K-fold CV errors: [0.255 0.269 0.256 0.263 0.269]\n",
            "K-fold CV mean error: 0.262\n",
            "\n",
            "Num neighbors = 16\n",
            "K-fold CV errors: [0.255 0.256 0.263 0.25  0.244]\n",
            "K-fold CV mean error: 0.254\n",
            "\n",
            "Num neighbors = 17\n",
            "K-fold CV errors: [0.255 0.263 0.256 0.256 0.25 ]\n",
            "K-fold CV mean error: 0.256\n",
            "\n",
            "Num neighbors = 18\n",
            "K-fold CV errors: [0.248 0.256 0.256 0.25  0.244]\n",
            "K-fold CV mean error: 0.251\n",
            "\n",
            "Num neighbors = 19\n",
            "K-fold CV errors: [0.248 0.256 0.256 0.25  0.256]\n",
            "K-fold CV mean error: 0.254\n",
            "\n",
            "Num neighbors = 20\n",
            "K-fold CV errors: [0.248 0.25  0.256 0.25  0.244]\n",
            "K-fold CV mean error: 0.25\n",
            "\n",
            "Num neighbors = 21\n",
            "K-fold CV errors: [0.248 0.256 0.263 0.25  0.25 ]\n",
            "K-fold CV mean error: 0.254\n",
            "\n",
            "Num neighbors = 22\n",
            "K-fold CV errors: [0.248 0.256 0.256 0.25  0.244]\n",
            "K-fold CV mean error: 0.251\n",
            "\n",
            "Num neighbors = 23\n",
            "K-fold CV errors: [0.248 0.25  0.256 0.25  0.25 ]\n",
            "K-fold CV mean error: 0.251\n",
            "\n",
            "Num neighbors = 24\n",
            "K-fold CV errors: [0.248 0.25  0.263 0.25  0.25 ]\n",
            "K-fold CV mean error: 0.252\n",
            "\n",
            "Num neighbors = 25\n",
            "K-fold CV errors: [0.248 0.256 0.263 0.25  0.25 ]\n",
            "K-fold CV mean error: 0.254\n",
            "\n",
            "Num neighbors = 26\n",
            "K-fold CV errors: [0.248 0.25  0.256 0.25  0.244]\n",
            "K-fold CV mean error: 0.25\n",
            "\n",
            "Num neighbors = 27\n",
            "K-fold CV errors: [0.255 0.25  0.263 0.25  0.25 ]\n",
            "K-fold CV mean error: 0.254\n",
            "\n",
            "Num neighbors = 28\n",
            "K-fold CV errors: [0.248 0.25  0.256 0.25  0.25 ]\n",
            "K-fold CV mean error: 0.251\n",
            "\n",
            "Num neighbors = 29\n",
            "K-fold CV errors: [0.255 0.25  0.256 0.25  0.25 ]\n",
            "K-fold CV mean error: 0.252\n",
            "\n",
            "Num neighbors = 30\n",
            "K-fold CV errors: [0.248 0.25  0.256 0.25  0.25 ]\n",
            "K-fold CV mean error: 0.251\n",
            "\n",
            "Num neighbors = 31\n",
            "K-fold CV errors: [0.248 0.25  0.256 0.25  0.25 ]\n",
            "K-fold CV mean error: 0.251\n",
            "\n",
            "Num neighbors = 32\n",
            "K-fold CV errors: [0.255 0.25  0.25  0.25  0.25 ]\n",
            "K-fold CV mean error: 0.251\n",
            "\n",
            "Num neighbors = 33\n",
            "K-fold CV errors: [0.248 0.25  0.256 0.25  0.25 ]\n",
            "K-fold CV mean error: 0.251\n",
            "\n",
            "Num neighbors = 34\n",
            "K-fold CV errors: [0.248 0.25  0.25  0.25  0.25 ]\n",
            "K-fold CV mean error: 0.25\n",
            "\n",
            "Num neighbors = 35\n",
            "K-fold CV errors: [0.248 0.25  0.25  0.25  0.25 ]\n",
            "K-fold CV mean error: 0.25\n",
            "\n",
            "Num neighbors = 36\n",
            "K-fold CV errors: [0.248 0.25  0.25  0.25  0.25 ]\n",
            "K-fold CV mean error: 0.25\n",
            "\n",
            "Num neighbors = 37\n",
            "K-fold CV errors: [0.248 0.25  0.25  0.25  0.25 ]\n",
            "K-fold CV mean error: 0.25\n"
          ],
          "name": "stdout"
        }
      ]
    },
    {
      "cell_type": "code",
      "metadata": {
        "colab": {
          "base_uri": "https://localhost:8080/",
          "height": 283
        },
        "id": "uqDs-k8pf3DO",
        "outputId": "72315193-3e1a-4f34-e4f5-d2707546a193"
      },
      "source": [
        "# plotting the error \r\n",
        "\r\n",
        "plt.plot(range(1,38), mean_fold_errors)\r\n",
        "plt.xticks(range(1, 38, 2))\r\n",
        "plt.xlabel('$K$ (Num Neighbors)')\r\n",
        "plt.ylabel('Mean CV Error')\r\n",
        "plt.show()"
      ],
      "execution_count": 77,
      "outputs": [
        {
          "output_type": "display_data",
          "data": {
            "image/png": "[encoded data removed]",
            "text/plain": [
              "<Figure size 432x288 with 1 Axes>"
            ]
          },
          "metadata": {
            "tags": [],
            "needs_background": "light"
          }
        }
      ]
    },
    {
      "cell_type": "code",
      "metadata": {
        "id": "FxtHe8aLgBFV"
      },
      "source": [
        "# error stabilizes when k = 35"
      ],
      "execution_count": null,
      "outputs": []
    },
    {
      "cell_type": "code",
      "metadata": {
        "colab": {
          "base_uri": "https://localhost:8080/"
        },
        "id": "G86EPCUkgDFC",
        "outputId": "c534486e-ff60-4dd5-8a30-8748391ac40f"
      },
      "source": [
        "# fitting the model with k = 35\r\n",
        "knn35 = KNeighborsClassifier(n_neighbors=35)\r\n",
        "knn35.fit(X_sm_train, y_sm_train)\r\n",
        "\r\n",
        "# testing the accuracy of the model\r\n",
        "prediction = knn35.predict(X_sm_test)\r\n",
        "knn35.score(X_sm_test, y_sm_test)"
      ],
      "execution_count": 78,
      "outputs": [
        {
          "output_type": "execute_result",
          "data": {
            "text/plain": [
              "0.6054421768707483"
            ]
          },
          "metadata": {
            "tags": []
          },
          "execution_count": 78
        }
      ]
    },
    {
      "cell_type": "code",
      "metadata": {
        "colab": {
          "base_uri": "https://localhost:8080/",
          "height": 444
        },
        "id": "HD9SfHChgovi",
        "outputId": "973cc0ab-3ee0-4dda-bcef-428608ee33a6"
      },
      "source": [
        "print(f'Accuracy = {accuracy_score(y_sm_test, prediction):.2f}\\nRecall = {recall_score(y_sm_test, prediction):.2f}\\n')\r\n",
        "cm = confusion_matrix(y_sm_test, prediction)\r\n",
        "plt.figure(figsize=(8, 6))\r\n",
        "plt.title('Confusion Matrix', size=16)\r\n",
        "sns.heatmap(cm, annot=True, cmap='Blues');"
      ],
      "execution_count": 80,
      "outputs": [
        {
          "output_type": "stream",
          "text": [
            "Accuracy = 0.61\n",
            "Recall = 0.87\n",
            "\n"
          ],
          "name": "stdout"
        },
        {
          "output_type": "display_data",
          "data": {
            "image/png": "[encoded data removed]",
            "text/plain": [
              "<Figure size 576x432 with 2 Axes>"
            ]
          },
          "metadata": {
            "tags": [],
            "needs_background": "light"
          }
        }
      ]
    }
  ]
}